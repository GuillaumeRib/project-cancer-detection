{
 "cells": [
  {
   "cell_type": "markdown",
   "metadata": {},
   "source": [
    "# 1. Load the necessary libraries and dataframes"
   ]
  },
  {
   "cell_type": "code",
   "execution_count": 6,
   "metadata": {},
   "outputs": [],
   "source": [
    "import pandas as pd\n",
    "import numpy as np\n",
    "import os\n",
    "import shutil\n",
    "from os.path import exists"
   ]
  },
  {
   "cell_type": "code",
   "execution_count": 7,
   "metadata": {},
   "outputs": [],
   "source": [
    "# Define full path and load dataframe with the data\n",
    "full_path = '/home/jari/code/GuillaumeRib/project-cancer-detection/raw_data/'\n",
    "\n",
    "labels_test = pd.read_csv(os.path.join(full_path,'test/labels_test.csv'), names=['id'])\n",
    "labels_test_0 = pd.read_csv(os.path.join(full_path,'test/0/labels_test_0.csv'), names=['id'])\n",
    "labels_test_1 = pd.read_csv(os.path.join(full_path,'test/1/labels_test_1.csv'), names=['id'])\n",
    "labels_train_0 = pd.read_csv(os.path.join(full_path,'train/0/labels_train_0.csv'), names=['id'])\n",
    "labels_train_1 = pd.read_csv(os.path.join(full_path,'train/1/labels_train_1.csv'), names=['id'])"
   ]
  },
  {
   "cell_type": "markdown",
   "metadata": {},
   "source": [
    "# 2. Analyze the datasets"
   ]
  },
  {
   "cell_type": "code",
   "execution_count": 8,
   "metadata": {},
   "outputs": [
    {
     "name": "stdout",
     "output_type": "stream",
     "text": [
      "Test dataset size: 45587\n",
      "Test dataset for label=0 size: 27123\n",
      "Test dataset for label=1 size: 18465\n",
      "Train dataset for label=0 size: 70654\n",
      "Train dataset for label=1 size: 70654\n"
     ]
    }
   ],
   "source": [
    "test_size = labels_test.shape[0]\n",
    "test_0_size = labels_test_0.shape[0]\n",
    "test_1_size = labels_test_1.shape[0]\n",
    "train_0_size = labels_train_0.shape[0]\n",
    "train_1_size = labels_train_1.shape[0]\n",
    "\n",
    "print('Test dataset size:',test_size)\n",
    "print('Test dataset for label=0 size:',test_0_size)\n",
    "print('Test dataset for label=1 size:',test_1_size)\n",
    "print('Train dataset for label=0 size:',train_0_size)\n",
    "print('Train dataset for label=1 size:',train_1_size)"
   ]
  },
  {
   "cell_type": "code",
   "execution_count": 9,
   "metadata": {},
   "outputs": [
    {
     "name": "stdout",
     "output_type": "stream",
     "text": [
      "We need 1239 images from the test/0 directory for our new test_small dataset\n",
      "We need 861 images from the test/1 directory for our new test_small dataset\n",
      "We need 3950 images from the train/0 directory for our new train_small dataset\n",
      "We need 3950 images from the train/1 directory for our new train_small dataset\n"
     ]
    }
   ],
   "source": [
    "ratio_test_train = 0.21 # test size respect to train size\n",
    "ratio_labels_train = 0.5 # labels dsitribution for train\n",
    "\n",
    "small_dataset_size = 10000 # size of our new small dataset\n",
    "test_small_size = int(np.round(small_dataset_size * ratio_test_train,0)) # size of new small test set\n",
    "test_0_small_size = int(np.round(test_small_size * 0.59,0)) # test images with label=0 in new small tes set\n",
    "test_1_small_size = int(np.round(test_small_size * 0.41,0)) # test images with label=1 in new small test set\n",
    "train_small_size = small_dataset_size - test_small_size # size of new small train set\n",
    "train_0_small_size = int(np.round(train_small_size * ratio_labels_train)) # images with label=0 in new small train set\n",
    "train_1_small_size = int(np.round(train_small_size * ratio_labels_train)) # images with label=0 in new small train set\n",
    "\n",
    "print(f'We need {test_0_small_size} images from the test/0 directory for our new test_small dataset')\n",
    "print(f'We need {test_1_small_size} images from the test/1 directory for our new test_small dataset')\n",
    "print(f'We need {train_0_small_size} images from the train/0 directory for our new train_small dataset')\n",
    "print(f'We need {train_1_small_size} images from the train/1 directory for our new train_small dataset')"
   ]
  },
  {
   "cell_type": "markdown",
   "metadata": {},
   "source": [
    "# 3. Select the data"
   ]
  },
  {
   "cell_type": "markdown",
   "metadata": {},
   "source": [
    "## 3.1 Create small dataframes"
   ]
  },
  {
   "cell_type": "code",
   "execution_count": 10,
   "metadata": {},
   "outputs": [],
   "source": [
    "test_0_small = labels_test_0.sample(random_state=42, n=test_0_small_size)\n",
    "test_1_small = labels_test_1.sample(random_state=42, n=test_1_small_size)\n",
    "train_0_small = labels_train_0.sample(random_state=42, n=train_0_small_size)\n",
    "train_1_small = labels_train_1.sample(random_state=42, n=train_1_small_size)"
   ]
  },
  {
   "cell_type": "markdown",
   "metadata": {},
   "source": [
    "## 3.2 Copy selected images to new (small) directories"
   ]
  },
  {
   "cell_type": "markdown",
   "metadata": {},
   "source": [
    "### 3.2.1 Test small:"
   ]
  },
  {
   "cell_type": "code",
   "execution_count": 11,
   "metadata": {},
   "outputs": [],
   "source": [
    "test_0_small_ids = test_0_small['id']\n",
    "test_1_small_ids = test_1_small['id']"
   ]
  },
  {
   "cell_type": "code",
   "execution_count": 13,
   "metadata": {},
   "outputs": [],
   "source": [
    "input_test_0 = os.path.join(full_path,'test/0')\n",
    "input_test_1 = os.path.join(full_path,'test/1')\n",
    "\n",
    "os.mkdir('../raw_data/test/test_small/') # run only the first time to create the directory\n",
    "os.mkdir('../raw_data/test/test_small/0_small') # run only the first time to create the directory\n",
    "os.mkdir('../raw_data/test/test_small/1_small') # run only the first time to create the directory\n",
    "\n",
    "output_test_0 = os.path.join(full_path,'test/test_small/0_small')\n",
    "output_test_1 = os.path.join(full_path,'test/test_small/1_small')\n",
    "\n",
    "for item in test_0_small_ids:\n",
    "    shutil.copy(os.path.join(input_test_0,item),output_test_0)\n",
    "for item in test_1_small_ids:\n",
    "    shutil.copy(os.path.join(input_test_1,item),output_test_1)"
   ]
  },
  {
   "cell_type": "markdown",
   "metadata": {},
   "source": [
    "### 3.2.2 Train small:"
   ]
  },
  {
   "cell_type": "code",
   "execution_count": 14,
   "metadata": {},
   "outputs": [],
   "source": [
    "train_0_small_ids = train_0_small['id']\n",
    "train_1_small_ids = train_1_small['id']"
   ]
  },
  {
   "cell_type": "code",
   "execution_count": 15,
   "metadata": {},
   "outputs": [],
   "source": [
    "input_train_0 = os.path.join(full_path,'train/0')\n",
    "input_train_1 = os.path.join(full_path,'train/1')\n",
    "\n",
    "os.mkdir('../raw_data/train/train_small/') # run only the first time to create the directory\n",
    "os.mkdir('../raw_data/train/train_small/0_small') # run only the first time to create the directory\n",
    "os.mkdir('../raw_data/train/train_small/1_small') # run only the first time to create the directory\n",
    "\n",
    "output_train_0 = os.path.join(full_path,'train/train_small/0_small')\n",
    "output_train_1 = os.path.join(full_path,'train/train_small/1_small')\n",
    "\n",
    "for item in train_0_small_ids:\n",
    "    shutil.copy(os.path.join(input_train_0,item),output_train_0)\n",
    "for item in train_1_small_ids:\n",
    "    shutil.copy(os.path.join(input_train_1,item),output_train_1)"
   ]
  },
  {
   "cell_type": "markdown",
   "metadata": {},
   "source": [
    "# 4. Additional"
   ]
  },
  {
   "cell_type": "markdown",
   "metadata": {},
   "source": [
    "#### For convenience we shall also create a '.csv' file in each directory with the image ids for future use:"
   ]
  },
  {
   "cell_type": "code",
   "execution_count": 16,
   "metadata": {},
   "outputs": [],
   "source": [
    "# Test for label=0\n",
    "path_test_0 = '../raw_data/test/test_small/0_small'\n",
    "labels_test_0 = os.listdir(path_test_0)\n",
    "test_0_df = pd.DataFrame(labels_test_0)\n",
    "test_0_df.to_csv(os.path.join(path_test_0,'labels_test_0_small.csv'), index = False)\n",
    "\n",
    "# Test for label=1\n",
    "path_test_1 = '../raw_data/test/test_small/1_small'\n",
    "labels_test_1 = os.listdir(path_test_1)\n",
    "test_1_df = pd.DataFrame(labels_test_1)\n",
    "test_1_df.to_csv(os.path.join(path_test_1,'labels_test_1_small.csv'), index = False)\n",
    "\n",
    "# Test all\n",
    "test_df = pd.concat([test_0_df,test_1_df], ignore_index=True)\n",
    "test_df.to_csv(os.path.join('../raw_data/test/test_small/labels_test_small.csv'), index = False)\n",
    "\n",
    "# Train for label=0\n",
    "path_train_0 = '../raw_data/train/train_small/0_small'\n",
    "labels_train_0 = os.listdir(path_train_0)\n",
    "train_0_df = pd.DataFrame(labels_train_0)\n",
    "train_0_df.to_csv(os.path.join(path_train_0,'labels_train_0_small.csv'), index = False)\n",
    "\n",
    "# Train for label=1\n",
    "path_train_1 = '../raw_data/train/train_small/1_small'\n",
    "labels_train_1 = os.listdir(path_train_1)\n",
    "train_1_df = pd.DataFrame(labels_train_1)\n",
    "train_1_df.to_csv(os.path.join(path_train_1,'labels_train_1_small.csv'), index = False)\n",
    "\n",
    "# Train all\n",
    "train_df = pd.concat([train_0_df,train_1_df], ignore_index=True)\n",
    "train_df.to_csv(os.path.join('../raw_data/train/train_small/labels_train_small.csv'), index = False)"
   ]
  },
  {
   "cell_type": "markdown",
   "metadata": {},
   "source": [
    "#### We can check if we have the right amount of files in each directory by entering the directory through the terminal and typping:"
   ]
  },
  {
   "cell_type": "markdown",
   "metadata": {},
   "source": [
    "ls | wc -l"
   ]
  },
  {
   "cell_type": "markdown",
   "metadata": {},
   "source": [
    "#### In directory 'test_small/0_small' we should have this many files:"
   ]
  },
  {
   "cell_type": "code",
   "execution_count": 17,
   "metadata": {},
   "outputs": [
    {
     "data": {
      "text/plain": [
       "1239"
      ]
     },
     "execution_count": 17,
     "metadata": {},
     "output_type": "execute_result"
    }
   ],
   "source": [
    "test_0_small_size\n",
    "# We will have one more element in the count because of the .csv file"
   ]
  },
  {
   "cell_type": "markdown",
   "metadata": {},
   "source": [
    "#### In directory 'test_small/1_small' we should have this many files:"
   ]
  },
  {
   "cell_type": "code",
   "execution_count": 18,
   "metadata": {},
   "outputs": [
    {
     "data": {
      "text/plain": [
       "861"
      ]
     },
     "execution_count": 18,
     "metadata": {},
     "output_type": "execute_result"
    }
   ],
   "source": [
    "test_1_small_size\n",
    "# We will have one more element in the count because of the .csv file"
   ]
  },
  {
   "cell_type": "markdown",
   "metadata": {},
   "source": [
    "#### In directory 'train/0_small' we should have this many files:"
   ]
  },
  {
   "cell_type": "code",
   "execution_count": 19,
   "metadata": {},
   "outputs": [
    {
     "data": {
      "text/plain": [
       "3950"
      ]
     },
     "execution_count": 19,
     "metadata": {},
     "output_type": "execute_result"
    }
   ],
   "source": [
    "train_0_small_size\n",
    "# We will have one more element in the count because of the .csv file"
   ]
  },
  {
   "cell_type": "markdown",
   "metadata": {},
   "source": [
    "#### In directory 'train/1_small' we should have this many files:"
   ]
  },
  {
   "cell_type": "code",
   "execution_count": 20,
   "metadata": {},
   "outputs": [
    {
     "data": {
      "text/plain": [
       "3950"
      ]
     },
     "execution_count": 20,
     "metadata": {},
     "output_type": "execute_result"
    }
   ],
   "source": [
    "train_1_small_size\n",
    "# We will have one more element in the count because of the .csv file"
   ]
  },
  {
   "cell_type": "code",
   "execution_count": 31,
   "metadata": {},
   "outputs": [
    {
     "data": {
      "text/plain": [
       "False    861\n",
       "dtype: int64"
      ]
     },
     "execution_count": 31,
     "metadata": {},
     "output_type": "execute_result"
    }
   ],
   "source": [
    "pd.DataFrame(test_1_df[0].isin(train_1_df[0])).value_counts()"
   ]
  },
  {
   "cell_type": "code",
   "execution_count": null,
   "metadata": {},
   "outputs": [],
   "source": []
  }
 ],
 "metadata": {
  "kernelspec": {
   "display_name": "Python 3.8.12 64-bit ('shims')",
   "language": "python",
   "name": "python3"
  },
  "language_info": {
   "codemirror_mode": {
    "name": "ipython",
    "version": 3
   },
   "file_extension": ".py",
   "mimetype": "text/x-python",
   "name": "python",
   "nbconvert_exporter": "python",
   "pygments_lexer": "ipython3",
   "version": "3.8.12"
  },
  "orig_nbformat": 4,
  "vscode": {
   "interpreter": {
    "hash": "4c1a4eb9908e0f18f8bc0ca376a7490ca23df4d1e24f62836cb8a41fb5095f26"
   }
  }
 },
 "nbformat": 4,
 "nbformat_minor": 2
}
