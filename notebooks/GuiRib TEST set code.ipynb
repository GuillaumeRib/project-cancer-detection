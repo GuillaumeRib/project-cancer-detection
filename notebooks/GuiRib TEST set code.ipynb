{
 "cells": [
  {
   "cell_type": "markdown",
   "id": "a2acdccd-35db-480b-9df0-0e29cddc1134",
   "metadata": {},
   "source": [
    "# From train original data to Train_balanced / Test_59_41"
   ]
  },
  {
   "cell_type": "code",
   "execution_count": 2,
   "id": "76073663-e23a-4311-840e-32a6097f178a",
   "metadata": {},
   "outputs": [],
   "source": [
    "import pandas as pd\n",
    "import numpy as np\n",
    "import os\n",
    "import shutil\n",
    "from os.path import exists"
   ]
  },
  {
   "cell_type": "code",
   "execution_count": 3,
   "id": "b00a3e4c-bceb-4171-b319-26ad541351a0",
   "metadata": {},
   "outputs": [
    {
     "data": {
      "text/plain": [
       "220025"
      ]
     },
     "execution_count": 3,
     "metadata": {},
     "output_type": "execute_result"
    }
   ],
   "source": [
    "# Define full path and load dataframe with the original data\n",
    "source_path = '/home/chloeguillaume/code/GuillaumeRib/project-cancer-detection/raw_data/train/'\n",
    "labels = pd.read_csv('../raw_data/train_labels.csv')\n",
    "total_images = labels['id'].nunique()\n",
    "total_images"
   ]
  },
  {
   "cell_type": "code",
   "execution_count": 4,
   "id": "bdd10a41-c9a6-4886-8bf9-209fa9dadc1d",
   "metadata": {},
   "outputs": [
    {
     "data": {
      "text/html": [
       "<div>\n",
       "<style scoped>\n",
       "    .dataframe tbody tr th:only-of-type {\n",
       "        vertical-align: middle;\n",
       "    }\n",
       "\n",
       "    .dataframe tbody tr th {\n",
       "        vertical-align: top;\n",
       "    }\n",
       "\n",
       "    .dataframe thead th {\n",
       "        text-align: right;\n",
       "    }\n",
       "</style>\n",
       "<table border=\"1\" class=\"dataframe\">\n",
       "  <thead>\n",
       "    <tr style=\"text-align: right;\">\n",
       "      <th></th>\n",
       "      <th>id</th>\n",
       "    </tr>\n",
       "    <tr>\n",
       "      <th>label</th>\n",
       "      <th></th>\n",
       "    </tr>\n",
       "  </thead>\n",
       "  <tbody>\n",
       "    <tr>\n",
       "      <th>0</th>\n",
       "      <td>130908</td>\n",
       "    </tr>\n",
       "    <tr>\n",
       "      <th>1</th>\n",
       "      <td>89117</td>\n",
       "    </tr>\n",
       "  </tbody>\n",
       "</table>\n",
       "</div>"
      ],
      "text/plain": [
       "           id\n",
       "label        \n",
       "0      130908\n",
       "1       89117"
      ]
     },
     "execution_count": 4,
     "metadata": {},
     "output_type": "execute_result"
    }
   ],
   "source": [
    "total_count_labels = labels.groupby(by='label').count()\n",
    "total_count_labels"
   ]
  },
  {
   "cell_type": "code",
   "execution_count": 5,
   "id": "3afc0a7c-ccce-4027-bb19-5800ff0ff106",
   "metadata": {},
   "outputs": [
    {
     "name": "stdout",
     "output_type": "stream",
     "text": [
      " prop 0: 0.5949687535507329 /prop 1: 0.40503124644926713\n"
     ]
    }
   ],
   "source": [
    "total_0 = total_count_labels.iloc[0][0]\n",
    "total_1 = total_count_labels.iloc[1][0]\n",
    "percent_0 = total_0 / total_images\n",
    "percent_1 = total_1 / total_images\n",
    "print(f' prop 0: {percent_0} /prop 1: {percent_1}')"
   ]
  },
  {
   "cell_type": "code",
   "execution_count": 6,
   "id": "d20245b3-0a14-42b1-94aa-38742c07976e",
   "metadata": {},
   "outputs": [
    {
     "data": {
      "text/plain": [
       "130908"
      ]
     },
     "execution_count": 6,
     "metadata": {},
     "output_type": "execute_result"
    }
   ],
   "source": [
    "total_0"
   ]
  },
  {
   "cell_type": "code",
   "execution_count": 7,
   "id": "46b47ba2-1bd6-425b-8295-c9cfd50bb15c",
   "metadata": {},
   "outputs": [
    {
     "data": {
      "text/plain": [
       "89117"
      ]
     },
     "execution_count": 7,
     "metadata": {},
     "output_type": "execute_result"
    }
   ],
   "source": [
    "total_1"
   ]
  },
  {
   "cell_type": "code",
   "execution_count": 36,
   "id": "306f8aad-bd92-43b8-b3fd-c4d25212f31a",
   "metadata": {},
   "outputs": [],
   "source": [
    "# Function to create TEST files\n",
    "split_perc = 0.2\n",
    "n_samp_0 = int(split_perc * total_0)\n",
    "n_samp_1 = int(split_perc * total_1)\n",
    "\n",
    "source_path_0 = '/Users/chloeguillaume/code/GuillaumeRib/project-cancer-detection/raw_data/train/0'\n",
    "destination_path_0 = '/Users/chloeguillaume/code/GuillaumeRib/project-cancer-detection/raw_data/TEST/0'\n",
    "\n",
    "source_path_1 = '/Users/chloeguillaume/code/GuillaumeRib/project-cancer-detection/raw_data/train/1'\n",
    "destination_path_1 = '/Users/chloeguillaume/code/GuillaumeRib/project-cancer-detection/raw_data/TEST/1'\n",
    "\n",
    "test_label_0 = labels[labels['label']==0].sample(n_samp_0,random_state=72)\n",
    "test_label_1 = labels[labels['label']==1].sample(n_samp_1,random_state=72)\n",
    "\n",
    "train_label_0 = labels[labels['label']==0].drop(test_label_0.index)\n",
    "train_label_1 = labels[labels['label']==1].drop(test_label_1.index)\n",
    "\n",
    "# Do it once\n",
    "# for index,row in test_label_0.reset_index().iterrows():\n",
    "#     file = row['id']\n",
    "#     source_file = os.path.join(source_path_0,file+'.tif')\n",
    "#     destination_file = os.path.join(destination_path_0,file+'.tif')\n",
    "#     shutil.move(source_file,destination_file)\n",
    "    \n",
    "# for index,row in test_label_1.reset_index().iterrows():\n",
    "#     file = row['id']\n",
    "#     source_file = os.path.join(source_path_1,file+'.tif')\n",
    "#     destination_file = os.path.join(destination_path_1,file+'.tif')\n",
    "#     shutil.move(source_file,destination_file)\n",
    "    \n"
   ]
  },
  {
   "cell_type": "code",
   "execution_count": 37,
   "id": "cfbd4b79-d6d4-41b4-ace0-2076e4ce0a1a",
   "metadata": {},
   "outputs": [
    {
     "data": {
      "text/html": [
       "<div>\n",
       "<style scoped>\n",
       "    .dataframe tbody tr th:only-of-type {\n",
       "        vertical-align: middle;\n",
       "    }\n",
       "\n",
       "    .dataframe tbody tr th {\n",
       "        vertical-align: top;\n",
       "    }\n",
       "\n",
       "    .dataframe thead th {\n",
       "        text-align: right;\n",
       "    }\n",
       "</style>\n",
       "<table border=\"1\" class=\"dataframe\">\n",
       "  <thead>\n",
       "    <tr style=\"text-align: right;\">\n",
       "      <th></th>\n",
       "      <th>id</th>\n",
       "      <th>label</th>\n",
       "    </tr>\n",
       "  </thead>\n",
       "  <tbody>\n",
       "    <tr>\n",
       "      <th>479</th>\n",
       "      <td>64abfa0ab14ac59c9d762155a760c887ba975144</td>\n",
       "      <td>0</td>\n",
       "    </tr>\n",
       "    <tr>\n",
       "      <th>205758</th>\n",
       "      <td>dcc8e2d650066710efea54c9e8bcb4fde8cd25e0</td>\n",
       "      <td>0</td>\n",
       "    </tr>\n",
       "    <tr>\n",
       "      <th>105569</th>\n",
       "      <td>b05fefd0de0a96f86c53db4b4c431d6e23ef49f1</td>\n",
       "      <td>0</td>\n",
       "    </tr>\n",
       "    <tr>\n",
       "      <th>219718</th>\n",
       "      <td>c67948c8efc535a639c07e0a8d386228e924d8f9</td>\n",
       "      <td>0</td>\n",
       "    </tr>\n",
       "    <tr>\n",
       "      <th>198984</th>\n",
       "      <td>65ca1b611e9132e60b396b5b64c750ff088a7f37</td>\n",
       "      <td>0</td>\n",
       "    </tr>\n",
       "    <tr>\n",
       "      <th>...</th>\n",
       "      <td>...</td>\n",
       "      <td>...</td>\n",
       "    </tr>\n",
       "    <tr>\n",
       "      <th>71030</th>\n",
       "      <td>af54ce01efb13177b87a5b25c67056589eb90434</td>\n",
       "      <td>0</td>\n",
       "    </tr>\n",
       "    <tr>\n",
       "      <th>76013</th>\n",
       "      <td>a6cf4fd56a2542635f3f1a22f580bd8de65af9f8</td>\n",
       "      <td>0</td>\n",
       "    </tr>\n",
       "    <tr>\n",
       "      <th>139721</th>\n",
       "      <td>93e90d936b3301216e24d3683bef5cf74ab18743</td>\n",
       "      <td>0</td>\n",
       "    </tr>\n",
       "    <tr>\n",
       "      <th>203668</th>\n",
       "      <td>1251620b441f9316da02e2edc7073e4c4234d1d0</td>\n",
       "      <td>0</td>\n",
       "    </tr>\n",
       "    <tr>\n",
       "      <th>134459</th>\n",
       "      <td>e22ebbd513bb880487b8f0f3c04250e1d33134de</td>\n",
       "      <td>0</td>\n",
       "    </tr>\n",
       "  </tbody>\n",
       "</table>\n",
       "<p>26181 rows × 2 columns</p>\n",
       "</div>"
      ],
      "text/plain": [
       "                                              id  label\n",
       "479     64abfa0ab14ac59c9d762155a760c887ba975144      0\n",
       "205758  dcc8e2d650066710efea54c9e8bcb4fde8cd25e0      0\n",
       "105569  b05fefd0de0a96f86c53db4b4c431d6e23ef49f1      0\n",
       "219718  c67948c8efc535a639c07e0a8d386228e924d8f9      0\n",
       "198984  65ca1b611e9132e60b396b5b64c750ff088a7f37      0\n",
       "...                                          ...    ...\n",
       "71030   af54ce01efb13177b87a5b25c67056589eb90434      0\n",
       "76013   a6cf4fd56a2542635f3f1a22f580bd8de65af9f8      0\n",
       "139721  93e90d936b3301216e24d3683bef5cf74ab18743      0\n",
       "203668  1251620b441f9316da02e2edc7073e4c4234d1d0      0\n",
       "134459  e22ebbd513bb880487b8f0f3c04250e1d33134de      0\n",
       "\n",
       "[26181 rows x 2 columns]"
      ]
     },
     "execution_count": 37,
     "metadata": {},
     "output_type": "execute_result"
    }
   ],
   "source": [
    "test_label_0"
   ]
  },
  {
   "cell_type": "code",
   "execution_count": 38,
   "id": "48223451-2877-4b9b-9f4c-fcd7b955bff9",
   "metadata": {},
   "outputs": [
    {
     "data": {
      "text/html": [
       "<div>\n",
       "<style scoped>\n",
       "    .dataframe tbody tr th:only-of-type {\n",
       "        vertical-align: middle;\n",
       "    }\n",
       "\n",
       "    .dataframe tbody tr th {\n",
       "        vertical-align: top;\n",
       "    }\n",
       "\n",
       "    .dataframe thead th {\n",
       "        text-align: right;\n",
       "    }\n",
       "</style>\n",
       "<table border=\"1\" class=\"dataframe\">\n",
       "  <thead>\n",
       "    <tr style=\"text-align: right;\">\n",
       "      <th></th>\n",
       "      <th>id</th>\n",
       "      <th>label</th>\n",
       "    </tr>\n",
       "  </thead>\n",
       "  <tbody>\n",
       "    <tr>\n",
       "      <th>57981</th>\n",
       "      <td>0be0119eee85684b5bb203f743f16cf4dcfdd77d</td>\n",
       "      <td>1</td>\n",
       "    </tr>\n",
       "    <tr>\n",
       "      <th>184232</th>\n",
       "      <td>25003a215deb20384a63d963b4e40a946ed8d958</td>\n",
       "      <td>1</td>\n",
       "    </tr>\n",
       "    <tr>\n",
       "      <th>123259</th>\n",
       "      <td>0555f297c34fcda2481d6a33cc0e388d39f35535</td>\n",
       "      <td>1</td>\n",
       "    </tr>\n",
       "    <tr>\n",
       "      <th>188454</th>\n",
       "      <td>b51eb81dccd4d0fd8ddf09a871233c2bc6686a67</td>\n",
       "      <td>1</td>\n",
       "    </tr>\n",
       "    <tr>\n",
       "      <th>176661</th>\n",
       "      <td>29fe487c576a7e5172e6cb19241daca0ac36d8b3</td>\n",
       "      <td>1</td>\n",
       "    </tr>\n",
       "    <tr>\n",
       "      <th>...</th>\n",
       "      <td>...</td>\n",
       "      <td>...</td>\n",
       "    </tr>\n",
       "    <tr>\n",
       "      <th>57799</th>\n",
       "      <td>c345d90e6f5516b534e9cef78ff4ee8bcdfbc2cf</td>\n",
       "      <td>1</td>\n",
       "    </tr>\n",
       "    <tr>\n",
       "      <th>24159</th>\n",
       "      <td>42ac8a7fe4953696a304e2e97735476b1277e9c1</td>\n",
       "      <td>1</td>\n",
       "    </tr>\n",
       "    <tr>\n",
       "      <th>111187</th>\n",
       "      <td>8015d6258dd3cb50cec5cfc672d48106942ec50d</td>\n",
       "      <td>1</td>\n",
       "    </tr>\n",
       "    <tr>\n",
       "      <th>190344</th>\n",
       "      <td>ed3e8b22473463f7fa1d89513b3f327dec44df80</td>\n",
       "      <td>1</td>\n",
       "    </tr>\n",
       "    <tr>\n",
       "      <th>13853</th>\n",
       "      <td>2f71519dcf8f2a4cf306cb834370b94bcddf8a3f</td>\n",
       "      <td>1</td>\n",
       "    </tr>\n",
       "  </tbody>\n",
       "</table>\n",
       "<p>17823 rows × 2 columns</p>\n",
       "</div>"
      ],
      "text/plain": [
       "                                              id  label\n",
       "57981   0be0119eee85684b5bb203f743f16cf4dcfdd77d      1\n",
       "184232  25003a215deb20384a63d963b4e40a946ed8d958      1\n",
       "123259  0555f297c34fcda2481d6a33cc0e388d39f35535      1\n",
       "188454  b51eb81dccd4d0fd8ddf09a871233c2bc6686a67      1\n",
       "176661  29fe487c576a7e5172e6cb19241daca0ac36d8b3      1\n",
       "...                                          ...    ...\n",
       "57799   c345d90e6f5516b534e9cef78ff4ee8bcdfbc2cf      1\n",
       "24159   42ac8a7fe4953696a304e2e97735476b1277e9c1      1\n",
       "111187  8015d6258dd3cb50cec5cfc672d48106942ec50d      1\n",
       "190344  ed3e8b22473463f7fa1d89513b3f327dec44df80      1\n",
       "13853   2f71519dcf8f2a4cf306cb834370b94bcddf8a3f      1\n",
       "\n",
       "[17823 rows x 2 columns]"
      ]
     },
     "execution_count": 38,
     "metadata": {},
     "output_type": "execute_result"
    }
   ],
   "source": [
    "test_label_1"
   ]
  },
  {
   "cell_type": "markdown",
   "id": "60e3fa2c-6518-47fd-84d7-ec1df4d4bee4",
   "metadata": {},
   "source": [
    "# Check Folders Train and Test are good"
   ]
  },
  {
   "cell_type": "code",
   "execution_count": 39,
   "id": "09ad9bc9-d4ea-4458-8b18-509d5453e2d9",
   "metadata": {},
   "outputs": [],
   "source": [
    "from os import walk"
   ]
  },
  {
   "cell_type": "code",
   "execution_count": 40,
   "id": "63cc5e26-8f9a-425c-b88d-4998a81b57b8",
   "metadata": {},
   "outputs": [
    {
     "name": "stdout",
     "output_type": "stream",
     "text": [
      "104728 True\n"
     ]
    }
   ],
   "source": [
    "# Check size Train_0 - and check no duplicates\n",
    "filenames = next(walk(source_path_0), (None, None, []))[2] \n",
    "print(len(filenames),len(filenames) == len(set(filenames)))"
   ]
  },
  {
   "cell_type": "code",
   "execution_count": 41,
   "id": "9c6b0168-97aa-4a44-aba4-b1279fc449d3",
   "metadata": {},
   "outputs": [
    {
     "name": "stdout",
     "output_type": "stream",
     "text": [
      "71294 True\n"
     ]
    }
   ],
   "source": [
    "# Check size Train_1 - and check no duplicates\n",
    "filenames = next(walk(source_path_1), (None, None, []))[2] \n",
    "print(len(filenames),len(filenames) == len(set(filenames)))"
   ]
  },
  {
   "cell_type": "code",
   "execution_count": 42,
   "id": "7dfbdf15-2e0b-4247-aeaa-0a24ceeae6a4",
   "metadata": {},
   "outputs": [
    {
     "name": "stdout",
     "output_type": "stream",
     "text": [
      "26181 True\n"
     ]
    }
   ],
   "source": [
    "# Check size Test_0 - and check no duplicates\n",
    "filenames = next(walk(destination_path_0), (None, None, []))[2] \n",
    "print(len(filenames),len(filenames) == len(set(filenames)))"
   ]
  },
  {
   "cell_type": "code",
   "execution_count": 43,
   "id": "f66182e8-4d2f-412f-89e9-866e1067eb9f",
   "metadata": {},
   "outputs": [
    {
     "name": "stdout",
     "output_type": "stream",
     "text": [
      "17823 True\n"
     ]
    }
   ],
   "source": [
    "# Check size Test_1 - and check no duplicates\n",
    "filenames = next(walk(destination_path_1), (None, None, []))[2] \n",
    "print(len(filenames),len(filenames) == len(set(filenames)))"
   ]
  },
  {
   "cell_type": "markdown",
   "id": "b7376711-68eb-48ab-8745-8d093202c648",
   "metadata": {},
   "source": [
    "# Creating a Balanced Train set copy: TRAIN_BAL"
   ]
  },
  {
   "cell_type": "code",
   "execution_count": 44,
   "id": "6ae2f90c-f168-4c6e-b0d3-b3ffdf469b44",
   "metadata": {},
   "outputs": [],
   "source": [
    "source_path_0 = '/Users/chloeguillaume/code/GuillaumeRib/project-cancer-detection/raw_data/train/0'\n",
    "destination_path_TRAIN_BAL_0 = '/Users/chloeguillaume/code/GuillaumeRib/project-cancer-detection/raw_data/TRAIN_BAL/0'\n",
    "\n",
    "source_path_1 = '/Users/chloeguillaume/code/GuillaumeRib/project-cancer-detection/raw_data/train/1'\n",
    "destination_path_TRAIN_BAL_1 = '/Users/chloeguillaume/code/GuillaumeRib/project-cancer-detection/raw_data/TRAIN_BAL/1'\n",
    "\n",
    "train_label_0_bal = train_label_0.sample(n=71294,random_state=72)\n",
    "train_label_1_bal = train_label_1"
   ]
  },
  {
   "cell_type": "code",
   "execution_count": 45,
   "id": "1a737554-a36b-40fe-a4fb-ac464cd1c73c",
   "metadata": {},
   "outputs": [],
   "source": [
    "# Copying Train files into TRAIN_BAL - Balanced O - 1 Classes\n",
    "\n",
    "# for index,row in train_label_0_bal.reset_index().iterrows():\n",
    "#     file = row['id']\n",
    "#     source_file = os.path.join(source_path_0,file+'.tif')\n",
    "#     destination_file = os.path.join(destination_path_TRAIN_BAL_0,file+'.tif')\n",
    "#     shutil.copy(source_file,destination_file)\n",
    "    \n",
    "# for index,row in train_label_1.reset_index().iterrows():\n",
    "#     file = row['id']\n",
    "#     source_file = os.path.join(source_path_1,file+'.tif')\n",
    "#     destination_file = os.path.join(destination_path_TRAIN_BAL_1,file+'.tif')\n",
    "#     shutil.copy(source_file,destination_file)\n",
    "    "
   ]
  },
  {
   "cell_type": "code",
   "execution_count": 46,
   "id": "f8f48c40-95e7-41b2-b7a9-2bb59bccc1ec",
   "metadata": {},
   "outputs": [
    {
     "name": "stdout",
     "output_type": "stream",
     "text": [
      "71294 True\n"
     ]
    }
   ],
   "source": [
    "# Check size TRAIN_BAL_0 - and check no duplicates\n",
    "filenames = next(walk(destination_path_TRAIN_BAL_0), (None, None, []))[2] \n",
    "print(len(filenames),len(filenames) == len(set(filenames)))"
   ]
  },
  {
   "cell_type": "code",
   "execution_count": 47,
   "id": "9a642fb7-29ea-484a-913d-1d5942bf8a7b",
   "metadata": {},
   "outputs": [
    {
     "name": "stdout",
     "output_type": "stream",
     "text": [
      "71294 True\n"
     ]
    }
   ],
   "source": [
    "# Check size TRAIN_BAL_1 - and check no duplicates\n",
    "filenames = next(walk(destination_path_TRAIN_BAL_1), (None, None, []))[2] \n",
    "print(len(filenames),len(filenames) == len(set(filenames)))"
   ]
  },
  {
   "cell_type": "code",
   "execution_count": 48,
   "id": "c6ec93d9-d632-4def-9c26-e94ec4c21574",
   "metadata": {},
   "outputs": [
    {
     "data": {
      "text/html": [
       "<div>\n",
       "<style scoped>\n",
       "    .dataframe tbody tr th:only-of-type {\n",
       "        vertical-align: middle;\n",
       "    }\n",
       "\n",
       "    .dataframe tbody tr th {\n",
       "        vertical-align: top;\n",
       "    }\n",
       "\n",
       "    .dataframe thead th {\n",
       "        text-align: right;\n",
       "    }\n",
       "</style>\n",
       "<table border=\"1\" class=\"dataframe\">\n",
       "  <thead>\n",
       "    <tr style=\"text-align: right;\">\n",
       "      <th></th>\n",
       "      <th>id</th>\n",
       "      <th>label</th>\n",
       "    </tr>\n",
       "  </thead>\n",
       "  <tbody>\n",
       "    <tr>\n",
       "      <th>25607</th>\n",
       "      <td>71544a6fd3b4a309eab094f388b18bf76722a8e9</td>\n",
       "      <td>0</td>\n",
       "    </tr>\n",
       "    <tr>\n",
       "      <th>3447</th>\n",
       "      <td>6406082112d06f4d7693f2edfeb5b95d9ec67bb4</td>\n",
       "      <td>0</td>\n",
       "    </tr>\n",
       "    <tr>\n",
       "      <th>100027</th>\n",
       "      <td>e1352be39946748d701e0b335690607fa9adefb6</td>\n",
       "      <td>0</td>\n",
       "    </tr>\n",
       "    <tr>\n",
       "      <th>170757</th>\n",
       "      <td>e03130a7dc57136fc08b079741998d94c57c3f5d</td>\n",
       "      <td>0</td>\n",
       "    </tr>\n",
       "    <tr>\n",
       "      <th>25102</th>\n",
       "      <td>d4e8be9c8a2283a2c478fa17eab5bf4a58e0a607</td>\n",
       "      <td>0</td>\n",
       "    </tr>\n",
       "    <tr>\n",
       "      <th>...</th>\n",
       "      <td>...</td>\n",
       "      <td>...</td>\n",
       "    </tr>\n",
       "    <tr>\n",
       "      <th>139808</th>\n",
       "      <td>ce1c2c8657c854d9eda6c0d83a19e185d231e21c</td>\n",
       "      <td>0</td>\n",
       "    </tr>\n",
       "    <tr>\n",
       "      <th>58702</th>\n",
       "      <td>d9e8b7a40e527ff69dfdfac7eb5e42da2429b7f5</td>\n",
       "      <td>0</td>\n",
       "    </tr>\n",
       "    <tr>\n",
       "      <th>176314</th>\n",
       "      <td>677738884d6ce2841b9f225449c44856e9e5e46c</td>\n",
       "      <td>0</td>\n",
       "    </tr>\n",
       "    <tr>\n",
       "      <th>76603</th>\n",
       "      <td>3d5c5b60ebf648e737e56106a33508725d39b8b2</td>\n",
       "      <td>0</td>\n",
       "    </tr>\n",
       "    <tr>\n",
       "      <th>147301</th>\n",
       "      <td>869d17e0a0867c615b07b8c19738c648e1d418cb</td>\n",
       "      <td>0</td>\n",
       "    </tr>\n",
       "  </tbody>\n",
       "</table>\n",
       "<p>71294 rows × 2 columns</p>\n",
       "</div>"
      ],
      "text/plain": [
       "                                              id  label\n",
       "25607   71544a6fd3b4a309eab094f388b18bf76722a8e9      0\n",
       "3447    6406082112d06f4d7693f2edfeb5b95d9ec67bb4      0\n",
       "100027  e1352be39946748d701e0b335690607fa9adefb6      0\n",
       "170757  e03130a7dc57136fc08b079741998d94c57c3f5d      0\n",
       "25102   d4e8be9c8a2283a2c478fa17eab5bf4a58e0a607      0\n",
       "...                                          ...    ...\n",
       "139808  ce1c2c8657c854d9eda6c0d83a19e185d231e21c      0\n",
       "58702   d9e8b7a40e527ff69dfdfac7eb5e42da2429b7f5      0\n",
       "176314  677738884d6ce2841b9f225449c44856e9e5e46c      0\n",
       "76603   3d5c5b60ebf648e737e56106a33508725d39b8b2      0\n",
       "147301  869d17e0a0867c615b07b8c19738c648e1d418cb      0\n",
       "\n",
       "[71294 rows x 2 columns]"
      ]
     },
     "execution_count": 48,
     "metadata": {},
     "output_type": "execute_result"
    }
   ],
   "source": [
    "train_label_0_bal"
   ]
  },
  {
   "cell_type": "code",
   "execution_count": 49,
   "id": "babdfee8-381f-4bf7-9e7d-b91b7747a309",
   "metadata": {},
   "outputs": [
    {
     "data": {
      "text/html": [
       "<div>\n",
       "<style scoped>\n",
       "    .dataframe tbody tr th:only-of-type {\n",
       "        vertical-align: middle;\n",
       "    }\n",
       "\n",
       "    .dataframe tbody tr th {\n",
       "        vertical-align: top;\n",
       "    }\n",
       "\n",
       "    .dataframe thead th {\n",
       "        text-align: right;\n",
       "    }\n",
       "</style>\n",
       "<table border=\"1\" class=\"dataframe\">\n",
       "  <thead>\n",
       "    <tr style=\"text-align: right;\">\n",
       "      <th></th>\n",
       "      <th>id</th>\n",
       "      <th>label</th>\n",
       "    </tr>\n",
       "  </thead>\n",
       "  <tbody>\n",
       "    <tr>\n",
       "      <th>1</th>\n",
       "      <td>c18f2d887b7ae4f6742ee445113fa1aef383ed77</td>\n",
       "      <td>1</td>\n",
       "    </tr>\n",
       "    <tr>\n",
       "      <th>6</th>\n",
       "      <td>a24ce148f6ffa7ef8eefb4efb12ebffe8dd700da</td>\n",
       "      <td>1</td>\n",
       "    </tr>\n",
       "    <tr>\n",
       "      <th>7</th>\n",
       "      <td>7f6ccae485af121e0b6ee733022e226ee6b0c65f</td>\n",
       "      <td>1</td>\n",
       "    </tr>\n",
       "    <tr>\n",
       "      <th>11</th>\n",
       "      <td>c3d660212bf2a11c994e0eadff13770a9927b731</td>\n",
       "      <td>1</td>\n",
       "    </tr>\n",
       "    <tr>\n",
       "      <th>14</th>\n",
       "      <td>94fa32b29cc1c00403176c0795fffa3cfaa0f20e</td>\n",
       "      <td>1</td>\n",
       "    </tr>\n",
       "    <tr>\n",
       "      <th>...</th>\n",
       "      <td>...</td>\n",
       "      <td>...</td>\n",
       "    </tr>\n",
       "    <tr>\n",
       "      <th>220007</th>\n",
       "      <td>9f0c52d1c2d7c46c60caee232a0a480f4522136c</td>\n",
       "      <td>1</td>\n",
       "    </tr>\n",
       "    <tr>\n",
       "      <th>220009</th>\n",
       "      <td>29ee01a126a9c32442fb1bcd0110b37b0f6c2964</td>\n",
       "      <td>1</td>\n",
       "    </tr>\n",
       "    <tr>\n",
       "      <th>220010</th>\n",
       "      <td>8a25b1632a1859d7b757e912ca673385b64e1b1d</td>\n",
       "      <td>1</td>\n",
       "    </tr>\n",
       "    <tr>\n",
       "      <th>220014</th>\n",
       "      <td>309210db7f424edbc22b2d13bf2fa27518b18f5c</td>\n",
       "      <td>1</td>\n",
       "    </tr>\n",
       "    <tr>\n",
       "      <th>220021</th>\n",
       "      <td>d4b854fe38b07fe2831ad73892b3cec877689576</td>\n",
       "      <td>1</td>\n",
       "    </tr>\n",
       "  </tbody>\n",
       "</table>\n",
       "<p>71294 rows × 2 columns</p>\n",
       "</div>"
      ],
      "text/plain": [
       "                                              id  label\n",
       "1       c18f2d887b7ae4f6742ee445113fa1aef383ed77      1\n",
       "6       a24ce148f6ffa7ef8eefb4efb12ebffe8dd700da      1\n",
       "7       7f6ccae485af121e0b6ee733022e226ee6b0c65f      1\n",
       "11      c3d660212bf2a11c994e0eadff13770a9927b731      1\n",
       "14      94fa32b29cc1c00403176c0795fffa3cfaa0f20e      1\n",
       "...                                          ...    ...\n",
       "220007  9f0c52d1c2d7c46c60caee232a0a480f4522136c      1\n",
       "220009  29ee01a126a9c32442fb1bcd0110b37b0f6c2964      1\n",
       "220010  8a25b1632a1859d7b757e912ca673385b64e1b1d      1\n",
       "220014  309210db7f424edbc22b2d13bf2fa27518b18f5c      1\n",
       "220021  d4b854fe38b07fe2831ad73892b3cec877689576      1\n",
       "\n",
       "[71294 rows x 2 columns]"
      ]
     },
     "execution_count": 49,
     "metadata": {},
     "output_type": "execute_result"
    }
   ],
   "source": [
    "train_label_1_bal"
   ]
  },
  {
   "cell_type": "markdown",
   "id": "db75c5b7-6d47-4b11-bc8f-cd06401b024d",
   "metadata": {},
   "source": [
    "# Check if Train in Test / Test in Train"
   ]
  },
  {
   "cell_type": "code",
   "execution_count": 59,
   "id": "504234c7-a904-4058-8718-99950274cd70",
   "metadata": {},
   "outputs": [
    {
     "data": {
      "text/plain": [
       "id   \n",
       "False    71294\n",
       "dtype: int64"
      ]
     },
     "execution_count": 59,
     "metadata": {},
     "output_type": "execute_result"
    }
   ],
   "source": [
    "pd.DataFrame(train_label_0_bal['id'].isin(train_label_1_bal['id'])).value_counts()"
   ]
  },
  {
   "cell_type": "code",
   "execution_count": 60,
   "id": "ef76737f-8d58-47b3-be71-41a72d2d0d96",
   "metadata": {},
   "outputs": [
    {
     "data": {
      "text/plain": [
       "id   \n",
       "False    71294\n",
       "dtype: int64"
      ]
     },
     "execution_count": 60,
     "metadata": {},
     "output_type": "execute_result"
    }
   ],
   "source": [
    "pd.DataFrame(train_label_1_bal['id'].isin(train_label_0_bal['id'])).value_counts()"
   ]
  },
  {
   "cell_type": "code",
   "execution_count": 61,
   "id": "6dda2898-7546-4396-843f-3388b267ce74",
   "metadata": {},
   "outputs": [
    {
     "data": {
      "text/plain": [
       "id   \n",
       "False    26181\n",
       "dtype: int64"
      ]
     },
     "execution_count": 61,
     "metadata": {},
     "output_type": "execute_result"
    }
   ],
   "source": [
    "pd.DataFrame(test_label_0['id'].isin(train_label_0_bal['id'])).value_counts()"
   ]
  },
  {
   "cell_type": "code",
   "execution_count": 62,
   "id": "4ba4b688-0cc8-4806-96df-010294dbaa1f",
   "metadata": {},
   "outputs": [
    {
     "data": {
      "text/plain": [
       "id   \n",
       "False    17823\n",
       "dtype: int64"
      ]
     },
     "execution_count": 62,
     "metadata": {},
     "output_type": "execute_result"
    }
   ],
   "source": [
    "pd.DataFrame(test_label_1['id'].isin(train_label_1_bal['id'])).value_counts()"
   ]
  },
  {
   "cell_type": "code",
   "execution_count": 63,
   "id": "5f1e3a4d-760e-4862-a2b2-27a3544950cc",
   "metadata": {},
   "outputs": [
    {
     "data": {
      "text/plain": [
       "id   \n",
       "False    71294\n",
       "dtype: int64"
      ]
     },
     "execution_count": 63,
     "metadata": {},
     "output_type": "execute_result"
    }
   ],
   "source": [
    "pd.DataFrame(train_label_0_bal['id'].isin(test_label_0['id'])).value_counts()"
   ]
  },
  {
   "cell_type": "code",
   "execution_count": 64,
   "id": "d944acec-6d0e-419f-93ba-07fc1410d02f",
   "metadata": {},
   "outputs": [
    {
     "data": {
      "text/plain": [
       "id   \n",
       "False    71294\n",
       "dtype: int64"
      ]
     },
     "execution_count": 64,
     "metadata": {},
     "output_type": "execute_result"
    }
   ],
   "source": [
    "pd.DataFrame(train_label_1_bal['id'].isin(test_label_1['id'])).value_counts()"
   ]
  },
  {
   "cell_type": "markdown",
   "id": "2a47a91a-e399-4df1-8886-6472c442650d",
   "metadata": {},
   "source": [
    "# Check if train_0_SOURCE in train_0_BAL"
   ]
  },
  {
   "cell_type": "code",
   "execution_count": 69,
   "id": "f11880d8-3096-437a-bf20-81b81ff1f002",
   "metadata": {},
   "outputs": [
    {
     "data": {
      "text/plain": [
       "id   \n",
       "True     71294\n",
       "False    33433\n",
       "dtype: int64"
      ]
     },
     "execution_count": 69,
     "metadata": {},
     "output_type": "execute_result"
    }
   ],
   "source": [
    "pd.DataFrame(train_label_0['id'].isin(train_label_0_bal['id'])).value_counts()"
   ]
  },
  {
   "cell_type": "code",
   "execution_count": null,
   "id": "8e44ca8d-5f9f-4a4e-a766-121accd35c58",
   "metadata": {},
   "outputs": [],
   "source": []
  }
 ],
 "metadata": {
  "kernelspec": {
   "display_name": "Python 3 (ipykernel)",
   "language": "python",
   "name": "python3"
  },
  "language_info": {
   "codemirror_mode": {
    "name": "ipython",
    "version": 3
   },
   "file_extension": ".py",
   "mimetype": "text/x-python",
   "name": "python",
   "nbconvert_exporter": "python",
   "pygments_lexer": "ipython3",
   "version": "3.8.12"
  }
 },
 "nbformat": 4,
 "nbformat_minor": 5
}
