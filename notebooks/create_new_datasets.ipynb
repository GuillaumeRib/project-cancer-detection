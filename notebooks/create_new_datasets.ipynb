{
 "cells": [
  {
   "cell_type": "markdown",
   "metadata": {},
   "source": [
    "# 1. Load the necessary libraries"
   ]
  },
  {
   "cell_type": "code",
   "execution_count": 1,
   "metadata": {},
   "outputs": [],
   "source": [
    "import pandas as pd\n",
    "import numpy as np\n",
    "import os\n",
    "import shutil\n",
    "from os.path import exists"
   ]
  },
  {
   "cell_type": "code",
   "execution_count": 2,
   "metadata": {},
   "outputs": [],
   "source": [
    "# Define full path and load dataframe with the original data\n",
    "full_path = '/home/jari/code/GuillaumeRib/project-cancer-detection/raw_data/train/'\n",
    "df_labels = pd.read_csv('../raw_data/train_labels.csv')"
   ]
  },
  {
   "cell_type": "markdown",
   "metadata": {},
   "source": [
    "# 2. Analyze the datasets"
   ]
  },
  {
   "cell_type": "code",
   "execution_count": 14,
   "metadata": {},
   "outputs": [
    {
     "name": "stdout",
     "output_type": "stream",
     "text": [
      "New train set size: 131194\n",
      "New test size: 43245\n",
      "For the new test dataset we need 25729 images with label=0 and 17515 images with label=1 (ratio 59/41)\n",
      "For the new train dataset we need 65597 images with label=0 and 65597 images with label=1 (ratio 50/50)\n",
      "Images with label=0 in original train dataset: 103786\n",
      "Images with label=1 in original train dataset: 70653\n",
      "Ratio of label=0 vs. label=1 in original train dataset: 59/41\n"
     ]
    }
   ],
   "source": [
    "# Original dataset sizes as downloaded from Kaggle\n",
    "test_org = 57500 # original size of test dataset\n",
    "train_org = df_labels.shape[0] # original size of train dataset\n",
    "total_org = int(test_org + train_org) # original total size of dataset\n",
    "ratio_org = test_org/total_org # original ratio test/total\n",
    "\n",
    "# New dataset sizes (without original test dataset since we do not have its labels)\n",
    "total_new = train_org # new total size of dataset\n",
    "test_new = int(np.round(ratio_org * total_new,0)) # new size of test dataset\n",
    "train_new = total_new - test_new # new size of train dataset\n",
    "\n",
    "# Original dataset labels\n",
    "values = df_labels.value_counts('label') # how many images do we have for each label\n",
    "values_0 = values[0] # images with label=0\n",
    "values_1 = values[1] # images with label=1\n",
    "values_total = values_0 + values_1 # total number of images\n",
    "values_0_ratio = values_0/values_total # percentage of label=0 images over total in original train dataset\n",
    "values_1_ratio = values_1/values_total # percentage of label=1 images over total in original train dataset\n",
    "original_ratio = f'{int(np.round(values_0_ratio*100,0))}/{int(np.round(values_1_ratio*100,0))}' # original ratio of labels (simplified)\n",
    "\n",
    "# New dataset labels\n",
    "test_new_0 = int(test_new*values_0_ratio) # number of images with label=0 in new test dataset\n",
    "test_new_1 = int(test_new*values_1_ratio) # number of images with label=1 in new test dataset\n",
    "train_new_0 = int(train_new/2) # number of images with label=0 in new train dataset\n",
    "train_new_1 = int(train_new/2) # number of images with label=1 in new train dataset\n",
    "\n",
    "# Print relevant results\n",
    "print('New train set size:',train_new) # must fulfill 50/50 label ratio\n",
    "print('New test size:',test_new) # must fulfill original label ratio\n",
    "print(f'For the new test dataset we need {test_new_0} images with label=0 and {test_new_1} images with label=1 (ratio {original_ratio})')\n",
    "print(f'For the new train dataset we need {train_new_0} images with label=0 and {train_new_1} images with label=1 (ratio 50/50)')\n",
    "print('Images with label=0 in original train dataset:',values_0)\n",
    "print('Images with label=1 in original train dataset:',values_1)\n",
    "print(f'Ratio of label=0 vs. label=1 in original train dataset: {int(np.round(values_0_ratio*100,0))}/{int(np.round(values_1_ratio*100,0))}')"
   ]
  },
  {
   "cell_type": "markdown",
   "metadata": {},
   "source": [
    "# 3. Create the new datasets"
   ]
  },
  {
   "cell_type": "markdown",
   "metadata": {},
   "source": [
    "## 3.1 Test dataset"
   ]
  },
  {
   "cell_type": "markdown",
   "metadata": {},
   "source": [
    "### 3.2.1 Select test data"
   ]
  },
  {
   "cell_type": "code",
   "execution_count": 4,
   "metadata": {},
   "outputs": [],
   "source": [
    "# Create list with image ids for test dataset with 59/41 ratio of label=0 vs. label=1\n",
    "test_label_0 = df_labels[df_labels['label']==0].sample(n=test_new_0) # create df for new test dataset with label=0\n",
    "test_label_0_ids = test_label_0['id'] # list with image ids for label=0 for test dataset\n",
    "test_label_1 = df_labels[df_labels['label']==1].sample(n=test_new_1) # create df for new test dataset with label=1\n",
    "test_label_1_ids = test_label_1['id'] # list with image ids for label=1 for test dataset\n",
    "\n",
    "# Delete used rows from original dataframe so there are no data leakages between test vs. train datasets\n",
    "df_labels.drop(test_label_0.index, inplace = True)\n",
    "df_labels.drop(test_label_1.index, inplace = True)"
   ]
  },
  {
   "cell_type": "markdown",
   "metadata": {},
   "source": [
    "### 3.2.2 Split into 0 and 1 directores"
   ]
  },
  {
   "cell_type": "code",
   "execution_count": 9,
   "metadata": {},
   "outputs": [],
   "source": [
    "# Define input directory where data is stored\n",
    "input_dir = '../raw_data/train/'\n",
    "\n",
    "# Manually create 0 and 1 directories within our test_new folder\n",
    "output_test = os.mkdir('../raw_data/test_new/') # run only the first time to create the directory\n",
    "output_test_0 = os.mkdir('../raw_data/test_new/0') # run only the first time to create the directory\n",
    "output_test_1 = os.mkdir('../raw_data/test_new/1') # run only the first time to create the directory\n",
    "output_test_0 = '../raw_data/test_new/0'\n",
    "output_test_1 = '../raw_data/test_new/1'\n",
    "\n",
    "# Split test data in corresponding directories\n",
    "for item in test_label_0_ids:\n",
    "    shutil.move(os.path.join(input_dir, item+'.tif'), output_test_0)\n",
    "for item in test_label_1_ids:\n",
    "    shutil.move(os.path.join(input_dir, item+'.tif'), output_test_1)"
   ]
  },
  {
   "cell_type": "markdown",
   "metadata": {},
   "source": [
    "## 3.2 Train datasets"
   ]
  },
  {
   "cell_type": "markdown",
   "metadata": {},
   "source": [
    "### 3.2.1 Select train data"
   ]
  },
  {
   "cell_type": "code",
   "execution_count": 10,
   "metadata": {},
   "outputs": [
    {
     "data": {
      "text/plain": [
       "70653"
      ]
     },
     "execution_count": 10,
     "metadata": {},
     "output_type": "execute_result"
    }
   ],
   "source": [
    "min(df_labels.value_counts('label'))"
   ]
  },
  {
   "cell_type": "code",
   "execution_count": 15,
   "metadata": {},
   "outputs": [],
   "source": [
    "# Create list with image ids for test dataset with 59/41 ratio of label=0 vs. label=1\n",
    "train_label_0 = df_labels[df_labels['label']==0].sample(n=min(df_labels.value_counts('label'))) # create df for new train dataset with label=0\n",
    "## min(df_labels.value_counts('label')) = choose the smallest between label=0 and label=1 to ensure that we have enought from each\n",
    "train_label_0_ids = train_label_0['id'] # list with image ids for label=0 for test dataset\n",
    "train_label_1 = df_labels[df_labels['label']==1].sample(n=min(df_labels.value_counts('label'))) # create df for new test dataset with label=1\n",
    "train_label_1_ids = train_label_1['id'] # list with image ids for label=1 for test dataset"
   ]
  },
  {
   "cell_type": "markdown",
   "metadata": {},
   "source": [
    "### 3.2.2 Split into 0 and 1 directores"
   ]
  },
  {
   "cell_type": "code",
   "execution_count": 16,
   "metadata": {},
   "outputs": [],
   "source": [
    "# Define input directory where data is stored\n",
    "input_dir = '../raw_data/train/'\n",
    "\n",
    "# Manually create 0 and 1 directories within our train_new folder\n",
    "output_train = os.mkdir('../raw_data/train_new/') # run only the first time to create the directory\n",
    "output_train_0 = os.mkdir('../raw_data/train_new/0') # run only the first time to create the directory\n",
    "output_train_1 = os.mkdir('../raw_data/train_new/1') # run only the first time to create the directory\n",
    "output_train_0 = '../raw_data/train_new/0'\n",
    "output_train_1 = '../raw_data/train_new/1'\n",
    "\n",
    "# Split train data in corresponding directories\n",
    "for item in train_label_0_ids:\n",
    "    shutil.move(os.path.join(input_dir, item+'.tif'), output_train_0)\n",
    "for item in train_label_1_ids:\n",
    "    shutil.move(os.path.join(input_dir, item+'.tif'), output_train_1)"
   ]
  },
  {
   "cell_type": "markdown",
   "metadata": {},
   "source": [
    "# 4. Additional"
   ]
  },
  {
   "cell_type": "markdown",
   "metadata": {},
   "source": [
    "#### We can delete out original 'test' and 'train' directories:"
   ]
  },
  {
   "cell_type": "code",
   "execution_count": 19,
   "metadata": {},
   "outputs": [],
   "source": [
    "shutil.rmtree('../raw_data/test/')\n",
    "shutil.rmtree('../raw_data/train/')"
   ]
  },
  {
   "cell_type": "markdown",
   "metadata": {},
   "source": [
    "#### For simplicity we shall rename our train and test directories:"
   ]
  },
  {
   "cell_type": "code",
   "execution_count": 20,
   "metadata": {},
   "outputs": [
    {
     "data": {
      "text/plain": [
       "'../raw_data/train/'"
      ]
     },
     "execution_count": 20,
     "metadata": {},
     "output_type": "execute_result"
    }
   ],
   "source": [
    "shutil.move('../raw_data/test_new/', '../raw_data/test/')\n",
    "shutil.move('../raw_data/train_new/', '../raw_data/train/')\n",
    "shutil.move('../raw_data/train_labels.csv', '../raw_data/labels.csv') # rename the original .csv file for labels"
   ]
  },
  {
   "cell_type": "markdown",
   "metadata": {},
   "source": [
    "#### For convenience we shall also create a '.csv' file in each directory with the image ids for future use:"
   ]
  },
  {
   "cell_type": "code",
   "execution_count": 21,
   "metadata": {},
   "outputs": [],
   "source": [
    "# Test for label=0\n",
    "path_test_0 = '../raw_data/test/0'\n",
    "labels_test_0 = os.listdir(path_test_0)\n",
    "test_0_df = pd.DataFrame(labels_test_0)\n",
    "test_0_df.to_csv(os.path.join(path_test_0,'labels_test_0.csv'), index = False)\n",
    "\n",
    "# Test for label=1\n",
    "path_test_1 = '../raw_data/test/1'\n",
    "labels_test_1 = os.listdir(path_test_1)\n",
    "test_1_df = pd.DataFrame(labels_test_1) \n",
    "test_1_df.to_csv(os.path.join(path_test_1,'labels_test_1.csv'), index = False)\n",
    "\n",
    "# Test all\n",
    "test_df = pd.concat([test_0_df,test_1_df], ignore_index=True)\n",
    "test_df.to_csv(os.path.join('../raw_data/test/labels_test.csv'), index = False)\n",
    "\n",
    "# Train for label=0\n",
    "path_train_0 = '../raw_data/train/0'\n",
    "labels_train_0 = os.listdir(path_train_0)\n",
    "train_0_df = pd.DataFrame(labels_train_0) \n",
    "train_0_df.to_csv(os.path.join(path_train_0,'labels_train_0.csv'), index = False)\n",
    "\n",
    "# Train for label=1\n",
    "path_train_1 = '../raw_data/train/1'\n",
    "labels_train_1 = os.listdir(path_train_1)\n",
    "train_1_df = pd.DataFrame(labels_train_1) \n",
    "train_1_df.to_csv(os.path.join(path_train_1,'labels_train_1.csv'), index = False)\n",
    "\n",
    "# Train all\n",
    "train_df = pd.concat([train_0_df,train_1_df], ignore_index=True)\n",
    "train_df.to_csv(os.path.join('../raw_data/train/labels_train.csv'), index = False)"
   ]
  },
  {
   "cell_type": "markdown",
   "metadata": {},
   "source": [
    "#### We can check if we have the right amount of files in each directory by entering the directory through the terminal and typping:"
   ]
  },
  {
   "cell_type": "code",
   "execution_count": null,
   "metadata": {},
   "outputs": [],
   "source": [
    "ls | wc -l"
   ]
  },
  {
   "cell_type": "markdown",
   "metadata": {},
   "source": [
    "#### In directories '0' and '1' within 'train' we should have:"
   ]
  },
  {
   "cell_type": "code",
   "execution_count": null,
   "metadata": {},
   "outputs": [],
   "source": [
    "min(df_labels.value_counts('label'))"
   ]
  },
  {
   "cell_type": "markdown",
   "metadata": {},
   "source": [
    "#### In 'test' we should have:"
   ]
  },
  {
   "cell_type": "code",
   "execution_count": null,
   "metadata": {},
   "outputs": [],
   "source": [
    "test_new"
   ]
  }
 ],
 "metadata": {
  "kernelspec": {
   "display_name": "Python 3.8.12 64-bit ('shims')",
   "language": "python",
   "name": "python3"
  },
  "language_info": {
   "codemirror_mode": {
    "name": "ipython",
    "version": 3
   },
   "file_extension": ".py",
   "mimetype": "text/x-python",
   "name": "python",
   "nbconvert_exporter": "python",
   "pygments_lexer": "ipython3",
   "version": "3.8.12"
  },
  "orig_nbformat": 4,
  "vscode": {
   "interpreter": {
    "hash": "4c1a4eb9908e0f18f8bc0ca376a7490ca23df4d1e24f62836cb8a41fb5095f26"
   }
  }
 },
 "nbformat": 4,
 "nbformat_minor": 2
}
