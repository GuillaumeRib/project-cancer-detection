{
 "cells": [
  {
   "cell_type": "markdown",
   "metadata": {
    "tags": []
   },
   "source": [
    "# Baseline Model"
   ]
  },
  {
   "cell_type": "code",
   "execution_count": 1,
   "metadata": {},
   "outputs": [],
   "source": [
    "import numpy as np\n",
    "import pandas as pd\n",
    "import matplotlib.pyplot as plt"
   ]
  },
  {
   "cell_type": "markdown",
   "metadata": {
    "tags": []
   },
   "source": [
    "## Local Train / Test set paths"
   ]
  },
  {
   "cell_type": "code",
   "execution_count": 2,
   "metadata": {},
   "outputs": [],
   "source": [
    "# Link to your sample train_path (manually selected for now)\n",
    "local_train_path = '../raw_data/SAMPLES/TRAIN_5K'\n",
    "local_test_path = '../raw_data/SAMPLES/TEST_5K'"
   ]
  },
  {
   "cell_type": "markdown",
   "metadata": {},
   "source": [
    "## Cloud paths - TO DO"
   ]
  },
  {
   "cell_type": "code",
   "execution_count": 3,
   "metadata": {},
   "outputs": [],
   "source": [
    "# Need to link to cloud storage account hosting all sample folders already ready to use by the model\n",
    "cloud_train_path = '..'\n",
    "cloud_test_path = '..'"
   ]
  },
  {
   "cell_type": "markdown",
   "metadata": {},
   "source": [
    "## Preprocessing - Loading Train & Test images as Tensorflow generators"
   ]
  },
  {
   "cell_type": "code",
   "execution_count": 4,
   "metadata": {},
   "outputs": [],
   "source": [
    "from tensorflow.keras.preprocessing.image import ImageDataGenerator"
   ]
  },
  {
   "cell_type": "code",
   "execution_count": 5,
   "metadata": {},
   "outputs": [],
   "source": [
    "# ImageGenerator preprocess images / minimum params / to read .tif images\n",
    "train_datagen = ImageDataGenerator(validation_split=0.2)\n",
    "test_datagen = ImageDataGenerator()"
   ]
  },
  {
   "cell_type": "code",
   "execution_count": 6,
   "metadata": {},
   "outputs": [
    {
     "name": "stdout",
     "output_type": "stream",
     "text": [
      "Found 4000 images belonging to 2 classes.\n",
      "Found 1000 images belonging to 2 classes.\n",
      "Found 1000 images belonging to 2 classes.\n"
     ]
    }
   ],
   "source": [
    "# Load from directory to flow passsed into ImageGenerator\n",
    "train_generator = train_datagen.flow_from_directory(local_train_path,\n",
    "                                                    subset='training',\n",
    "                                                    target_size=(96,96),\n",
    "                                                    batch_size=16,\n",
    "                                                    class_mode='binary')\n",
    "\n",
    "val_generator = train_datagen.flow_from_directory(local_train_path,\n",
    "                                                  subset='validation',\n",
    "                                                  target_size=(96,96),\n",
    "                                                  batch_size=16,\n",
    "                                                  class_mode='binary')\n",
    "                        \n",
    "\n",
    "test_generator = test_datagen.flow_from_directory(local_test_path,\n",
    "                                                  target_size=(96,96),\n",
    "                                                  class_mode='binary')"
   ]
  },
  {
   "cell_type": "markdown",
   "metadata": {
    "tags": []
   },
   "source": [
    "## Model"
   ]
  },
  {
   "cell_type": "markdown",
   "metadata": {},
   "source": [
    "### Design and Init function"
   ]
  },
  {
   "cell_type": "code",
   "execution_count": 7,
   "metadata": {},
   "outputs": [],
   "source": [
    "# INIT MODEL and COMPILE\n",
    "from tensorflow.keras import layers, models\n",
    "from tensorflow.keras.layers.experimental.preprocessing import Rescaling\n",
    "\n",
    "def init_model():\n",
    "    model = models.Sequential()\n",
    "    \n",
    "    model.add(Rescaling(scale=1./255,input_shape=(96,96,3)))\n",
    "\n",
    "    # Lets add convolution layers, \n",
    "    model.add(layers.Conv2D(32, kernel_size=2, activation='relu'))\n",
    "    model.add(layers.MaxPooling2D(2))\n",
    "  \n",
    "    model.add(layers.Conv2D(32, kernel_size=2, activation=\"relu\"))\n",
    "    model.add(layers.MaxPooling2D(2))\n",
    "\n",
    "    model.add(layers.Conv2D(32, kernel_size=2, activation=\"relu\"))\n",
    "    model.add(layers.MaxPooling2D(2))\n",
    "\n",
    "\n",
    "    model.add(layers.Flatten())\n",
    "    \n",
    "    model.add(layers.Dense(30, activation='relu'))\n",
    "  \n",
    "    model.add(layers.Dense(1, activation='sigmoid'))\n",
    "\n",
    "     ### Model compilation\n",
    "    model.compile(loss='binary_crossentropy',\n",
    "                  optimizer='adam',\n",
    "                  metrics=['accuracy'])\n",
    "    return model"
   ]
  },
  {
   "cell_type": "markdown",
   "metadata": {},
   "source": [
    "### Model Training"
   ]
  },
  {
   "cell_type": "code",
   "execution_count": 8,
   "metadata": {},
   "outputs": [],
   "source": [
    "from tensorflow.keras.callbacks import EarlyStopping"
   ]
  },
  {
   "cell_type": "code",
   "execution_count": 9,
   "metadata": {},
   "outputs": [
    {
     "name": "stderr",
     "output_type": "stream",
     "text": [
      "2022-09-08 13:29:22.182355: I tensorflow/core/platform/cpu_feature_guard.cc:193] This TensorFlow binary is optimized with oneAPI Deep Neural Network Library (oneDNN) to use the following CPU instructions in performance-critical operations:  AVX2 FMA\n",
      "To enable them in other operations, rebuild TensorFlow with the appropriate compiler flags.\n"
     ]
    },
    {
     "name": "stdout",
     "output_type": "stream",
     "text": [
      "Epoch 1/15\n",
      "250/250 [==============================] - 24s 93ms/step - loss: 0.6226 - accuracy: 0.6300 - val_loss: 0.5527 - val_accuracy: 0.7220\n",
      "Epoch 2/15\n",
      "250/250 [==============================] - 26s 105ms/step - loss: 0.5133 - accuracy: 0.7558 - val_loss: 0.4692 - val_accuracy: 0.7860\n",
      "Epoch 3/15\n",
      "250/250 [==============================] - 24s 96ms/step - loss: 0.4994 - accuracy: 0.7653 - val_loss: 0.5337 - val_accuracy: 0.7430\n",
      "Epoch 4/15\n",
      "250/250 [==============================] - 24s 94ms/step - loss: 0.4744 - accuracy: 0.7875 - val_loss: 0.5103 - val_accuracy: 0.7590\n",
      "Epoch 5/15\n",
      "250/250 [==============================] - 24s 95ms/step - loss: 0.4641 - accuracy: 0.7885 - val_loss: 0.4432 - val_accuracy: 0.7960\n",
      "Epoch 6/15\n",
      "250/250 [==============================] - 24s 95ms/step - loss: 0.4451 - accuracy: 0.7970 - val_loss: 0.4469 - val_accuracy: 0.7950\n",
      "Epoch 7/15\n",
      "250/250 [==============================] - 24s 95ms/step - loss: 0.4219 - accuracy: 0.8140 - val_loss: 0.4458 - val_accuracy: 0.7820\n",
      "Epoch 8/15\n",
      "250/250 [==============================] - ETA: 0s - loss: 0.4070 - accuracy: 0.8198Restoring model weights from the end of the best epoch: 5.\n",
      "250/250 [==============================] - 25s 98ms/step - loss: 0.4070 - accuracy: 0.8198 - val_loss: 0.5214 - val_accuracy: 0.7820\n",
      "Epoch 8: early stopping\n"
     ]
    }
   ],
   "source": [
    "model = init_model()\n",
    "epochs = 15\n",
    "batch_size = 32\n",
    "es = EarlyStopping(patience=3, restore_best_weights=True,verbose=1)\n",
    "\n",
    "history = model.fit(train_generator,\n",
    "                    epochs = epochs,\n",
    "                    validation_data=val_generator,\n",
    "                    batch_size = batch_size, \n",
    "                    verbose = 1, \n",
    "                    callbacks = [es])"
   ]
  },
  {
   "cell_type": "markdown",
   "metadata": {},
   "source": [
    "### Plot Loss & Accuracy charts"
   ]
  },
  {
   "cell_type": "code",
   "execution_count": 10,
   "metadata": {},
   "outputs": [],
   "source": [
    "# Plot loss history function\n",
    "def plot_loss_accuracy(history, title=None):\n",
    "    fig, ax = plt.subplots(1,2, figsize=(16,4))\n",
    "    \n",
    "    # --- LOSS --- \n",
    "    \n",
    "    ax[0].plot(history.history['loss'])\n",
    "    ax[0].plot(history.history['val_loss'])\n",
    "    ax[0].set_title('Model loss')\n",
    "    ax[0].set_ylabel('Loss')\n",
    "    ax[0].set_xlabel('Epoch')\n",
    "    ax[0].set_ylim((0.3,0.8))\n",
    "    ax[0].legend(['Train', 'Val'], loc='best')\n",
    "    ax[0].grid(axis=\"x\",linewidth=0.5)\n",
    "    ax[0].grid(axis=\"y\",linewidth=0.5)\n",
    "    \n",
    "    # --- ACCURACY\n",
    "    \n",
    "    ax[1].plot(history.history['accuracy'])\n",
    "    ax[1].plot(history.history['val_accuracy'])\n",
    "    ax[1].set_title('Model Accuracy')\n",
    "    ax[1].set_ylabel('Accuracy')\n",
    "    ax[1].set_xlabel('Epoch')\n",
    "    ax[1].legend(['Train', 'Val'], loc='best')\n",
    "    ax[1].set_ylim((0.5,1))\n",
    "    ax[1].grid(axis=\"x\",linewidth=0.5)\n",
    "    ax[1].grid(axis=\"y\",linewidth=0.5)\n",
    "    \n",
    "    if title:\n",
    "        fig.suptitle(title)"
   ]
  },
  {
   "cell_type": "code",
   "execution_count": 11,
   "metadata": {},
   "outputs": [
    {
     "data": {
      "image/png": "[encoded data removed]",
      "text/plain": [
       "<Figure size 1600x400 with 2 Axes>"
      ]
     },
     "metadata": {},
     "output_type": "display_data"
    }
   ],
   "source": [
    "# Plot the loss & accuracy curves\n",
    "plot_loss_accuracy(history)"
   ]
  },
  {
   "cell_type": "markdown",
   "metadata": {
    "tags": []
   },
   "source": [
    "### Model Evaluation"
   ]
  },
  {
   "cell_type": "code",
   "execution_count": 12,
   "metadata": {},
   "outputs": [
    {
     "name": "stdout",
     "output_type": "stream",
     "text": [
      "32/32 [==============================] - 2s 62ms/step - loss: 0.4263 - accuracy: 0.8010\n",
      "The accuracy on the test set is of 80.10 %\n"
     ]
    }
   ],
   "source": [
    "results = model.evaluate(test_generator, verbose = 1 )\n",
    "print(f'The accuracy on the test set is of {results[1]*100:.2f} %')"
   ]
  },
  {
   "cell_type": "code",
   "execution_count": 2,
   "metadata": {},
   "outputs": [
    {
     "ename": "Forbidden",
     "evalue": "403 GET https://storage.googleapis.com/download/storage/v1/b/cancer-detection-small-datasets/o/%2Ftest_1k%2F0%2F01132f290bf88852e10d23ea2f6f5557ba624f74.tif?alt=media&userProject=ethereal-runner-356713: le-wagon-bootcamp@wagon-bootcamp-991.iam.gserviceaccount.com does not have serviceusage.services.use access to the Google Cloud project.: ('Request failed with status code', 403, 'Expected one of', <HTTPStatus.OK: 200>, <HTTPStatus.PARTIAL_CONTENT: 206>)",
     "output_type": "error",
     "traceback": [
      "\u001b[0;31m---------------------------------------------------------------------------\u001b[0m",
      "\u001b[0;31mInvalidResponse\u001b[0m                           Traceback (most recent call last)",
      "File \u001b[0;32m~/.pyenv/versions/3.8.12/envs/project-cancer-detection/lib/python3.8/site-packages/google/cloud/storage/client.py:1151\u001b[0m, in \u001b[0;36mClient.download_blob_to_file\u001b[0;34m(self, blob_or_uri, file_obj, start, end, raw_download, if_etag_match, if_etag_not_match, if_generation_match, if_generation_not_match, if_metageneration_match, if_metageneration_not_match, timeout, checksum, retry)\u001b[0m\n\u001b[1;32m   1150\u001b[0m \u001b[39mtry\u001b[39;00m:\n\u001b[0;32m-> 1151\u001b[0m     blob_or_uri\u001b[39m.\u001b[39;49m_do_download(\n\u001b[1;32m   1152\u001b[0m         transport,\n\u001b[1;32m   1153\u001b[0m         file_obj,\n\u001b[1;32m   1154\u001b[0m         download_url,\n\u001b[1;32m   1155\u001b[0m         headers,\n\u001b[1;32m   1156\u001b[0m         start,\n\u001b[1;32m   1157\u001b[0m         end,\n\u001b[1;32m   1158\u001b[0m         raw_download,\n\u001b[1;32m   1159\u001b[0m         timeout\u001b[39m=\u001b[39;49mtimeout,\n\u001b[1;32m   1160\u001b[0m         checksum\u001b[39m=\u001b[39;49mchecksum,\n\u001b[1;32m   1161\u001b[0m         retry\u001b[39m=\u001b[39;49mretry,\n\u001b[1;32m   1162\u001b[0m     )\n\u001b[1;32m   1163\u001b[0m \u001b[39mexcept\u001b[39;00m resumable_media\u001b[39m.\u001b[39mInvalidResponse \u001b[39mas\u001b[39;00m exc:\n",
      "File \u001b[0;32m~/.pyenv/versions/3.8.12/envs/project-cancer-detection/lib/python3.8/site-packages/google/cloud/storage/blob.py:989\u001b[0m, in \u001b[0;36mBlob._do_download\u001b[0;34m(self, transport, file_obj, download_url, headers, start, end, raw_download, timeout, checksum, retry)\u001b[0m\n\u001b[1;32m    988\u001b[0m download\u001b[39m.\u001b[39m_retry_strategy \u001b[39m=\u001b[39m retry_strategy\n\u001b[0;32m--> 989\u001b[0m response \u001b[39m=\u001b[39m download\u001b[39m.\u001b[39;49mconsume(transport, timeout\u001b[39m=\u001b[39;49mtimeout)\n\u001b[1;32m    990\u001b[0m \u001b[39mself\u001b[39m\u001b[39m.\u001b[39m_extract_headers_from_download(response)\n",
      "File \u001b[0;32m~/.pyenv/versions/3.8.12/envs/project-cancer-detection/lib/python3.8/site-packages/google/resumable_media/requests/download.py:214\u001b[0m, in \u001b[0;36mDownload.consume\u001b[0;34m(self, transport, timeout)\u001b[0m\n\u001b[1;32m    212\u001b[0m     \u001b[39mreturn\u001b[39;00m result\n\u001b[0;32m--> 214\u001b[0m \u001b[39mreturn\u001b[39;00m _request_helpers\u001b[39m.\u001b[39;49mwait_and_retry(\n\u001b[1;32m    215\u001b[0m     retriable_request, \u001b[39mself\u001b[39;49m\u001b[39m.\u001b[39;49m_get_status_code, \u001b[39mself\u001b[39;49m\u001b[39m.\u001b[39;49m_retry_strategy\n\u001b[1;32m    216\u001b[0m )\n",
      "File \u001b[0;32m~/.pyenv/versions/3.8.12/envs/project-cancer-detection/lib/python3.8/site-packages/google/resumable_media/requests/_request_helpers.py:148\u001b[0m, in \u001b[0;36mwait_and_retry\u001b[0;34m(func, get_status_code, retry_strategy)\u001b[0m\n\u001b[1;32m    147\u001b[0m \u001b[39mtry\u001b[39;00m:\n\u001b[0;32m--> 148\u001b[0m     response \u001b[39m=\u001b[39m func()\n\u001b[1;32m    149\u001b[0m \u001b[39mexcept\u001b[39;00m _CONNECTION_ERROR_CLASSES \u001b[39mas\u001b[39;00m e:\n",
      "File \u001b[0;32m~/.pyenv/versions/3.8.12/envs/project-cancer-detection/lib/python3.8/site-packages/google/resumable_media/requests/download.py:207\u001b[0m, in \u001b[0;36mDownload.consume.<locals>.retriable_request\u001b[0;34m()\u001b[0m\n\u001b[1;32m    203\u001b[0m     \u001b[39mself\u001b[39m\u001b[39m.\u001b[39m_object_generation \u001b[39m=\u001b[39m _helpers\u001b[39m.\u001b[39m_parse_generation_header(\n\u001b[1;32m    204\u001b[0m         result, \u001b[39mself\u001b[39m\u001b[39m.\u001b[39m_get_headers\n\u001b[1;32m    205\u001b[0m     )\n\u001b[0;32m--> 207\u001b[0m \u001b[39mself\u001b[39;49m\u001b[39m.\u001b[39;49m_process_response(result)\n\u001b[1;32m    209\u001b[0m \u001b[39mif\u001b[39;00m \u001b[39mself\u001b[39m\u001b[39m.\u001b[39m_stream \u001b[39mis\u001b[39;00m \u001b[39mnot\u001b[39;00m \u001b[39mNone\u001b[39;00m:\n",
      "File \u001b[0;32m~/.pyenv/versions/3.8.12/envs/project-cancer-detection/lib/python3.8/site-packages/google/resumable_media/_download.py:188\u001b[0m, in \u001b[0;36mDownload._process_response\u001b[0;34m(self, response)\u001b[0m\n\u001b[1;32m    187\u001b[0m \u001b[39mself\u001b[39m\u001b[39m.\u001b[39m_finished \u001b[39m=\u001b[39m \u001b[39mTrue\u001b[39;00m\n\u001b[0;32m--> 188\u001b[0m _helpers\u001b[39m.\u001b[39;49mrequire_status_code(\n\u001b[1;32m    189\u001b[0m     response, _ACCEPTABLE_STATUS_CODES, \u001b[39mself\u001b[39;49m\u001b[39m.\u001b[39;49m_get_status_code\n\u001b[1;32m    190\u001b[0m )\n",
      "File \u001b[0;32m~/.pyenv/versions/3.8.12/envs/project-cancer-detection/lib/python3.8/site-packages/google/resumable_media/_helpers.py:105\u001b[0m, in \u001b[0;36mrequire_status_code\u001b[0;34m(response, status_codes, get_status_code, callback)\u001b[0m\n\u001b[1;32m    104\u001b[0m         callback()\n\u001b[0;32m--> 105\u001b[0m     \u001b[39mraise\u001b[39;00m common\u001b[39m.\u001b[39mInvalidResponse(\n\u001b[1;32m    106\u001b[0m         response,\n\u001b[1;32m    107\u001b[0m         \u001b[39m\"\u001b[39m\u001b[39mRequest failed with status code\u001b[39m\u001b[39m\"\u001b[39m,\n\u001b[1;32m    108\u001b[0m         status_code,\n\u001b[1;32m    109\u001b[0m         \u001b[39m\"\u001b[39m\u001b[39mExpected one of\u001b[39m\u001b[39m\"\u001b[39m,\n\u001b[1;32m    110\u001b[0m         \u001b[39m*\u001b[39mstatus_codes\n\u001b[1;32m    111\u001b[0m     )\n\u001b[1;32m    112\u001b[0m \u001b[39mreturn\u001b[39;00m status_code\n",
      "\u001b[0;31mInvalidResponse\u001b[0m: ('Request failed with status code', 403, 'Expected one of', <HTTPStatus.OK: 200>, <HTTPStatus.PARTIAL_CONTENT: 206>)",
      "\nDuring handling of the above exception, another exception occurred:\n",
      "\u001b[0;31mForbidden\u001b[0m                                 Traceback (most recent call last)",
      "\u001b[1;32m/Users/chloeguillaume/code/GuillaumeRib/project-cancer-detection/notebooks/GuiRib_Baseline_Model.ipynb Cellule 22\u001b[0m in \u001b[0;36m<cell line: 10>\u001b[0;34m()\u001b[0m\n\u001b[1;32m      <a href='vscode-notebook-cell:/Users/chloeguillaume/code/GuillaumeRib/project-cancer-detection/notebooks/GuiRib_Baseline_Model.ipynb#X30sZmlsZQ%3D%3D?line=7'>8</a>\u001b[0m url \u001b[39m=\u001b[39m \u001b[39m'\u001b[39m\u001b[39mhttps://storage.googleapis.com/cancer-detection-small-datasets/test_1k/0/01132f290bf88852e10d23ea2f6f5557ba624f74.tif\u001b[39m\u001b[39m'\u001b[39m\n\u001b[1;32m      <a href='vscode-notebook-cell:/Users/chloeguillaume/code/GuillaumeRib/project-cancer-detection/notebooks/GuiRib_Baseline_Model.ipynb#X30sZmlsZQ%3D%3D?line=8'>9</a>\u001b[0m blob \u001b[39m=\u001b[39m bucket\u001b[39m.\u001b[39mblob(\u001b[39m'\u001b[39m\u001b[39m/test_1k/0/01132f290bf88852e10d23ea2f6f5557ba624f74.tif\u001b[39m\u001b[39m'\u001b[39m)\n\u001b[0;32m---> <a href='vscode-notebook-cell:/Users/chloeguillaume/code/GuillaumeRib/project-cancer-detection/notebooks/GuiRib_Baseline_Model.ipynb#X30sZmlsZQ%3D%3D?line=9'>10</a>\u001b[0m blob\u001b[39m.\u001b[39;49mdownload_to_filename(\u001b[39m'\u001b[39;49m\u001b[39mtest.tif\u001b[39;49m\u001b[39m'\u001b[39;49m)\n",
      "File \u001b[0;32m~/.pyenv/versions/3.8.12/envs/project-cancer-detection/lib/python3.8/site-packages/google/cloud/storage/blob.py:1270\u001b[0m, in \u001b[0;36mBlob.download_to_filename\u001b[0;34m(self, filename, client, start, end, raw_download, if_etag_match, if_etag_not_match, if_generation_match, if_generation_not_match, if_metageneration_match, if_metageneration_not_match, timeout, checksum, retry)\u001b[0m\n\u001b[1;32m   1268\u001b[0m \u001b[39mtry\u001b[39;00m:\n\u001b[1;32m   1269\u001b[0m     \u001b[39mwith\u001b[39;00m \u001b[39mopen\u001b[39m(filename, \u001b[39m\"\u001b[39m\u001b[39mwb\u001b[39m\u001b[39m\"\u001b[39m) \u001b[39mas\u001b[39;00m file_obj:\n\u001b[0;32m-> 1270\u001b[0m         client\u001b[39m.\u001b[39;49mdownload_blob_to_file(\n\u001b[1;32m   1271\u001b[0m             \u001b[39mself\u001b[39;49m,\n\u001b[1;32m   1272\u001b[0m             file_obj,\n\u001b[1;32m   1273\u001b[0m             start\u001b[39m=\u001b[39;49mstart,\n\u001b[1;32m   1274\u001b[0m             end\u001b[39m=\u001b[39;49mend,\n\u001b[1;32m   1275\u001b[0m             raw_download\u001b[39m=\u001b[39;49mraw_download,\n\u001b[1;32m   1276\u001b[0m             if_etag_match\u001b[39m=\u001b[39;49mif_etag_match,\n\u001b[1;32m   1277\u001b[0m             if_etag_not_match\u001b[39m=\u001b[39;49mif_etag_not_match,\n\u001b[1;32m   1278\u001b[0m             if_generation_match\u001b[39m=\u001b[39;49mif_generation_match,\n\u001b[1;32m   1279\u001b[0m             if_generation_not_match\u001b[39m=\u001b[39;49mif_generation_not_match,\n\u001b[1;32m   1280\u001b[0m             if_metageneration_match\u001b[39m=\u001b[39;49mif_metageneration_match,\n\u001b[1;32m   1281\u001b[0m             if_metageneration_not_match\u001b[39m=\u001b[39;49mif_metageneration_not_match,\n\u001b[1;32m   1282\u001b[0m             timeout\u001b[39m=\u001b[39;49mtimeout,\n\u001b[1;32m   1283\u001b[0m             checksum\u001b[39m=\u001b[39;49mchecksum,\n\u001b[1;32m   1284\u001b[0m             retry\u001b[39m=\u001b[39;49mretry,\n\u001b[1;32m   1285\u001b[0m         )\n\u001b[1;32m   1286\u001b[0m \u001b[39mexcept\u001b[39;00m resumable_media\u001b[39m.\u001b[39mDataCorruption:\n\u001b[1;32m   1287\u001b[0m     \u001b[39m# Delete the corrupt downloaded file.\u001b[39;00m\n\u001b[1;32m   1288\u001b[0m     os\u001b[39m.\u001b[39mremove(filename)\n",
      "File \u001b[0;32m~/.pyenv/versions/3.8.12/envs/project-cancer-detection/lib/python3.8/site-packages/google/cloud/storage/client.py:1164\u001b[0m, in \u001b[0;36mClient.download_blob_to_file\u001b[0;34m(self, blob_or_uri, file_obj, start, end, raw_download, if_etag_match, if_etag_not_match, if_generation_match, if_generation_not_match, if_metageneration_match, if_metageneration_not_match, timeout, checksum, retry)\u001b[0m\n\u001b[1;32m   1151\u001b[0m     blob_or_uri\u001b[39m.\u001b[39m_do_download(\n\u001b[1;32m   1152\u001b[0m         transport,\n\u001b[1;32m   1153\u001b[0m         file_obj,\n\u001b[0;32m   (...)\u001b[0m\n\u001b[1;32m   1161\u001b[0m         retry\u001b[39m=\u001b[39mretry,\n\u001b[1;32m   1162\u001b[0m     )\n\u001b[1;32m   1163\u001b[0m \u001b[39mexcept\u001b[39;00m resumable_media\u001b[39m.\u001b[39mInvalidResponse \u001b[39mas\u001b[39;00m exc:\n\u001b[0;32m-> 1164\u001b[0m     _raise_from_invalid_response(exc)\n",
      "File \u001b[0;32m~/.pyenv/versions/3.8.12/envs/project-cancer-detection/lib/python3.8/site-packages/google/cloud/storage/blob.py:4457\u001b[0m, in \u001b[0;36m_raise_from_invalid_response\u001b[0;34m(error)\u001b[0m\n\u001b[1;32m   4453\u001b[0m     error_message \u001b[39m=\u001b[39m \u001b[39mstr\u001b[39m(error)\n\u001b[1;32m   4455\u001b[0m message \u001b[39m=\u001b[39m \u001b[39mf\u001b[39m\u001b[39m\"\u001b[39m\u001b[39m{\u001b[39;00mresponse\u001b[39m.\u001b[39mrequest\u001b[39m.\u001b[39mmethod\u001b[39m}\u001b[39;00m\u001b[39m \u001b[39m\u001b[39m{\u001b[39;00mresponse\u001b[39m.\u001b[39mrequest\u001b[39m.\u001b[39murl\u001b[39m}\u001b[39;00m\u001b[39m: \u001b[39m\u001b[39m{\u001b[39;00merror_message\u001b[39m}\u001b[39;00m\u001b[39m\"\u001b[39m\n\u001b[0;32m-> 4457\u001b[0m \u001b[39mraise\u001b[39;00m exceptions\u001b[39m.\u001b[39mfrom_http_status(response\u001b[39m.\u001b[39mstatus_code, message, response\u001b[39m=\u001b[39mresponse)\n",
      "\u001b[0;31mForbidden\u001b[0m: 403 GET https://storage.googleapis.com/download/storage/v1/b/cancer-detection-small-datasets/o/%2Ftest_1k%2F0%2F01132f290bf88852e10d23ea2f6f5557ba624f74.tif?alt=media&userProject=ethereal-runner-356713: le-wagon-bootcamp@wagon-bootcamp-991.iam.gserviceaccount.com does not have serviceusage.services.use access to the Google Cloud project.: ('Request failed with status code', 403, 'Expected one of', <HTTPStatus.OK: 200>, <HTTPStatus.PARTIAL_CONTENT: 206>)"
     ]
    }
   ],
   "source": [
    "from google.cloud import storage\n",
    "from project_cancer_detection.ml_logic.params import PROJECT,BUCKET_NAME\n",
    "\n",
    "# get default project id\n",
    "client = storage.Client()\n",
    "bucket = storage.Bucket(client, BUCKET_NAME, user_project=PROJECT)\n",
    "#blobs = bucket.list_blobs()\n",
    "url = 'https://storage.googleapis.com/cancer-detection-small-datasets/test_1k/0/01132f290bf88852e10d23ea2f6f5557ba624f74.tif'\n",
    "blob = bucket.blob('/test_1k/0/01132f290bf88852e10d23ea2f6f5557ba624f74.tif')\n",
    "blob.download_to_filename('test.tif')\n"
   ]
  },
  {
   "cell_type": "code",
   "execution_count": 11,
   "metadata": {},
   "outputs": [
    {
     "ename": "SyntaxError",
     "evalue": "invalid syntax (4209936853.py, line 1)",
     "output_type": "error",
     "traceback": [
      "\u001b[0;36m  Input \u001b[0;32mIn [11]\u001b[0;36m\u001b[0m\n\u001b[0;31m    bucket = storage.Bucket(gs://cancer-detection-small-datasets)\u001b[0m\n\u001b[0m                              ^\u001b[0m\n\u001b[0;31mSyntaxError\u001b[0m\u001b[0;31m:\u001b[0m invalid syntax\n"
     ]
    }
   ],
   "source": [
    "bucket = storage.Bucket(gs://cancer-detection-small-datasets)"
   ]
  },
  {
   "cell_type": "code",
   "execution_count": null,
   "metadata": {},
   "outputs": [],
   "source": []
  }
 ],
 "metadata": {
  "kernelspec": {
   "display_name": "Python 3.8.12 64-bit ('project-cancer-detection')",
   "language": "python",
   "name": "python3"
  },
  "language_info": {
   "codemirror_mode": {
    "name": "ipython",
    "version": 3
   },
   "file_extension": ".py",
   "mimetype": "text/x-python",
   "name": "python",
   "nbconvert_exporter": "python",
   "pygments_lexer": "ipython3",
   "version": "3.8.12"
  },
  "vscode": {
   "interpreter": {
    "hash": "70db0b36e5211eb36e351e70f9c19e45c8a30ea552e0a99dbfd0d7dfcadeae18"
   }
  }
 },
 "nbformat": 4,
 "nbformat_minor": 4
}
