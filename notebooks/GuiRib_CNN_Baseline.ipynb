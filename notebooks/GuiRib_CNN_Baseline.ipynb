{
 "cells": [
  {
   "cell_type": "markdown",
   "metadata": {
    "tags": []
   },
   "source": [
    "# Baseline Model"
   ]
  },
  {
   "cell_type": "code",
   "execution_count": 1,
   "metadata": {},
   "outputs": [],
   "source": [
    "import numpy as np\n",
    "import pandas as pd\n",
    "import matplotlib.pyplot as plt"
   ]
  },
  {
   "cell_type": "markdown",
   "metadata": {
    "tags": []
   },
   "source": [
    "## Local Train / Test set paths"
   ]
  },
  {
   "cell_type": "code",
   "execution_count": 37,
   "metadata": {},
   "outputs": [],
   "source": [
    "# Link to your sample train_path (manually selected for now)\n",
    "local_train_path = '../raw_data/SAMPLES/TRAIN_10K'\n",
    "local_test_path = '../raw_data/SAMPLES/TEST_10K'"
   ]
  },
  {
   "cell_type": "markdown",
   "metadata": {},
   "source": [
    "## Preprocessing - Loading Train & Test images as Tensorflow generators"
   ]
  },
  {
   "cell_type": "code",
   "execution_count": 38,
   "metadata": {},
   "outputs": [],
   "source": [
    "from tensorflow.keras.preprocessing.image import ImageDataGenerator"
   ]
  },
  {
   "cell_type": "code",
   "execution_count": 39,
   "metadata": {},
   "outputs": [],
   "source": [
    "# ImageGenerator preprocess images / minimum params / to read .tif images\n",
    "train_datagen = ImageDataGenerator(validation_split=0.2)\n",
    "test_datagen = ImageDataGenerator()"
   ]
  },
  {
   "cell_type": "code",
   "execution_count": 40,
   "metadata": {},
   "outputs": [
    {
     "name": "stdout",
     "output_type": "stream",
     "text": [
      "Found 8000 images belonging to 2 classes.\n",
      "Found 2000 images belonging to 2 classes.\n",
      "Found 2000 images belonging to 2 classes.\n"
     ]
    }
   ],
   "source": [
    "# Load from directory to flow passsed into ImageGenerator\n",
    "train_generator = train_datagen.flow_from_directory(local_train_path,\n",
    "                                                    subset='training',\n",
    "                                                    target_size=(96,96),\n",
    "                                                    batch_size=16,\n",
    "                                                    class_mode='binary')\n",
    "\n",
    "val_generator = train_datagen.flow_from_directory(local_train_path,\n",
    "                                                  subset='validation',\n",
    "                                                  target_size=(96,96),\n",
    "                                                  batch_size=16,\n",
    "                                                  class_mode='binary')\n",
    "                        \n",
    "\n",
    "test_generator = test_datagen.flow_from_directory(local_test_path,\n",
    "                                                  target_size=(96,96),\n",
    "                                                  class_mode='binary')"
   ]
  },
  {
   "cell_type": "markdown",
   "metadata": {
    "tags": []
   },
   "source": [
    "## Model"
   ]
  },
  {
   "cell_type": "markdown",
   "metadata": {},
   "source": [
    "### Design and Init function"
   ]
  },
  {
   "cell_type": "code",
   "execution_count": 41,
   "metadata": {},
   "outputs": [],
   "source": [
    "# INIT MODEL and COMPILE\n",
    "from tensorflow.keras import layers, models\n",
    "from tensorflow.keras.layers.experimental.preprocessing import Rescaling\n",
    "\n",
    "def init_model():\n",
    "    model = models.Sequential()\n",
    "    \n",
    "    model.add(Rescaling(scale=1./255,input_shape=(96,96,3)))\n",
    "\n",
    "    # Lets add convolution layers, \n",
    "    model.add(layers.Conv2D(32, kernel_size=2, activation='relu'))\n",
    "    model.add(layers.MaxPooling2D(2))\n",
    "  \n",
    "    model.add(layers.Conv2D(32, kernel_size=2, activation=\"relu\"))\n",
    "    model.add(layers.MaxPooling2D(2))\n",
    "\n",
    "    model.add(layers.Conv2D(32, kernel_size=2, activation=\"relu\"))\n",
    "    model.add(layers.MaxPooling2D(2))\n",
    "\n",
    "\n",
    "    model.add(layers.Flatten())\n",
    "    \n",
    "    model.add(layers.Dense(30, activation='relu'))\n",
    "  \n",
    "    model.add(layers.Dense(1, activation='sigmoid'))\n",
    "\n",
    "     ### Model compilation\n",
    "    model.compile(loss='binary_crossentropy',\n",
    "                  optimizer='adam',\n",
    "                  metrics=['accuracy'])\n",
    "    return model"
   ]
  },
  {
   "cell_type": "markdown",
   "metadata": {},
   "source": [
    "### Model Training"
   ]
  },
  {
   "cell_type": "code",
   "execution_count": 42,
   "metadata": {},
   "outputs": [],
   "source": [
    "from tensorflow.keras.callbacks import EarlyStopping"
   ]
  },
  {
   "cell_type": "code",
   "execution_count": 43,
   "metadata": {},
   "outputs": [
    {
     "name": "stdout",
     "output_type": "stream",
     "text": [
      "500/500 [==============================] - 80s 157ms/step - loss: 0.5264 - accuracy: 0.7431 - val_loss: 0.5479 - val_accuracy: 0.7400\n"
     ]
    }
   ],
   "source": [
    "model = init_model()\n",
    "epochs = 1\n",
    "batch_size = 32\n",
    "es = EarlyStopping(patience=3, restore_best_weights=True,verbose=1)\n",
    "\n",
    "history = model.fit(train_generator,\n",
    "                    epochs = epochs,\n",
    "                    validation_data=val_generator,\n",
    "                    batch_size = batch_size, \n",
    "                    verbose = 1, \n",
    "                    callbacks = [es])"
   ]
  },
  {
   "cell_type": "markdown",
   "metadata": {},
   "source": [
    "### Plot Loss & Accuracy charts"
   ]
  },
  {
   "cell_type": "code",
   "execution_count": 47,
   "metadata": {},
   "outputs": [],
   "source": [
    "# Plot loss history function\n",
    "def plot_loss_accuracy(history, title=None):\n",
    "    fig, ax = plt.subplots(1,2, figsize=(16,4))\n",
    "    \n",
    "    # --- LOSS --- \n",
    "    \n",
    "    ax[0].plot(history.history['loss'])\n",
    "    ax[0].plot(history.history['val_loss'])\n",
    "    ax[0].set_title('Model Loss')\n",
    "    ax[0].set_ylabel('Loss')\n",
    "    ax[0].set_xlabel('Epoch')\n",
    "    ax[0].set_ylim((0.3,0.8))\n",
    "    ax[0].legend(['Train', 'Val'], loc='best')\n",
    "    ax[0].grid(axis=\"x\",linewidth=0.5)\n",
    "    ax[0].grid(axis=\"y\",linewidth=0.5)\n",
    "    \n",
    "    # --- ACCURACY\n",
    "    \n",
    "    ax[1].plot(history.history['accuracy'])\n",
    "    ax[1].plot(history.history['val_accuracy'])\n",
    "    ax[1].set_title('Model Accuracy')\n",
    "    ax[1].set_ylabel('Accuracy')\n",
    "    ax[1].set_xlabel('Epoch')\n",
    "    ax[1].legend(['Train', 'Val'], loc='best')\n",
    "    ax[1].set_ylim((0.5,1))\n",
    "    ax[1].grid(axis=\"x\",linewidth=0.5)\n",
    "    ax[1].grid(axis=\"y\",linewidth=0.5)\n",
    "    \n",
    "    if title:\n",
    "        fig.suptitle(title)"
   ]
  },
  {
   "cell_type": "code",
   "execution_count": 48,
   "metadata": {},
   "outputs": [
    {
     "data": {
      "image/png": "[encoded data removed]",
      "text/plain": [
       "<Figure size 1600x400 with 2 Axes>"
      ]
     },
     "metadata": {},
     "output_type": "display_data"
    }
   ],
   "source": [
    "# Plot the loss & accuracy curves\n",
    "plot_loss_accuracy(history)"
   ]
  },
  {
   "cell_type": "markdown",
   "metadata": {
    "tags": []
   },
   "source": [
    "### Model Evaluation"
   ]
  },
  {
   "cell_type": "code",
   "execution_count": 50,
   "metadata": {},
   "outputs": [
    {
     "name": "stdout",
     "output_type": "stream",
     "text": [
      "63/63 [==============================] - 6s 87ms/step - loss: 0.5081 - accuracy: 0.7705\n",
      "The accuracy on the test set is of 77.05 %\n"
     ]
    }
   ],
   "source": [
    "results = model.evaluate(test_generator, verbose = 1 )\n",
    "print(f'The accuracy on the test set is of {results[1]*100:.2f} %')"
   ]
  },
  {
   "cell_type": "code",
   "execution_count": null,
   "metadata": {},
   "outputs": [],
   "source": []
  }
 ],
 "metadata": {
  "kernelspec": {
   "display_name": "Python 3.8.12 64-bit ('project-cancer-detection')",
   "language": "python",
   "name": "python3"
  },
  "language_info": {
   "codemirror_mode": {
    "name": "ipython",
    "version": 3
   },
   "file_extension": ".py",
   "mimetype": "text/x-python",
   "name": "python",
   "nbconvert_exporter": "python",
   "pygments_lexer": "ipython3",
   "version": "3.8.12"
  },
  "vscode": {
   "interpreter": {
    "hash": "70db0b36e5211eb36e351e70f9c19e45c8a30ea552e0a99dbfd0d7dfcadeae18"
   }
  }
 },
 "nbformat": 4,
 "nbformat_minor": 4
}
