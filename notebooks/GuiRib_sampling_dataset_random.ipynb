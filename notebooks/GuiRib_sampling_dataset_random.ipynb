{
 "cells": [
  {
   "cell_type": "markdown",
   "id": "a2acdccd-35db-480b-9df0-0e29cddc1134",
   "metadata": {},
   "source": [
    "# From train original data to Train_balanced / Test_59_41"
   ]
  },
  {
   "cell_type": "code",
   "execution_count": 2,
   "id": "76073663-e23a-4311-840e-32a6097f178a",
   "metadata": {},
   "outputs": [],
   "source": [
    "import pandas as pd\n",
    "import numpy as np\n",
    "import os\n",
    "import shutil\n",
    "from os.path import exists"
   ]
  },
  {
   "cell_type": "code",
   "execution_count": 3,
   "id": "b00a3e4c-bceb-4171-b319-26ad541351a0",
   "metadata": {},
   "outputs": [
    {
     "data": {
      "text/plain": [
       "220025"
      ]
     },
     "execution_count": 3,
     "metadata": {},
     "output_type": "execute_result"
    }
   ],
   "source": [
    "# Define full path and load dataframe with the original data\n",
    "source_path = '/home/chloeguillaume/code/GuillaumeRib/project-cancer-detection/raw_data/train/'\n",
    "labels = pd.read_csv('../raw_data/train_labels.csv')\n",
    "total_images = labels['id'].nunique()\n",
    "total_images"
   ]
  },
  {
   "cell_type": "code",
   "execution_count": 4,
   "id": "bdd10a41-c9a6-4886-8bf9-209fa9dadc1d",
   "metadata": {},
   "outputs": [
    {
     "data": {
      "text/html": [
       "<div>\n",
       "<style scoped>\n",
       "    .dataframe tbody tr th:only-of-type {\n",
       "        vertical-align: middle;\n",
       "    }\n",
       "\n",
       "    .dataframe tbody tr th {\n",
       "        vertical-align: top;\n",
       "    }\n",
       "\n",
       "    .dataframe thead th {\n",
       "        text-align: right;\n",
       "    }\n",
       "</style>\n",
       "<table border=\"1\" class=\"dataframe\">\n",
       "  <thead>\n",
       "    <tr style=\"text-align: right;\">\n",
       "      <th></th>\n",
       "      <th>id</th>\n",
       "    </tr>\n",
       "    <tr>\n",
       "      <th>label</th>\n",
       "      <th></th>\n",
       "    </tr>\n",
       "  </thead>\n",
       "  <tbody>\n",
       "    <tr>\n",
       "      <th>0</th>\n",
       "      <td>130908</td>\n",
       "    </tr>\n",
       "    <tr>\n",
       "      <th>1</th>\n",
       "      <td>89117</td>\n",
       "    </tr>\n",
       "  </tbody>\n",
       "</table>\n",
       "</div>"
      ],
      "text/plain": [
       "           id\n",
       "label        \n",
       "0      130908\n",
       "1       89117"
      ]
     },
     "execution_count": 4,
     "metadata": {},
     "output_type": "execute_result"
    }
   ],
   "source": [
    "total_count_labels = labels.groupby(by='label').count()\n",
    "total_count_labels"
   ]
  },
  {
   "cell_type": "code",
   "execution_count": 5,
   "id": "3afc0a7c-ccce-4027-bb19-5800ff0ff106",
   "metadata": {},
   "outputs": [
    {
     "name": "stdout",
     "output_type": "stream",
     "text": [
      " prop 0: 0.5949687535507329 /prop 1: 0.40503124644926713\n"
     ]
    }
   ],
   "source": [
    "total_0 = total_count_labels.iloc[0][0]\n",
    "total_1 = total_count_labels.iloc[1][0]\n",
    "percent_0 = total_0 / total_images\n",
    "percent_1 = total_1 / total_images\n",
    "print(f' prop 0: {percent_0} /prop 1: {percent_1}')"
   ]
  },
  {
   "cell_type": "code",
   "execution_count": 6,
   "id": "d20245b3-0a14-42b1-94aa-38742c07976e",
   "metadata": {},
   "outputs": [
    {
     "data": {
      "text/plain": [
       "130908"
      ]
     },
     "execution_count": 6,
     "metadata": {},
     "output_type": "execute_result"
    }
   ],
   "source": [
    "total_0"
   ]
  },
  {
   "cell_type": "code",
   "execution_count": 7,
   "id": "46b47ba2-1bd6-425b-8295-c9cfd50bb15c",
   "metadata": {},
   "outputs": [
    {
     "data": {
      "text/plain": [
       "89117"
      ]
     },
     "execution_count": 7,
     "metadata": {},
     "output_type": "execute_result"
    }
   ],
   "source": [
    "total_1"
   ]
  },
  {
   "cell_type": "markdown",
   "id": "1371cd41-4b1d-4e84-8f6b-6ee569c21be7",
   "metadata": {},
   "source": [
    "# Function to create TEST split (20%)- DO ONCE"
   ]
  },
  {
   "cell_type": "code",
   "execution_count": 11,
   "id": "306f8aad-bd92-43b8-b3fd-c4d25212f31a",
   "metadata": {},
   "outputs": [],
   "source": [
    "split_perc = 0.2\n",
    "n_samp_0 = int(split_perc * total_0)\n",
    "n_samp_1 = int(split_perc * total_1)\n",
    "\n",
    "source_path_0 = '/Users/chloeguillaume/code/GuillaumeRib/project-cancer-detection/raw_data/train/0'\n",
    "destination_path_0 = '/Users/chloeguillaume/code/GuillaumeRib/project-cancer-detection/raw_data/TEST/0'\n",
    "\n",
    "source_path_1 = '/Users/chloeguillaume/code/GuillaumeRib/project-cancer-detection/raw_data/train/1'\n",
    "destination_path_1 = '/Users/chloeguillaume/code/GuillaumeRib/project-cancer-detection/raw_data/TEST/1'\n",
    "\n",
    "test_label_0 = labels[labels['label']==0].sample(n_samp_0,random_state=72)\n",
    "test_label_1 = labels[labels['label']==1].sample(n_samp_1,random_state=72)\n",
    "\n",
    "train_label_0 = labels[labels['label']==0].drop(test_label_0.index)\n",
    "train_label_1 = labels[labels['label']==1].drop(test_label_1.index)\n",
    "\n",
    "# Do it once\n",
    "# for index,row in test_label_0.reset_index().iterrows():\n",
    "#     file = row['id']\n",
    "#     source_file = os.path.join(source_path_0,file+'.tif')\n",
    "#     destination_file = os.path.join(destination_path_0,file+'.tif')\n",
    "#     shutil.move(source_file,destination_file)\n",
    "    \n",
    "# for index,row in test_label_1.reset_index().iterrows():\n",
    "#     file = row['id']\n",
    "#     source_file = os.path.join(source_path_1,file+'.tif')\n",
    "#     destination_file = os.path.join(destination_path_1,file+'.tif')\n",
    "#     shutil.move(source_file,destination_file)\n",
    "    \n"
   ]
  },
  {
   "cell_type": "code",
   "execution_count": 12,
   "id": "cfbd4b79-d6d4-41b4-ace0-2076e4ce0a1a",
   "metadata": {},
   "outputs": [
    {
     "data": {
      "text/html": [
       "<div>\n",
       "<style scoped>\n",
       "    .dataframe tbody tr th:only-of-type {\n",
       "        vertical-align: middle;\n",
       "    }\n",
       "\n",
       "    .dataframe tbody tr th {\n",
       "        vertical-align: top;\n",
       "    }\n",
       "\n",
       "    .dataframe thead th {\n",
       "        text-align: right;\n",
       "    }\n",
       "</style>\n",
       "<table border=\"1\" class=\"dataframe\">\n",
       "  <thead>\n",
       "    <tr style=\"text-align: right;\">\n",
       "      <th></th>\n",
       "      <th>id</th>\n",
       "      <th>label</th>\n",
       "    </tr>\n",
       "  </thead>\n",
       "  <tbody>\n",
       "    <tr>\n",
       "      <th>479</th>\n",
       "      <td>64abfa0ab14ac59c9d762155a760c887ba975144</td>\n",
       "      <td>0</td>\n",
       "    </tr>\n",
       "    <tr>\n",
       "      <th>205758</th>\n",
       "      <td>dcc8e2d650066710efea54c9e8bcb4fde8cd25e0</td>\n",
       "      <td>0</td>\n",
       "    </tr>\n",
       "    <tr>\n",
       "      <th>105569</th>\n",
       "      <td>b05fefd0de0a96f86c53db4b4c431d6e23ef49f1</td>\n",
       "      <td>0</td>\n",
       "    </tr>\n",
       "    <tr>\n",
       "      <th>219718</th>\n",
       "      <td>c67948c8efc535a639c07e0a8d386228e924d8f9</td>\n",
       "      <td>0</td>\n",
       "    </tr>\n",
       "    <tr>\n",
       "      <th>198984</th>\n",
       "      <td>65ca1b611e9132e60b396b5b64c750ff088a7f37</td>\n",
       "      <td>0</td>\n",
       "    </tr>\n",
       "    <tr>\n",
       "      <th>...</th>\n",
       "      <td>...</td>\n",
       "      <td>...</td>\n",
       "    </tr>\n",
       "    <tr>\n",
       "      <th>71030</th>\n",
       "      <td>af54ce01efb13177b87a5b25c67056589eb90434</td>\n",
       "      <td>0</td>\n",
       "    </tr>\n",
       "    <tr>\n",
       "      <th>76013</th>\n",
       "      <td>a6cf4fd56a2542635f3f1a22f580bd8de65af9f8</td>\n",
       "      <td>0</td>\n",
       "    </tr>\n",
       "    <tr>\n",
       "      <th>139721</th>\n",
       "      <td>93e90d936b3301216e24d3683bef5cf74ab18743</td>\n",
       "      <td>0</td>\n",
       "    </tr>\n",
       "    <tr>\n",
       "      <th>203668</th>\n",
       "      <td>1251620b441f9316da02e2edc7073e4c4234d1d0</td>\n",
       "      <td>0</td>\n",
       "    </tr>\n",
       "    <tr>\n",
       "      <th>134459</th>\n",
       "      <td>e22ebbd513bb880487b8f0f3c04250e1d33134de</td>\n",
       "      <td>0</td>\n",
       "    </tr>\n",
       "  </tbody>\n",
       "</table>\n",
       "<p>26181 rows × 2 columns</p>\n",
       "</div>"
      ],
      "text/plain": [
       "                                              id  label\n",
       "479     64abfa0ab14ac59c9d762155a760c887ba975144      0\n",
       "205758  dcc8e2d650066710efea54c9e8bcb4fde8cd25e0      0\n",
       "105569  b05fefd0de0a96f86c53db4b4c431d6e23ef49f1      0\n",
       "219718  c67948c8efc535a639c07e0a8d386228e924d8f9      0\n",
       "198984  65ca1b611e9132e60b396b5b64c750ff088a7f37      0\n",
       "...                                          ...    ...\n",
       "71030   af54ce01efb13177b87a5b25c67056589eb90434      0\n",
       "76013   a6cf4fd56a2542635f3f1a22f580bd8de65af9f8      0\n",
       "139721  93e90d936b3301216e24d3683bef5cf74ab18743      0\n",
       "203668  1251620b441f9316da02e2edc7073e4c4234d1d0      0\n",
       "134459  e22ebbd513bb880487b8f0f3c04250e1d33134de      0\n",
       "\n",
       "[26181 rows x 2 columns]"
      ]
     },
     "execution_count": 12,
     "metadata": {},
     "output_type": "execute_result"
    }
   ],
   "source": [
    "test_label_0"
   ]
  },
  {
   "cell_type": "code",
   "execution_count": 13,
   "id": "48223451-2877-4b9b-9f4c-fcd7b955bff9",
   "metadata": {},
   "outputs": [
    {
     "data": {
      "text/html": [
       "<div>\n",
       "<style scoped>\n",
       "    .dataframe tbody tr th:only-of-type {\n",
       "        vertical-align: middle;\n",
       "    }\n",
       "\n",
       "    .dataframe tbody tr th {\n",
       "        vertical-align: top;\n",
       "    }\n",
       "\n",
       "    .dataframe thead th {\n",
       "        text-align: right;\n",
       "    }\n",
       "</style>\n",
       "<table border=\"1\" class=\"dataframe\">\n",
       "  <thead>\n",
       "    <tr style=\"text-align: right;\">\n",
       "      <th></th>\n",
       "      <th>id</th>\n",
       "      <th>label</th>\n",
       "    </tr>\n",
       "  </thead>\n",
       "  <tbody>\n",
       "    <tr>\n",
       "      <th>57981</th>\n",
       "      <td>0be0119eee85684b5bb203f743f16cf4dcfdd77d</td>\n",
       "      <td>1</td>\n",
       "    </tr>\n",
       "    <tr>\n",
       "      <th>184232</th>\n",
       "      <td>25003a215deb20384a63d963b4e40a946ed8d958</td>\n",
       "      <td>1</td>\n",
       "    </tr>\n",
       "    <tr>\n",
       "      <th>123259</th>\n",
       "      <td>0555f297c34fcda2481d6a33cc0e388d39f35535</td>\n",
       "      <td>1</td>\n",
       "    </tr>\n",
       "    <tr>\n",
       "      <th>188454</th>\n",
       "      <td>b51eb81dccd4d0fd8ddf09a871233c2bc6686a67</td>\n",
       "      <td>1</td>\n",
       "    </tr>\n",
       "    <tr>\n",
       "      <th>176661</th>\n",
       "      <td>29fe487c576a7e5172e6cb19241daca0ac36d8b3</td>\n",
       "      <td>1</td>\n",
       "    </tr>\n",
       "    <tr>\n",
       "      <th>...</th>\n",
       "      <td>...</td>\n",
       "      <td>...</td>\n",
       "    </tr>\n",
       "    <tr>\n",
       "      <th>57799</th>\n",
       "      <td>c345d90e6f5516b534e9cef78ff4ee8bcdfbc2cf</td>\n",
       "      <td>1</td>\n",
       "    </tr>\n",
       "    <tr>\n",
       "      <th>24159</th>\n",
       "      <td>42ac8a7fe4953696a304e2e97735476b1277e9c1</td>\n",
       "      <td>1</td>\n",
       "    </tr>\n",
       "    <tr>\n",
       "      <th>111187</th>\n",
       "      <td>8015d6258dd3cb50cec5cfc672d48106942ec50d</td>\n",
       "      <td>1</td>\n",
       "    </tr>\n",
       "    <tr>\n",
       "      <th>190344</th>\n",
       "      <td>ed3e8b22473463f7fa1d89513b3f327dec44df80</td>\n",
       "      <td>1</td>\n",
       "    </tr>\n",
       "    <tr>\n",
       "      <th>13853</th>\n",
       "      <td>2f71519dcf8f2a4cf306cb834370b94bcddf8a3f</td>\n",
       "      <td>1</td>\n",
       "    </tr>\n",
       "  </tbody>\n",
       "</table>\n",
       "<p>17823 rows × 2 columns</p>\n",
       "</div>"
      ],
      "text/plain": [
       "                                              id  label\n",
       "57981   0be0119eee85684b5bb203f743f16cf4dcfdd77d      1\n",
       "184232  25003a215deb20384a63d963b4e40a946ed8d958      1\n",
       "123259  0555f297c34fcda2481d6a33cc0e388d39f35535      1\n",
       "188454  b51eb81dccd4d0fd8ddf09a871233c2bc6686a67      1\n",
       "176661  29fe487c576a7e5172e6cb19241daca0ac36d8b3      1\n",
       "...                                          ...    ...\n",
       "57799   c345d90e6f5516b534e9cef78ff4ee8bcdfbc2cf      1\n",
       "24159   42ac8a7fe4953696a304e2e97735476b1277e9c1      1\n",
       "111187  8015d6258dd3cb50cec5cfc672d48106942ec50d      1\n",
       "190344  ed3e8b22473463f7fa1d89513b3f327dec44df80      1\n",
       "13853   2f71519dcf8f2a4cf306cb834370b94bcddf8a3f      1\n",
       "\n",
       "[17823 rows x 2 columns]"
      ]
     },
     "execution_count": 13,
     "metadata": {},
     "output_type": "execute_result"
    }
   ],
   "source": [
    "test_label_1"
   ]
  },
  {
   "cell_type": "markdown",
   "id": "60e3fa2c-6518-47fd-84d7-ec1df4d4bee4",
   "metadata": {},
   "source": [
    "# Check Folders Train and Test are good"
   ]
  },
  {
   "cell_type": "code",
   "execution_count": 14,
   "id": "09ad9bc9-d4ea-4458-8b18-509d5453e2d9",
   "metadata": {},
   "outputs": [],
   "source": [
    "from os import walk"
   ]
  },
  {
   "cell_type": "code",
   "execution_count": 15,
   "id": "63cc5e26-8f9a-425c-b88d-4998a81b57b8",
   "metadata": {},
   "outputs": [
    {
     "name": "stdout",
     "output_type": "stream",
     "text": [
      "104728 True\n"
     ]
    }
   ],
   "source": [
    "# Check size Train_0 - and check no duplicates\n",
    "filenames = next(walk(source_path_0), (None, None, []))[2] \n",
    "print(len(filenames),len(filenames) == len(set(filenames)))"
   ]
  },
  {
   "cell_type": "code",
   "execution_count": 16,
   "id": "9c6b0168-97aa-4a44-aba4-b1279fc449d3",
   "metadata": {},
   "outputs": [
    {
     "name": "stdout",
     "output_type": "stream",
     "text": [
      "71294 True\n"
     ]
    }
   ],
   "source": [
    "# Check size Train_1 - and check no duplicates\n",
    "filenames = next(walk(source_path_1), (None, None, []))[2] \n",
    "print(len(filenames),len(filenames) == len(set(filenames)))"
   ]
  },
  {
   "cell_type": "code",
   "execution_count": 17,
   "id": "7dfbdf15-2e0b-4247-aeaa-0a24ceeae6a4",
   "metadata": {},
   "outputs": [
    {
     "name": "stdout",
     "output_type": "stream",
     "text": [
      "26181 True\n"
     ]
    }
   ],
   "source": [
    "# Check size Test_0 - and check no duplicates\n",
    "filenames = next(walk(destination_path_0), (None, None, []))[2] \n",
    "print(len(filenames),len(filenames) == len(set(filenames)))"
   ]
  },
  {
   "cell_type": "code",
   "execution_count": 18,
   "id": "f66182e8-4d2f-412f-89e9-866e1067eb9f",
   "metadata": {},
   "outputs": [
    {
     "name": "stdout",
     "output_type": "stream",
     "text": [
      "17823 True\n"
     ]
    }
   ],
   "source": [
    "# Check size Test_1 - and check no duplicates\n",
    "filenames = next(walk(destination_path_1), (None, None, []))[2] \n",
    "print(len(filenames),len(filenames) == len(set(filenames)))"
   ]
  },
  {
   "cell_type": "markdown",
   "id": "b7376711-68eb-48ab-8745-8d093202c648",
   "metadata": {},
   "source": [
    "# Creating a Balanced Train set copy: TRAIN_BAL - DO ONCE"
   ]
  },
  {
   "cell_type": "code",
   "execution_count": 19,
   "id": "6ae2f90c-f168-4c6e-b0d3-b3ffdf469b44",
   "metadata": {},
   "outputs": [],
   "source": [
    "source_path_0 = '/Users/chloeguillaume/code/GuillaumeRib/project-cancer-detection/raw_data/train/0'\n",
    "destination_path_TRAIN_BAL_0 = '/Users/chloeguillaume/code/GuillaumeRib/project-cancer-detection/raw_data/TRAIN_BAL/0'\n",
    "\n",
    "source_path_1 = '/Users/chloeguillaume/code/GuillaumeRib/project-cancer-detection/raw_data/train/1'\n",
    "destination_path_TRAIN_BAL_1 = '/Users/chloeguillaume/code/GuillaumeRib/project-cancer-detection/raw_data/TRAIN_BAL/1'\n",
    "\n",
    "train_label_0_bal = train_label_0.sample(n=71294,random_state=72)\n",
    "train_label_1_bal = train_label_1"
   ]
  },
  {
   "cell_type": "code",
   "execution_count": 20,
   "id": "1a737554-a36b-40fe-a4fb-ac464cd1c73c",
   "metadata": {},
   "outputs": [],
   "source": [
    "# Copying Train files into TRAIN_BAL - Balanced O - 1 Classes\n",
    "\n",
    "# for index,row in train_label_0_bal.reset_index().iterrows():\n",
    "#     file = row['id']\n",
    "#     source_file = os.path.join(source_path_0,file+'.tif')\n",
    "#     destination_file = os.path.join(destination_path_TRAIN_BAL_0,file+'.tif')\n",
    "#     shutil.copy(source_file,destination_file)\n",
    "    \n",
    "# for index,row in train_label_1.reset_index().iterrows():\n",
    "#     file = row['id']\n",
    "#     source_file = os.path.join(source_path_1,file+'.tif')\n",
    "#     destination_file = os.path.join(destination_path_TRAIN_BAL_1,file+'.tif')\n",
    "#     shutil.copy(source_file,destination_file)\n",
    "    "
   ]
  },
  {
   "cell_type": "code",
   "execution_count": 100,
   "id": "f8f48c40-95e7-41b2-b7a9-2bb59bccc1ec",
   "metadata": {},
   "outputs": [
    {
     "name": "stdout",
     "output_type": "stream",
     "text": [
      "71294 True\n"
     ]
    }
   ],
   "source": [
    "# Check size TRAIN_BAL_0 - and check no duplicates\n",
    "filenames = next(walk(destination_path_TRAIN_BAL_0), (None, None, []))[2] \n",
    "print(len(filenames),len(filenames) == len(set(filenames)))"
   ]
  },
  {
   "cell_type": "code",
   "execution_count": 22,
   "id": "9a642fb7-29ea-484a-913d-1d5942bf8a7b",
   "metadata": {},
   "outputs": [
    {
     "name": "stdout",
     "output_type": "stream",
     "text": [
      "71294 True\n"
     ]
    }
   ],
   "source": [
    "# Check size TRAIN_BAL_1 - and check no duplicates\n",
    "filenames = next(walk(destination_path_TRAIN_BAL_1), (None, None, []))[2] \n",
    "print(len(filenames),len(filenames) == len(set(filenames)))"
   ]
  },
  {
   "cell_type": "code",
   "execution_count": 23,
   "id": "c6ec93d9-d632-4def-9c26-e94ec4c21574",
   "metadata": {},
   "outputs": [
    {
     "data": {
      "text/html": [
       "<div>\n",
       "<style scoped>\n",
       "    .dataframe tbody tr th:only-of-type {\n",
       "        vertical-align: middle;\n",
       "    }\n",
       "\n",
       "    .dataframe tbody tr th {\n",
       "        vertical-align: top;\n",
       "    }\n",
       "\n",
       "    .dataframe thead th {\n",
       "        text-align: right;\n",
       "    }\n",
       "</style>\n",
       "<table border=\"1\" class=\"dataframe\">\n",
       "  <thead>\n",
       "    <tr style=\"text-align: right;\">\n",
       "      <th></th>\n",
       "      <th>id</th>\n",
       "      <th>label</th>\n",
       "    </tr>\n",
       "  </thead>\n",
       "  <tbody>\n",
       "    <tr>\n",
       "      <th>25607</th>\n",
       "      <td>71544a6fd3b4a309eab094f388b18bf76722a8e9</td>\n",
       "      <td>0</td>\n",
       "    </tr>\n",
       "    <tr>\n",
       "      <th>3447</th>\n",
       "      <td>6406082112d06f4d7693f2edfeb5b95d9ec67bb4</td>\n",
       "      <td>0</td>\n",
       "    </tr>\n",
       "    <tr>\n",
       "      <th>100027</th>\n",
       "      <td>e1352be39946748d701e0b335690607fa9adefb6</td>\n",
       "      <td>0</td>\n",
       "    </tr>\n",
       "    <tr>\n",
       "      <th>170757</th>\n",
       "      <td>e03130a7dc57136fc08b079741998d94c57c3f5d</td>\n",
       "      <td>0</td>\n",
       "    </tr>\n",
       "    <tr>\n",
       "      <th>25102</th>\n",
       "      <td>d4e8be9c8a2283a2c478fa17eab5bf4a58e0a607</td>\n",
       "      <td>0</td>\n",
       "    </tr>\n",
       "    <tr>\n",
       "      <th>...</th>\n",
       "      <td>...</td>\n",
       "      <td>...</td>\n",
       "    </tr>\n",
       "    <tr>\n",
       "      <th>139808</th>\n",
       "      <td>ce1c2c8657c854d9eda6c0d83a19e185d231e21c</td>\n",
       "      <td>0</td>\n",
       "    </tr>\n",
       "    <tr>\n",
       "      <th>58702</th>\n",
       "      <td>d9e8b7a40e527ff69dfdfac7eb5e42da2429b7f5</td>\n",
       "      <td>0</td>\n",
       "    </tr>\n",
       "    <tr>\n",
       "      <th>176314</th>\n",
       "      <td>677738884d6ce2841b9f225449c44856e9e5e46c</td>\n",
       "      <td>0</td>\n",
       "    </tr>\n",
       "    <tr>\n",
       "      <th>76603</th>\n",
       "      <td>3d5c5b60ebf648e737e56106a33508725d39b8b2</td>\n",
       "      <td>0</td>\n",
       "    </tr>\n",
       "    <tr>\n",
       "      <th>147301</th>\n",
       "      <td>869d17e0a0867c615b07b8c19738c648e1d418cb</td>\n",
       "      <td>0</td>\n",
       "    </tr>\n",
       "  </tbody>\n",
       "</table>\n",
       "<p>71294 rows × 2 columns</p>\n",
       "</div>"
      ],
      "text/plain": [
       "                                              id  label\n",
       "25607   71544a6fd3b4a309eab094f388b18bf76722a8e9      0\n",
       "3447    6406082112d06f4d7693f2edfeb5b95d9ec67bb4      0\n",
       "100027  e1352be39946748d701e0b335690607fa9adefb6      0\n",
       "170757  e03130a7dc57136fc08b079741998d94c57c3f5d      0\n",
       "25102   d4e8be9c8a2283a2c478fa17eab5bf4a58e0a607      0\n",
       "...                                          ...    ...\n",
       "139808  ce1c2c8657c854d9eda6c0d83a19e185d231e21c      0\n",
       "58702   d9e8b7a40e527ff69dfdfac7eb5e42da2429b7f5      0\n",
       "176314  677738884d6ce2841b9f225449c44856e9e5e46c      0\n",
       "76603   3d5c5b60ebf648e737e56106a33508725d39b8b2      0\n",
       "147301  869d17e0a0867c615b07b8c19738c648e1d418cb      0\n",
       "\n",
       "[71294 rows x 2 columns]"
      ]
     },
     "execution_count": 23,
     "metadata": {},
     "output_type": "execute_result"
    }
   ],
   "source": [
    "train_label_0_bal"
   ]
  },
  {
   "cell_type": "code",
   "execution_count": 24,
   "id": "babdfee8-381f-4bf7-9e7d-b91b7747a309",
   "metadata": {},
   "outputs": [
    {
     "data": {
      "text/html": [
       "<div>\n",
       "<style scoped>\n",
       "    .dataframe tbody tr th:only-of-type {\n",
       "        vertical-align: middle;\n",
       "    }\n",
       "\n",
       "    .dataframe tbody tr th {\n",
       "        vertical-align: top;\n",
       "    }\n",
       "\n",
       "    .dataframe thead th {\n",
       "        text-align: right;\n",
       "    }\n",
       "</style>\n",
       "<table border=\"1\" class=\"dataframe\">\n",
       "  <thead>\n",
       "    <tr style=\"text-align: right;\">\n",
       "      <th></th>\n",
       "      <th>id</th>\n",
       "      <th>label</th>\n",
       "    </tr>\n",
       "  </thead>\n",
       "  <tbody>\n",
       "    <tr>\n",
       "      <th>1</th>\n",
       "      <td>c18f2d887b7ae4f6742ee445113fa1aef383ed77</td>\n",
       "      <td>1</td>\n",
       "    </tr>\n",
       "    <tr>\n",
       "      <th>6</th>\n",
       "      <td>a24ce148f6ffa7ef8eefb4efb12ebffe8dd700da</td>\n",
       "      <td>1</td>\n",
       "    </tr>\n",
       "    <tr>\n",
       "      <th>7</th>\n",
       "      <td>7f6ccae485af121e0b6ee733022e226ee6b0c65f</td>\n",
       "      <td>1</td>\n",
       "    </tr>\n",
       "    <tr>\n",
       "      <th>11</th>\n",
       "      <td>c3d660212bf2a11c994e0eadff13770a9927b731</td>\n",
       "      <td>1</td>\n",
       "    </tr>\n",
       "    <tr>\n",
       "      <th>14</th>\n",
       "      <td>94fa32b29cc1c00403176c0795fffa3cfaa0f20e</td>\n",
       "      <td>1</td>\n",
       "    </tr>\n",
       "    <tr>\n",
       "      <th>...</th>\n",
       "      <td>...</td>\n",
       "      <td>...</td>\n",
       "    </tr>\n",
       "    <tr>\n",
       "      <th>220007</th>\n",
       "      <td>9f0c52d1c2d7c46c60caee232a0a480f4522136c</td>\n",
       "      <td>1</td>\n",
       "    </tr>\n",
       "    <tr>\n",
       "      <th>220009</th>\n",
       "      <td>29ee01a126a9c32442fb1bcd0110b37b0f6c2964</td>\n",
       "      <td>1</td>\n",
       "    </tr>\n",
       "    <tr>\n",
       "      <th>220010</th>\n",
       "      <td>8a25b1632a1859d7b757e912ca673385b64e1b1d</td>\n",
       "      <td>1</td>\n",
       "    </tr>\n",
       "    <tr>\n",
       "      <th>220014</th>\n",
       "      <td>309210db7f424edbc22b2d13bf2fa27518b18f5c</td>\n",
       "      <td>1</td>\n",
       "    </tr>\n",
       "    <tr>\n",
       "      <th>220021</th>\n",
       "      <td>d4b854fe38b07fe2831ad73892b3cec877689576</td>\n",
       "      <td>1</td>\n",
       "    </tr>\n",
       "  </tbody>\n",
       "</table>\n",
       "<p>71294 rows × 2 columns</p>\n",
       "</div>"
      ],
      "text/plain": [
       "                                              id  label\n",
       "1       c18f2d887b7ae4f6742ee445113fa1aef383ed77      1\n",
       "6       a24ce148f6ffa7ef8eefb4efb12ebffe8dd700da      1\n",
       "7       7f6ccae485af121e0b6ee733022e226ee6b0c65f      1\n",
       "11      c3d660212bf2a11c994e0eadff13770a9927b731      1\n",
       "14      94fa32b29cc1c00403176c0795fffa3cfaa0f20e      1\n",
       "...                                          ...    ...\n",
       "220007  9f0c52d1c2d7c46c60caee232a0a480f4522136c      1\n",
       "220009  29ee01a126a9c32442fb1bcd0110b37b0f6c2964      1\n",
       "220010  8a25b1632a1859d7b757e912ca673385b64e1b1d      1\n",
       "220014  309210db7f424edbc22b2d13bf2fa27518b18f5c      1\n",
       "220021  d4b854fe38b07fe2831ad73892b3cec877689576      1\n",
       "\n",
       "[71294 rows x 2 columns]"
      ]
     },
     "execution_count": 24,
     "metadata": {},
     "output_type": "execute_result"
    }
   ],
   "source": [
    "train_label_1_bal"
   ]
  },
  {
   "cell_type": "markdown",
   "id": "db75c5b7-6d47-4b11-bc8f-cd06401b024d",
   "metadata": {},
   "source": [
    "# Check if Train in Test / Test in Train"
   ]
  },
  {
   "cell_type": "code",
   "execution_count": 25,
   "id": "504234c7-a904-4058-8718-99950274cd70",
   "metadata": {},
   "outputs": [
    {
     "data": {
      "text/plain": [
       "id   \n",
       "False    71294\n",
       "dtype: int64"
      ]
     },
     "execution_count": 25,
     "metadata": {},
     "output_type": "execute_result"
    }
   ],
   "source": [
    "pd.DataFrame(train_label_0_bal['id'].isin(train_label_1_bal['id'])).value_counts()"
   ]
  },
  {
   "cell_type": "code",
   "execution_count": 26,
   "id": "ef76737f-8d58-47b3-be71-41a72d2d0d96",
   "metadata": {},
   "outputs": [
    {
     "data": {
      "text/plain": [
       "id   \n",
       "False    71294\n",
       "dtype: int64"
      ]
     },
     "execution_count": 26,
     "metadata": {},
     "output_type": "execute_result"
    }
   ],
   "source": [
    "pd.DataFrame(train_label_1_bal['id'].isin(train_label_0_bal['id'])).value_counts()"
   ]
  },
  {
   "cell_type": "code",
   "execution_count": 28,
   "id": "6dda2898-7546-4396-843f-3388b267ce74",
   "metadata": {},
   "outputs": [
    {
     "data": {
      "text/plain": [
       "id   \n",
       "False    26181\n",
       "dtype: int64"
      ]
     },
     "execution_count": 28,
     "metadata": {},
     "output_type": "execute_result"
    }
   ],
   "source": [
    "pd.DataFrame(test_label_0['id'].isin(train_label_0_bal['id'])).value_counts()"
   ]
  },
  {
   "cell_type": "code",
   "execution_count": 29,
   "id": "4ba4b688-0cc8-4806-96df-010294dbaa1f",
   "metadata": {},
   "outputs": [
    {
     "data": {
      "text/plain": [
       "id   \n",
       "False    17823\n",
       "dtype: int64"
      ]
     },
     "execution_count": 29,
     "metadata": {},
     "output_type": "execute_result"
    }
   ],
   "source": [
    "pd.DataFrame(test_label_1['id'].isin(train_label_1_bal['id'])).value_counts()"
   ]
  },
  {
   "cell_type": "code",
   "execution_count": 30,
   "id": "5f1e3a4d-760e-4862-a2b2-27a3544950cc",
   "metadata": {},
   "outputs": [
    {
     "data": {
      "text/plain": [
       "id   \n",
       "False    71294\n",
       "dtype: int64"
      ]
     },
     "execution_count": 30,
     "metadata": {},
     "output_type": "execute_result"
    }
   ],
   "source": [
    "pd.DataFrame(train_label_0_bal['id'].isin(test_label_0['id'])).value_counts()"
   ]
  },
  {
   "cell_type": "code",
   "execution_count": 31,
   "id": "d944acec-6d0e-419f-93ba-07fc1410d02f",
   "metadata": {},
   "outputs": [
    {
     "data": {
      "text/plain": [
       "id   \n",
       "False    71294\n",
       "dtype: int64"
      ]
     },
     "execution_count": 31,
     "metadata": {},
     "output_type": "execute_result"
    }
   ],
   "source": [
    "pd.DataFrame(train_label_1_bal['id'].isin(test_label_1['id'])).value_counts()"
   ]
  },
  {
   "cell_type": "markdown",
   "id": "2a47a91a-e399-4df1-8886-6472c442650d",
   "metadata": {},
   "source": [
    "# Check if train_0_SOURCE in train_0_BAL"
   ]
  },
  {
   "cell_type": "code",
   "execution_count": 32,
   "id": "f11880d8-3096-437a-bf20-81b81ff1f002",
   "metadata": {},
   "outputs": [
    {
     "data": {
      "text/plain": [
       "id   \n",
       "True     71294\n",
       "False    33433\n",
       "dtype: int64"
      ]
     },
     "execution_count": 32,
     "metadata": {},
     "output_type": "execute_result"
    }
   ],
   "source": [
    "pd.DataFrame(train_label_0['id'].isin(train_label_0_bal['id'])).value_counts()"
   ]
  },
  {
   "cell_type": "markdown",
   "id": "1d6656ad-ebed-429b-ac75-74c75d19594b",
   "metadata": {
    "tags": []
   },
   "source": [
    "# Sampling the Train and test Datasets - 5K"
   ]
  },
  {
   "cell_type": "code",
   "execution_count": 74,
   "id": "566fd1c6-b702-4389-b334-39453cad3470",
   "metadata": {},
   "outputs": [],
   "source": [
    "# MANUALLY CREATE FOLDERS 5K / 10K etc. with 0/1 and then amend paths below\n",
    "size = 5000\n",
    "test_size = 0.2*size\n",
    "# Sourcing from TRAIN_BAL dataset\n",
    "source_train_bal_0 = '/Users/chloeguillaume/code/GuillaumeRib/project-cancer-detection/raw_data/TRAIN_BAL/0'\n",
    "source_train_bal_1 = '/Users/chloeguillaume/code/GuillaumeRib/project-cancer-detection/raw_data/TRAIN_BAL/1'\n",
    "\n",
    "# Sourcing from new TEST dataset\n",
    "source_test_0 = '/Users/chloeguillaume/code/GuillaumeRib/project-cancer-detection/raw_data/TEST/0'\n",
    "source_test_1 = '/Users/chloeguillaume/code/GuillaumeRib/project-cancer-detection/raw_data/TEST/1'\n",
    "\n",
    "# Destination for sample Train\n",
    "dest_train_bal_0_samp = '/Users/chloeguillaume/code/GuillaumeRib/project-cancer-detection/raw_data/TRAIN_5K/0'\n",
    "dest_train_bal_1_samp = '/Users/chloeguillaume/code/GuillaumeRib/project-cancer-detection/raw_data/TRAIN_5K/1'\n",
    "\n",
    "# Destination for new TEST dataset\n",
    "dest_test_0_samp = '/Users/chloeguillaume/code/GuillaumeRib/project-cancer-detection/raw_data/TEST_5K/0'\n",
    "dest_test_1_samp = '/Users/chloeguillaume/code/GuillaumeRib/project-cancer-detection/raw_data/TEST_5K/1'\n",
    "\n",
    "# Picking randdomly from Train_bal labels\n",
    "train_label_0_bal_5k = train_label_0_bal.sample(n=int(size/2),random_state=72)\n",
    "train_label_1_bal_5k = train_label_1_bal.sample(n=int(size/2),random_state=72)\n",
    "\n",
    "# Picking randdomly from Test labels\n",
    "test_label_sample_0_5k = test_label_0.sample(n=int(test_size*0.59),random_state=72)\n",
    "test_label_sample_1_5k = test_label_1.sample(n=int(test_size*0.41),random_state=72)\n"
   ]
  },
  {
   "cell_type": "code",
   "execution_count": 58,
   "id": "eb6f3f96-b596-4803-b6c2-c70e7fb55a06",
   "metadata": {},
   "outputs": [],
   "source": [
    "# Copying Train files into Train sample folder\n",
    "for index,row in train_label_0_bal_5k.reset_index().iterrows():\n",
    "    file = row['id']\n",
    "    source_file = os.path.join(source_train_bal_0,file+'.tif')\n",
    "    destination_file = os.path.join(dest_train_bal_0_samp,file+'.tif')\n",
    "    shutil.copy(source_file,destination_file)\n",
    "    \n",
    "for index,row in train_label_1_bal_5k.reset_index().iterrows():\n",
    "    file = row['id']\n",
    "    source_file = os.path.join(source_train_bal_1,file+'.tif')\n",
    "    destination_file = os.path.join(dest_train_bal_1_samp,file+'.tif')\n",
    "    shutil.copy(source_file,destination_file)"
   ]
  },
  {
   "cell_type": "code",
   "execution_count": 61,
   "id": "0bf98d54-8385-4a75-b6e3-ba3f446028b0",
   "metadata": {},
   "outputs": [],
   "source": [
    "# Copying Test files into Test Sample folder\n",
    "for index,row in test_label_sample_0_5k.reset_index().iterrows():\n",
    "    file = row['id']\n",
    "    source_file = os.path.join(source_test_0,file+'.tif')\n",
    "    destination_file = os.path.join(dest_test_0_samp,file+'.tif')\n",
    "    shutil.copy(source_file,destination_file)\n",
    "    \n",
    "for index,row in test_label_sample_1_5k.reset_index().iterrows():\n",
    "    file = row['id']\n",
    "    source_file = os.path.join(source_test_1,file+'.tif')\n",
    "    destination_file = os.path.join(dest_test_1_samp,file+'.tif')\n",
    "    shutil.copy(source_file,destination_file)"
   ]
  },
  {
   "cell_type": "markdown",
   "id": "7013797b-a995-4081-85ca-730d355586b7",
   "metadata": {
    "tags": []
   },
   "source": [
    "# Checks Sizes & duplicates"
   ]
  },
  {
   "cell_type": "code",
   "execution_count": 66,
   "id": "110f5e91-bc84-4b97-8060-7383afdda6c4",
   "metadata": {},
   "outputs": [
    {
     "name": "stdout",
     "output_type": "stream",
     "text": [
      "2500 True\n"
     ]
    }
   ],
   "source": [
    "# Check size Train_0 sample\n",
    "filenames = next(walk(dest_train_bal_0_samp), (None, None, []))[2] \n",
    "print(len(filenames),len(filenames) == len(set(filenames)))\n",
    "# Check size Train_1 sample\n",
    "filenames = next(walk(dest_train_bal_1_samp), (None, None, []))[2] \n",
    "print(len(filenames),len(filenames) == len(set(filenames)))\n",
    "# Check size Test_0 sample\n",
    "filenames = next(walk(dest_test_0_samp), (None, None, []))[2] \n",
    "print(len(filenames),len(filenames) == len(set(filenames)))\n",
    "# Check size Test_1 sample\n",
    "filenames = next(walk(dest_test_1_samp), (None, None, []))[2] \n",
    "print(len(filenames),len(filenames) == len(set(filenames)))"
   ]
  },
  {
   "cell_type": "markdown",
   "id": "22e5a4eb-7382-4677-9459-2700e8ed01e3",
   "metadata": {
    "tags": []
   },
   "source": [
    "# Overview Dfs"
   ]
  },
  {
   "cell_type": "code",
   "execution_count": 50,
   "id": "bf4e4bb7-aebf-4676-be4a-d489f3684f71",
   "metadata": {},
   "outputs": [
    {
     "data": {
      "text/html": [
       "<div>\n",
       "<style scoped>\n",
       "    .dataframe tbody tr th:only-of-type {\n",
       "        vertical-align: middle;\n",
       "    }\n",
       "\n",
       "    .dataframe tbody tr th {\n",
       "        vertical-align: top;\n",
       "    }\n",
       "\n",
       "    .dataframe thead th {\n",
       "        text-align: right;\n",
       "    }\n",
       "</style>\n",
       "<table border=\"1\" class=\"dataframe\">\n",
       "  <thead>\n",
       "    <tr style=\"text-align: right;\">\n",
       "      <th></th>\n",
       "      <th>id</th>\n",
       "      <th>label</th>\n",
       "    </tr>\n",
       "  </thead>\n",
       "  <tbody>\n",
       "    <tr>\n",
       "      <th>56958</th>\n",
       "      <td>f6bc643d554f57a38d9cdb34e1e930bfc0303960</td>\n",
       "      <td>0</td>\n",
       "    </tr>\n",
       "    <tr>\n",
       "      <th>200500</th>\n",
       "      <td>f9b759bafcd53a7e77fde86dddc2880b514fcde5</td>\n",
       "      <td>0</td>\n",
       "    </tr>\n",
       "    <tr>\n",
       "      <th>131658</th>\n",
       "      <td>c1985c5bd47661c367230019726cb22e6d638bbf</td>\n",
       "      <td>0</td>\n",
       "    </tr>\n",
       "    <tr>\n",
       "      <th>128765</th>\n",
       "      <td>4afd7e35fd4c8a777d169aa9da77ecdb329f43d9</td>\n",
       "      <td>0</td>\n",
       "    </tr>\n",
       "    <tr>\n",
       "      <th>193876</th>\n",
       "      <td>53351e38209e4c4396e308880e9d5b1ba0ae2546</td>\n",
       "      <td>0</td>\n",
       "    </tr>\n",
       "    <tr>\n",
       "      <th>...</th>\n",
       "      <td>...</td>\n",
       "      <td>...</td>\n",
       "    </tr>\n",
       "    <tr>\n",
       "      <th>52940</th>\n",
       "      <td>859985aa2ed41419eca07d539cb28962b6bc6fac</td>\n",
       "      <td>0</td>\n",
       "    </tr>\n",
       "    <tr>\n",
       "      <th>161240</th>\n",
       "      <td>dc03dd307b9753bb555244be3b1eb60e9c0e1a74</td>\n",
       "      <td>0</td>\n",
       "    </tr>\n",
       "    <tr>\n",
       "      <th>208064</th>\n",
       "      <td>0b713bd45515d6949713a6f908f1281d23334f90</td>\n",
       "      <td>0</td>\n",
       "    </tr>\n",
       "    <tr>\n",
       "      <th>84365</th>\n",
       "      <td>e9291c4e43b97f461288acececfecdfff8aeead9</td>\n",
       "      <td>0</td>\n",
       "    </tr>\n",
       "    <tr>\n",
       "      <th>176467</th>\n",
       "      <td>140886b519402652a5de9a956f864dfa900a2429</td>\n",
       "      <td>0</td>\n",
       "    </tr>\n",
       "  </tbody>\n",
       "</table>\n",
       "<p>590 rows × 2 columns</p>\n",
       "</div>"
      ],
      "text/plain": [
       "                                              id  label\n",
       "56958   f6bc643d554f57a38d9cdb34e1e930bfc0303960      0\n",
       "200500  f9b759bafcd53a7e77fde86dddc2880b514fcde5      0\n",
       "131658  c1985c5bd47661c367230019726cb22e6d638bbf      0\n",
       "128765  4afd7e35fd4c8a777d169aa9da77ecdb329f43d9      0\n",
       "193876  53351e38209e4c4396e308880e9d5b1ba0ae2546      0\n",
       "...                                          ...    ...\n",
       "52940   859985aa2ed41419eca07d539cb28962b6bc6fac      0\n",
       "161240  dc03dd307b9753bb555244be3b1eb60e9c0e1a74      0\n",
       "208064  0b713bd45515d6949713a6f908f1281d23334f90      0\n",
       "84365   e9291c4e43b97f461288acececfecdfff8aeead9      0\n",
       "176467  140886b519402652a5de9a956f864dfa900a2429      0\n",
       "\n",
       "[590 rows x 2 columns]"
      ]
     },
     "execution_count": 50,
     "metadata": {},
     "output_type": "execute_result"
    }
   ],
   "source": [
    "test_label_sample_0_5k"
   ]
  },
  {
   "cell_type": "code",
   "execution_count": 51,
   "id": "296d3b3d-d79f-4ac6-a8d3-bfe37edc35a1",
   "metadata": {},
   "outputs": [
    {
     "data": {
      "text/html": [
       "<div>\n",
       "<style scoped>\n",
       "    .dataframe tbody tr th:only-of-type {\n",
       "        vertical-align: middle;\n",
       "    }\n",
       "\n",
       "    .dataframe tbody tr th {\n",
       "        vertical-align: top;\n",
       "    }\n",
       "\n",
       "    .dataframe thead th {\n",
       "        text-align: right;\n",
       "    }\n",
       "</style>\n",
       "<table border=\"1\" class=\"dataframe\">\n",
       "  <thead>\n",
       "    <tr style=\"text-align: right;\">\n",
       "      <th></th>\n",
       "      <th>id</th>\n",
       "      <th>label</th>\n",
       "    </tr>\n",
       "  </thead>\n",
       "  <tbody>\n",
       "    <tr>\n",
       "      <th>188787</th>\n",
       "      <td>ddce495259d33d45e7b85288b8c08de8028cb89c</td>\n",
       "      <td>1</td>\n",
       "    </tr>\n",
       "    <tr>\n",
       "      <th>135355</th>\n",
       "      <td>01681c76a82b89b86452e94dc5debc01867dc8d4</td>\n",
       "      <td>1</td>\n",
       "    </tr>\n",
       "    <tr>\n",
       "      <th>108001</th>\n",
       "      <td>dca33b64625d373274a77a0e5e137e8298944cdc</td>\n",
       "      <td>1</td>\n",
       "    </tr>\n",
       "    <tr>\n",
       "      <th>61907</th>\n",
       "      <td>98f548d45ec30d99f04fb91cdb2472af64ed54f4</td>\n",
       "      <td>1</td>\n",
       "    </tr>\n",
       "    <tr>\n",
       "      <th>108419</th>\n",
       "      <td>6b326df22a3fe46dae1a0945bda164625333d1b5</td>\n",
       "      <td>1</td>\n",
       "    </tr>\n",
       "    <tr>\n",
       "      <th>...</th>\n",
       "      <td>...</td>\n",
       "      <td>...</td>\n",
       "    </tr>\n",
       "    <tr>\n",
       "      <th>189415</th>\n",
       "      <td>d1a174d1b4c86a8c71a97f60fa27a382319a501b</td>\n",
       "      <td>1</td>\n",
       "    </tr>\n",
       "    <tr>\n",
       "      <th>5133</th>\n",
       "      <td>fca268cb863d05f7fa12fcdec891207a10a85139</td>\n",
       "      <td>1</td>\n",
       "    </tr>\n",
       "    <tr>\n",
       "      <th>198512</th>\n",
       "      <td>88f3480ccd8266f14ebcff94fd14dc6667d9a9eb</td>\n",
       "      <td>1</td>\n",
       "    </tr>\n",
       "    <tr>\n",
       "      <th>71470</th>\n",
       "      <td>c4e273a9db1ad2b5c2b15c6278a9806382dc1a3e</td>\n",
       "      <td>1</td>\n",
       "    </tr>\n",
       "    <tr>\n",
       "      <th>18388</th>\n",
       "      <td>f3937ab8b33f8bb59981eb8f2405e648d933e9a2</td>\n",
       "      <td>1</td>\n",
       "    </tr>\n",
       "  </tbody>\n",
       "</table>\n",
       "<p>410 rows × 2 columns</p>\n",
       "</div>"
      ],
      "text/plain": [
       "                                              id  label\n",
       "188787  ddce495259d33d45e7b85288b8c08de8028cb89c      1\n",
       "135355  01681c76a82b89b86452e94dc5debc01867dc8d4      1\n",
       "108001  dca33b64625d373274a77a0e5e137e8298944cdc      1\n",
       "61907   98f548d45ec30d99f04fb91cdb2472af64ed54f4      1\n",
       "108419  6b326df22a3fe46dae1a0945bda164625333d1b5      1\n",
       "...                                          ...    ...\n",
       "189415  d1a174d1b4c86a8c71a97f60fa27a382319a501b      1\n",
       "5133    fca268cb863d05f7fa12fcdec891207a10a85139      1\n",
       "198512  88f3480ccd8266f14ebcff94fd14dc6667d9a9eb      1\n",
       "71470   c4e273a9db1ad2b5c2b15c6278a9806382dc1a3e      1\n",
       "18388   f3937ab8b33f8bb59981eb8f2405e648d933e9a2      1\n",
       "\n",
       "[410 rows x 2 columns]"
      ]
     },
     "execution_count": 51,
     "metadata": {},
     "output_type": "execute_result"
    }
   ],
   "source": [
    "test_label_sample_1_5k"
   ]
  },
  {
   "cell_type": "code",
   "execution_count": 52,
   "id": "a2c4531c-c0a5-46a1-99cc-74d579c8030d",
   "metadata": {},
   "outputs": [
    {
     "data": {
      "text/html": [
       "<div>\n",
       "<style scoped>\n",
       "    .dataframe tbody tr th:only-of-type {\n",
       "        vertical-align: middle;\n",
       "    }\n",
       "\n",
       "    .dataframe tbody tr th {\n",
       "        vertical-align: top;\n",
       "    }\n",
       "\n",
       "    .dataframe thead th {\n",
       "        text-align: right;\n",
       "    }\n",
       "</style>\n",
       "<table border=\"1\" class=\"dataframe\">\n",
       "  <thead>\n",
       "    <tr style=\"text-align: right;\">\n",
       "      <th></th>\n",
       "      <th>id</th>\n",
       "      <th>label</th>\n",
       "    </tr>\n",
       "  </thead>\n",
       "  <tbody>\n",
       "    <tr>\n",
       "      <th>215990</th>\n",
       "      <td>6c6faa70f7bb850eeb5525ee0a6357fbde02babf</td>\n",
       "      <td>0</td>\n",
       "    </tr>\n",
       "    <tr>\n",
       "      <th>219196</th>\n",
       "      <td>376679a6badbd607b573a1daa5896026573e8172</td>\n",
       "      <td>0</td>\n",
       "    </tr>\n",
       "    <tr>\n",
       "      <th>217872</th>\n",
       "      <td>95efb5fad1ca7cb21707c8ebe28d60e288d593b7</td>\n",
       "      <td>0</td>\n",
       "    </tr>\n",
       "    <tr>\n",
       "      <th>152620</th>\n",
       "      <td>626c2b27cd1cfa0fe4ecbe8ac2bdb5c304a36abc</td>\n",
       "      <td>0</td>\n",
       "    </tr>\n",
       "    <tr>\n",
       "      <th>91248</th>\n",
       "      <td>da73d83bdec25b0a74645c89f10757a1d1eab268</td>\n",
       "      <td>0</td>\n",
       "    </tr>\n",
       "    <tr>\n",
       "      <th>...</th>\n",
       "      <td>...</td>\n",
       "      <td>...</td>\n",
       "    </tr>\n",
       "    <tr>\n",
       "      <th>167657</th>\n",
       "      <td>f89fd2a0bd6d359a9b21eb6bff969e9f77bfb4a9</td>\n",
       "      <td>0</td>\n",
       "    </tr>\n",
       "    <tr>\n",
       "      <th>73290</th>\n",
       "      <td>9be62a7d0bb47efc2d743ca2ef41befc8232c285</td>\n",
       "      <td>0</td>\n",
       "    </tr>\n",
       "    <tr>\n",
       "      <th>5998</th>\n",
       "      <td>0c6b2165820808672ad347fe641015dc09ac05cb</td>\n",
       "      <td>0</td>\n",
       "    </tr>\n",
       "    <tr>\n",
       "      <th>209940</th>\n",
       "      <td>491e21c2fedd0bbc807947ad7033204c1a9d8bb4</td>\n",
       "      <td>0</td>\n",
       "    </tr>\n",
       "    <tr>\n",
       "      <th>140452</th>\n",
       "      <td>d8dac64fae1333b36bf6c5696a91cabae433140e</td>\n",
       "      <td>0</td>\n",
       "    </tr>\n",
       "  </tbody>\n",
       "</table>\n",
       "<p>2500 rows × 2 columns</p>\n",
       "</div>"
      ],
      "text/plain": [
       "                                              id  label\n",
       "215990  6c6faa70f7bb850eeb5525ee0a6357fbde02babf      0\n",
       "219196  376679a6badbd607b573a1daa5896026573e8172      0\n",
       "217872  95efb5fad1ca7cb21707c8ebe28d60e288d593b7      0\n",
       "152620  626c2b27cd1cfa0fe4ecbe8ac2bdb5c304a36abc      0\n",
       "91248   da73d83bdec25b0a74645c89f10757a1d1eab268      0\n",
       "...                                          ...    ...\n",
       "167657  f89fd2a0bd6d359a9b21eb6bff969e9f77bfb4a9      0\n",
       "73290   9be62a7d0bb47efc2d743ca2ef41befc8232c285      0\n",
       "5998    0c6b2165820808672ad347fe641015dc09ac05cb      0\n",
       "209940  491e21c2fedd0bbc807947ad7033204c1a9d8bb4      0\n",
       "140452  d8dac64fae1333b36bf6c5696a91cabae433140e      0\n",
       "\n",
       "[2500 rows x 2 columns]"
      ]
     },
     "execution_count": 52,
     "metadata": {},
     "output_type": "execute_result"
    }
   ],
   "source": [
    "train_label_0_bal_5k"
   ]
  },
  {
   "cell_type": "code",
   "execution_count": 53,
   "id": "b20a6629-5310-4b8b-8a8d-88835f2e94f9",
   "metadata": {},
   "outputs": [
    {
     "data": {
      "text/html": [
       "<div>\n",
       "<style scoped>\n",
       "    .dataframe tbody tr th:only-of-type {\n",
       "        vertical-align: middle;\n",
       "    }\n",
       "\n",
       "    .dataframe tbody tr th {\n",
       "        vertical-align: top;\n",
       "    }\n",
       "\n",
       "    .dataframe thead th {\n",
       "        text-align: right;\n",
       "    }\n",
       "</style>\n",
       "<table border=\"1\" class=\"dataframe\">\n",
       "  <thead>\n",
       "    <tr style=\"text-align: right;\">\n",
       "      <th></th>\n",
       "      <th>id</th>\n",
       "      <th>label</th>\n",
       "    </tr>\n",
       "  </thead>\n",
       "  <tbody>\n",
       "    <tr>\n",
       "      <th>53843</th>\n",
       "      <td>4ac75d2edc5bc0a45657fb5ba28c746a189eb12a</td>\n",
       "      <td>1</td>\n",
       "    </tr>\n",
       "    <tr>\n",
       "      <th>157077</th>\n",
       "      <td>45d2359f8005741557bc9fb487d89381b5447bde</td>\n",
       "      <td>1</td>\n",
       "    </tr>\n",
       "    <tr>\n",
       "      <th>69897</th>\n",
       "      <td>72847c53d779fd084d815a37606407db79ee30f3</td>\n",
       "      <td>1</td>\n",
       "    </tr>\n",
       "    <tr>\n",
       "      <th>92580</th>\n",
       "      <td>34cd246dc1e8b6e864b2c6fb41f1b34b930630c9</td>\n",
       "      <td>1</td>\n",
       "    </tr>\n",
       "    <tr>\n",
       "      <th>77687</th>\n",
       "      <td>61465541102646bcc6dd89af9f9c140ba3c881d2</td>\n",
       "      <td>1</td>\n",
       "    </tr>\n",
       "    <tr>\n",
       "      <th>...</th>\n",
       "      <td>...</td>\n",
       "      <td>...</td>\n",
       "    </tr>\n",
       "    <tr>\n",
       "      <th>210612</th>\n",
       "      <td>05e0acdccdd6f880243ad56fb7c2fd76f0894ee4</td>\n",
       "      <td>1</td>\n",
       "    </tr>\n",
       "    <tr>\n",
       "      <th>7411</th>\n",
       "      <td>9380f06b51f3fd4fc9fcb707e033cd30fc35fe8b</td>\n",
       "      <td>1</td>\n",
       "    </tr>\n",
       "    <tr>\n",
       "      <th>192794</th>\n",
       "      <td>6121dfad9ef78cd406f174d56ae558ef7089025e</td>\n",
       "      <td>1</td>\n",
       "    </tr>\n",
       "    <tr>\n",
       "      <th>54803</th>\n",
       "      <td>e31d7f6575414ad0f60cf8d5258a3961178a4ad1</td>\n",
       "      <td>1</td>\n",
       "    </tr>\n",
       "    <tr>\n",
       "      <th>184732</th>\n",
       "      <td>9ba468e13ec9b8282b75ba3ee20d5e1582745aea</td>\n",
       "      <td>1</td>\n",
       "    </tr>\n",
       "  </tbody>\n",
       "</table>\n",
       "<p>2500 rows × 2 columns</p>\n",
       "</div>"
      ],
      "text/plain": [
       "                                              id  label\n",
       "53843   4ac75d2edc5bc0a45657fb5ba28c746a189eb12a      1\n",
       "157077  45d2359f8005741557bc9fb487d89381b5447bde      1\n",
       "69897   72847c53d779fd084d815a37606407db79ee30f3      1\n",
       "92580   34cd246dc1e8b6e864b2c6fb41f1b34b930630c9      1\n",
       "77687   61465541102646bcc6dd89af9f9c140ba3c881d2      1\n",
       "...                                          ...    ...\n",
       "210612  05e0acdccdd6f880243ad56fb7c2fd76f0894ee4      1\n",
       "7411    9380f06b51f3fd4fc9fcb707e033cd30fc35fe8b      1\n",
       "192794  6121dfad9ef78cd406f174d56ae558ef7089025e      1\n",
       "54803   e31d7f6575414ad0f60cf8d5258a3961178a4ad1      1\n",
       "184732  9ba468e13ec9b8282b75ba3ee20d5e1582745aea      1\n",
       "\n",
       "[2500 rows x 2 columns]"
      ]
     },
     "execution_count": 53,
     "metadata": {},
     "output_type": "execute_result"
    }
   ],
   "source": [
    "train_label_1_bal_5k"
   ]
  },
  {
   "cell_type": "markdown",
   "id": "a35c44de-3580-4277-b374-aef4badedbdc",
   "metadata": {},
   "source": [
    "# Sampling Train and Datasets - 10K"
   ]
  },
  {
   "cell_type": "code",
   "execution_count": 75,
   "id": "27246b67-d216-4da3-b8e4-2febd7e5f47b",
   "metadata": {},
   "outputs": [],
   "source": [
    "# MANUALLY CREATE FOLDERS 5K / 10K etc. with 0/1 and then amend paths below\n",
    "size = 10000\n",
    "test_size = 0.2*size\n",
    "# Sourcing from TRAIN_BAL dataset\n",
    "source_train_bal_0 = '/Users/chloeguillaume/code/GuillaumeRib/project-cancer-detection/raw_data/TRAIN_BAL/0'\n",
    "source_train_bal_1 = '/Users/chloeguillaume/code/GuillaumeRib/project-cancer-detection/raw_data/TRAIN_BAL/1'\n",
    "\n",
    "# Sourcing from new TEST dataset\n",
    "source_test_0 = '/Users/chloeguillaume/code/GuillaumeRib/project-cancer-detection/raw_data/TEST/0'\n",
    "source_test_1 = '/Users/chloeguillaume/code/GuillaumeRib/project-cancer-detection/raw_data/TEST/1'\n",
    "\n",
    "# Destination for sample Train\n",
    "dest_train_bal_0_samp = '/Users/chloeguillaume/code/GuillaumeRib/project-cancer-detection/raw_data/TRAIN_10K/0'\n",
    "dest_train_bal_1_samp = '/Users/chloeguillaume/code/GuillaumeRib/project-cancer-detection/raw_data/TRAIN_10K/1'\n",
    "\n",
    "# Destination for new TEST dataset\n",
    "dest_test_0_samp = '/Users/chloeguillaume/code/GuillaumeRib/project-cancer-detection/raw_data/TEST_10K/0'\n",
    "dest_test_1_samp = '/Users/chloeguillaume/code/GuillaumeRib/project-cancer-detection/raw_data/TEST_10K/1'\n",
    "\n",
    "# Picking randdomly from Train_bal labels\n",
    "train_label_0_bal_10k = train_label_0_bal.sample(n=int(size/2),random_state=72)\n",
    "train_label_1_bal_10k = train_label_1_bal.sample(n=int(size/2),random_state=72)\n",
    "\n",
    "# Picking randdomly from Test labels\n",
    "test_label_sample_0_10k = test_label_0.sample(n=int(test_size*0.59),random_state=72)\n",
    "test_label_sample_1_10k = test_label_1.sample(n=int(test_size*0.41),random_state=72)\n"
   ]
  },
  {
   "cell_type": "code",
   "execution_count": 76,
   "id": "99d85624-ac28-46d1-826b-67aca2578788",
   "metadata": {},
   "outputs": [],
   "source": [
    "# Copying Train files into Train sample folder\n",
    "for index,row in train_label_0_bal_10k.reset_index().iterrows():\n",
    "    file = row['id']\n",
    "    source_file = os.path.join(source_train_bal_0,file+'.tif')\n",
    "    destination_file = os.path.join(dest_train_bal_0_samp,file+'.tif')\n",
    "    shutil.copy(source_file,destination_file)\n",
    "    \n",
    "for index,row in train_label_1_bal_10k.reset_index().iterrows():\n",
    "    file = row['id']\n",
    "    source_file = os.path.join(source_train_bal_1,file+'.tif')\n",
    "    destination_file = os.path.join(dest_train_bal_1_samp,file+'.tif')\n",
    "    shutil.copy(source_file,destination_file)"
   ]
  },
  {
   "cell_type": "code",
   "execution_count": 77,
   "id": "598e2401-a4f6-4da4-9727-18231eb6141f",
   "metadata": {},
   "outputs": [],
   "source": [
    "# Copying Test files into Test Sample folder\n",
    "for index,row in test_label_sample_0_10k.reset_index().iterrows():\n",
    "    file = row['id']\n",
    "    source_file = os.path.join(source_test_0,file+'.tif')\n",
    "    destination_file = os.path.join(dest_test_0_samp,file+'.tif')\n",
    "    shutil.copy(source_file,destination_file)\n",
    "    \n",
    "for index,row in test_label_sample_1_10k.reset_index().iterrows():\n",
    "    file = row['id']\n",
    "    source_file = os.path.join(source_test_1,file+'.tif')\n",
    "    destination_file = os.path.join(dest_test_1_samp,file+'.tif')\n",
    "    shutil.copy(source_file,destination_file)"
   ]
  },
  {
   "cell_type": "markdown",
   "id": "65ca334e-d661-4796-b4b6-48439c6c26ed",
   "metadata": {
    "jp-MarkdownHeadingCollapsed": true,
    "tags": []
   },
   "source": [
    "# Check size & duplicates"
   ]
  },
  {
   "cell_type": "code",
   "execution_count": 80,
   "id": "bbeae70a-24de-49a7-9c3b-1052d8d7464c",
   "metadata": {},
   "outputs": [
    {
     "name": "stdout",
     "output_type": "stream",
     "text": [
      "5000 True\n",
      "5000 True\n",
      "1180 True\n",
      "820 True\n"
     ]
    }
   ],
   "source": [
    "# Check size Train_0 sample\n",
    "filenames = next(walk(dest_train_bal_0_samp), (None, None, []))[2] \n",
    "print(len(filenames),len(filenames) == len(set(filenames)))\n",
    "# Check size Train_1 sample\n",
    "filenames = next(walk(dest_train_bal_1_samp), (None, None, []))[2] \n",
    "print(len(filenames),len(filenames) == len(set(filenames)))\n",
    "# Check size Test_0 sample\n",
    "filenames = next(walk(dest_test_0_samp), (None, None, []))[2] \n",
    "print(len(filenames),len(filenames) == len(set(filenames)))\n",
    "# Check size Test_1 sample\n",
    "filenames = next(walk(dest_test_1_samp), (None, None, []))[2] \n",
    "print(len(filenames),len(filenames) == len(set(filenames)))"
   ]
  },
  {
   "cell_type": "code",
   "execution_count": 78,
   "id": "a1ca4a51-edac-4916-8a55-d8da01e5e380",
   "metadata": {},
   "outputs": [
    {
     "data": {
      "text/html": [
       "<div>\n",
       "<style scoped>\n",
       "    .dataframe tbody tr th:only-of-type {\n",
       "        vertical-align: middle;\n",
       "    }\n",
       "\n",
       "    .dataframe tbody tr th {\n",
       "        vertical-align: top;\n",
       "    }\n",
       "\n",
       "    .dataframe thead th {\n",
       "        text-align: right;\n",
       "    }\n",
       "</style>\n",
       "<table border=\"1\" class=\"dataframe\">\n",
       "  <thead>\n",
       "    <tr style=\"text-align: right;\">\n",
       "      <th></th>\n",
       "      <th>id</th>\n",
       "      <th>label</th>\n",
       "    </tr>\n",
       "  </thead>\n",
       "  <tbody>\n",
       "    <tr>\n",
       "      <th>56958</th>\n",
       "      <td>f6bc643d554f57a38d9cdb34e1e930bfc0303960</td>\n",
       "      <td>0</td>\n",
       "    </tr>\n",
       "    <tr>\n",
       "      <th>200500</th>\n",
       "      <td>f9b759bafcd53a7e77fde86dddc2880b514fcde5</td>\n",
       "      <td>0</td>\n",
       "    </tr>\n",
       "    <tr>\n",
       "      <th>131658</th>\n",
       "      <td>c1985c5bd47661c367230019726cb22e6d638bbf</td>\n",
       "      <td>0</td>\n",
       "    </tr>\n",
       "    <tr>\n",
       "      <th>128765</th>\n",
       "      <td>4afd7e35fd4c8a777d169aa9da77ecdb329f43d9</td>\n",
       "      <td>0</td>\n",
       "    </tr>\n",
       "    <tr>\n",
       "      <th>193876</th>\n",
       "      <td>53351e38209e4c4396e308880e9d5b1ba0ae2546</td>\n",
       "      <td>0</td>\n",
       "    </tr>\n",
       "    <tr>\n",
       "      <th>...</th>\n",
       "      <td>...</td>\n",
       "      <td>...</td>\n",
       "    </tr>\n",
       "    <tr>\n",
       "      <th>96241</th>\n",
       "      <td>258ef3977ae89df290f1923710a72afb6bc45d13</td>\n",
       "      <td>0</td>\n",
       "    </tr>\n",
       "    <tr>\n",
       "      <th>101515</th>\n",
       "      <td>85a3390c0119c79e78200da32b7d629b66181b72</td>\n",
       "      <td>0</td>\n",
       "    </tr>\n",
       "    <tr>\n",
       "      <th>180219</th>\n",
       "      <td>40e132df3186253ce7a65e421d484c0e36669541</td>\n",
       "      <td>0</td>\n",
       "    </tr>\n",
       "    <tr>\n",
       "      <th>170839</th>\n",
       "      <td>35259bc6217634ff94cbae0fc3b970e62e5deb16</td>\n",
       "      <td>0</td>\n",
       "    </tr>\n",
       "    <tr>\n",
       "      <th>164324</th>\n",
       "      <td>00c49e45b359332f95c4fc1b8504a0a63c043e13</td>\n",
       "      <td>0</td>\n",
       "    </tr>\n",
       "  </tbody>\n",
       "</table>\n",
       "<p>1180 rows × 2 columns</p>\n",
       "</div>"
      ],
      "text/plain": [
       "                                              id  label\n",
       "56958   f6bc643d554f57a38d9cdb34e1e930bfc0303960      0\n",
       "200500  f9b759bafcd53a7e77fde86dddc2880b514fcde5      0\n",
       "131658  c1985c5bd47661c367230019726cb22e6d638bbf      0\n",
       "128765  4afd7e35fd4c8a777d169aa9da77ecdb329f43d9      0\n",
       "193876  53351e38209e4c4396e308880e9d5b1ba0ae2546      0\n",
       "...                                          ...    ...\n",
       "96241   258ef3977ae89df290f1923710a72afb6bc45d13      0\n",
       "101515  85a3390c0119c79e78200da32b7d629b66181b72      0\n",
       "180219  40e132df3186253ce7a65e421d484c0e36669541      0\n",
       "170839  35259bc6217634ff94cbae0fc3b970e62e5deb16      0\n",
       "164324  00c49e45b359332f95c4fc1b8504a0a63c043e13      0\n",
       "\n",
       "[1180 rows x 2 columns]"
      ]
     },
     "execution_count": 78,
     "metadata": {},
     "output_type": "execute_result"
    }
   ],
   "source": [
    "test_label_sample_0_10k"
   ]
  },
  {
   "cell_type": "code",
   "execution_count": 79,
   "id": "d914e577-08fa-4310-8427-661dca724b37",
   "metadata": {},
   "outputs": [
    {
     "data": {
      "text/html": [
       "<div>\n",
       "<style scoped>\n",
       "    .dataframe tbody tr th:only-of-type {\n",
       "        vertical-align: middle;\n",
       "    }\n",
       "\n",
       "    .dataframe tbody tr th {\n",
       "        vertical-align: top;\n",
       "    }\n",
       "\n",
       "    .dataframe thead th {\n",
       "        text-align: right;\n",
       "    }\n",
       "</style>\n",
       "<table border=\"1\" class=\"dataframe\">\n",
       "  <thead>\n",
       "    <tr style=\"text-align: right;\">\n",
       "      <th></th>\n",
       "      <th>id</th>\n",
       "      <th>label</th>\n",
       "    </tr>\n",
       "  </thead>\n",
       "  <tbody>\n",
       "    <tr>\n",
       "      <th>188787</th>\n",
       "      <td>ddce495259d33d45e7b85288b8c08de8028cb89c</td>\n",
       "      <td>1</td>\n",
       "    </tr>\n",
       "    <tr>\n",
       "      <th>135355</th>\n",
       "      <td>01681c76a82b89b86452e94dc5debc01867dc8d4</td>\n",
       "      <td>1</td>\n",
       "    </tr>\n",
       "    <tr>\n",
       "      <th>108001</th>\n",
       "      <td>dca33b64625d373274a77a0e5e137e8298944cdc</td>\n",
       "      <td>1</td>\n",
       "    </tr>\n",
       "    <tr>\n",
       "      <th>61907</th>\n",
       "      <td>98f548d45ec30d99f04fb91cdb2472af64ed54f4</td>\n",
       "      <td>1</td>\n",
       "    </tr>\n",
       "    <tr>\n",
       "      <th>108419</th>\n",
       "      <td>6b326df22a3fe46dae1a0945bda164625333d1b5</td>\n",
       "      <td>1</td>\n",
       "    </tr>\n",
       "    <tr>\n",
       "      <th>...</th>\n",
       "      <td>...</td>\n",
       "      <td>...</td>\n",
       "    </tr>\n",
       "    <tr>\n",
       "      <th>37924</th>\n",
       "      <td>e135dd5be4ef50e2a5a233f9491082d7ec30a1c7</td>\n",
       "      <td>1</td>\n",
       "    </tr>\n",
       "    <tr>\n",
       "      <th>27190</th>\n",
       "      <td>21ce6f80fb6ed84e7da8971d677e36da30e60fb8</td>\n",
       "      <td>1</td>\n",
       "    </tr>\n",
       "    <tr>\n",
       "      <th>189003</th>\n",
       "      <td>103c0924f06c0f6842864e40a4f5f44f80289b71</td>\n",
       "      <td>1</td>\n",
       "    </tr>\n",
       "    <tr>\n",
       "      <th>136626</th>\n",
       "      <td>4788d5a452e95fae5c3422761fa46a9ce5aa35e0</td>\n",
       "      <td>1</td>\n",
       "    </tr>\n",
       "    <tr>\n",
       "      <th>96558</th>\n",
       "      <td>5844f868c463d760e47c98c4557f993fcacc7148</td>\n",
       "      <td>1</td>\n",
       "    </tr>\n",
       "  </tbody>\n",
       "</table>\n",
       "<p>820 rows × 2 columns</p>\n",
       "</div>"
      ],
      "text/plain": [
       "                                              id  label\n",
       "188787  ddce495259d33d45e7b85288b8c08de8028cb89c      1\n",
       "135355  01681c76a82b89b86452e94dc5debc01867dc8d4      1\n",
       "108001  dca33b64625d373274a77a0e5e137e8298944cdc      1\n",
       "61907   98f548d45ec30d99f04fb91cdb2472af64ed54f4      1\n",
       "108419  6b326df22a3fe46dae1a0945bda164625333d1b5      1\n",
       "...                                          ...    ...\n",
       "37924   e135dd5be4ef50e2a5a233f9491082d7ec30a1c7      1\n",
       "27190   21ce6f80fb6ed84e7da8971d677e36da30e60fb8      1\n",
       "189003  103c0924f06c0f6842864e40a4f5f44f80289b71      1\n",
       "136626  4788d5a452e95fae5c3422761fa46a9ce5aa35e0      1\n",
       "96558   5844f868c463d760e47c98c4557f993fcacc7148      1\n",
       "\n",
       "[820 rows x 2 columns]"
      ]
     },
     "execution_count": 79,
     "metadata": {},
     "output_type": "execute_result"
    }
   ],
   "source": [
    "test_label_sample_1_10k"
   ]
  },
  {
   "cell_type": "code",
   "execution_count": 81,
   "id": "03485851-ec09-4a73-80a1-4b68d3e1d97d",
   "metadata": {},
   "outputs": [
    {
     "data": {
      "text/html": [
       "<div>\n",
       "<style scoped>\n",
       "    .dataframe tbody tr th:only-of-type {\n",
       "        vertical-align: middle;\n",
       "    }\n",
       "\n",
       "    .dataframe tbody tr th {\n",
       "        vertical-align: top;\n",
       "    }\n",
       "\n",
       "    .dataframe thead th {\n",
       "        text-align: right;\n",
       "    }\n",
       "</style>\n",
       "<table border=\"1\" class=\"dataframe\">\n",
       "  <thead>\n",
       "    <tr style=\"text-align: right;\">\n",
       "      <th></th>\n",
       "      <th>id</th>\n",
       "      <th>label</th>\n",
       "    </tr>\n",
       "  </thead>\n",
       "  <tbody>\n",
       "    <tr>\n",
       "      <th>215990</th>\n",
       "      <td>6c6faa70f7bb850eeb5525ee0a6357fbde02babf</td>\n",
       "      <td>0</td>\n",
       "    </tr>\n",
       "    <tr>\n",
       "      <th>219196</th>\n",
       "      <td>376679a6badbd607b573a1daa5896026573e8172</td>\n",
       "      <td>0</td>\n",
       "    </tr>\n",
       "    <tr>\n",
       "      <th>217872</th>\n",
       "      <td>95efb5fad1ca7cb21707c8ebe28d60e288d593b7</td>\n",
       "      <td>0</td>\n",
       "    </tr>\n",
       "    <tr>\n",
       "      <th>152620</th>\n",
       "      <td>626c2b27cd1cfa0fe4ecbe8ac2bdb5c304a36abc</td>\n",
       "      <td>0</td>\n",
       "    </tr>\n",
       "    <tr>\n",
       "      <th>91248</th>\n",
       "      <td>da73d83bdec25b0a74645c89f10757a1d1eab268</td>\n",
       "      <td>0</td>\n",
       "    </tr>\n",
       "    <tr>\n",
       "      <th>...</th>\n",
       "      <td>...</td>\n",
       "      <td>...</td>\n",
       "    </tr>\n",
       "    <tr>\n",
       "      <th>35801</th>\n",
       "      <td>39775bd0c2f2bf0596a9a67f06432828ca3a18bf</td>\n",
       "      <td>0</td>\n",
       "    </tr>\n",
       "    <tr>\n",
       "      <th>79056</th>\n",
       "      <td>4944e138836c93e46befcb1e380438b47ff26d50</td>\n",
       "      <td>0</td>\n",
       "    </tr>\n",
       "    <tr>\n",
       "      <th>40290</th>\n",
       "      <td>07288672d5f1268768ad13684bbe469d6ce238a6</td>\n",
       "      <td>0</td>\n",
       "    </tr>\n",
       "    <tr>\n",
       "      <th>59012</th>\n",
       "      <td>e636e8a7566dcfe1061934a61ff0781d5a256e25</td>\n",
       "      <td>0</td>\n",
       "    </tr>\n",
       "    <tr>\n",
       "      <th>154855</th>\n",
       "      <td>093d8550bf511d97d1a081896699cc3f728bdb1d</td>\n",
       "      <td>0</td>\n",
       "    </tr>\n",
       "  </tbody>\n",
       "</table>\n",
       "<p>5000 rows × 2 columns</p>\n",
       "</div>"
      ],
      "text/plain": [
       "                                              id  label\n",
       "215990  6c6faa70f7bb850eeb5525ee0a6357fbde02babf      0\n",
       "219196  376679a6badbd607b573a1daa5896026573e8172      0\n",
       "217872  95efb5fad1ca7cb21707c8ebe28d60e288d593b7      0\n",
       "152620  626c2b27cd1cfa0fe4ecbe8ac2bdb5c304a36abc      0\n",
       "91248   da73d83bdec25b0a74645c89f10757a1d1eab268      0\n",
       "...                                          ...    ...\n",
       "35801   39775bd0c2f2bf0596a9a67f06432828ca3a18bf      0\n",
       "79056   4944e138836c93e46befcb1e380438b47ff26d50      0\n",
       "40290   07288672d5f1268768ad13684bbe469d6ce238a6      0\n",
       "59012   e636e8a7566dcfe1061934a61ff0781d5a256e25      0\n",
       "154855  093d8550bf511d97d1a081896699cc3f728bdb1d      0\n",
       "\n",
       "[5000 rows x 2 columns]"
      ]
     },
     "execution_count": 81,
     "metadata": {},
     "output_type": "execute_result"
    }
   ],
   "source": [
    "train_label_0_bal_10k"
   ]
  },
  {
   "cell_type": "code",
   "execution_count": 82,
   "id": "0573aaa9-52be-4bf6-98a0-e8e7d5f6c3b7",
   "metadata": {},
   "outputs": [
    {
     "data": {
      "text/html": [
       "<div>\n",
       "<style scoped>\n",
       "    .dataframe tbody tr th:only-of-type {\n",
       "        vertical-align: middle;\n",
       "    }\n",
       "\n",
       "    .dataframe tbody tr th {\n",
       "        vertical-align: top;\n",
       "    }\n",
       "\n",
       "    .dataframe thead th {\n",
       "        text-align: right;\n",
       "    }\n",
       "</style>\n",
       "<table border=\"1\" class=\"dataframe\">\n",
       "  <thead>\n",
       "    <tr style=\"text-align: right;\">\n",
       "      <th></th>\n",
       "      <th>id</th>\n",
       "      <th>label</th>\n",
       "    </tr>\n",
       "  </thead>\n",
       "  <tbody>\n",
       "    <tr>\n",
       "      <th>53843</th>\n",
       "      <td>4ac75d2edc5bc0a45657fb5ba28c746a189eb12a</td>\n",
       "      <td>1</td>\n",
       "    </tr>\n",
       "    <tr>\n",
       "      <th>157077</th>\n",
       "      <td>45d2359f8005741557bc9fb487d89381b5447bde</td>\n",
       "      <td>1</td>\n",
       "    </tr>\n",
       "    <tr>\n",
       "      <th>69897</th>\n",
       "      <td>72847c53d779fd084d815a37606407db79ee30f3</td>\n",
       "      <td>1</td>\n",
       "    </tr>\n",
       "    <tr>\n",
       "      <th>92580</th>\n",
       "      <td>34cd246dc1e8b6e864b2c6fb41f1b34b930630c9</td>\n",
       "      <td>1</td>\n",
       "    </tr>\n",
       "    <tr>\n",
       "      <th>77687</th>\n",
       "      <td>61465541102646bcc6dd89af9f9c140ba3c881d2</td>\n",
       "      <td>1</td>\n",
       "    </tr>\n",
       "    <tr>\n",
       "      <th>...</th>\n",
       "      <td>...</td>\n",
       "      <td>...</td>\n",
       "    </tr>\n",
       "    <tr>\n",
       "      <th>42678</th>\n",
       "      <td>e3763a5b41f9650c9c0f9c0f0ff49fd7f82bc77c</td>\n",
       "      <td>1</td>\n",
       "    </tr>\n",
       "    <tr>\n",
       "      <th>207094</th>\n",
       "      <td>23382f89f5633f8a68dfdab6e2a27de6149de8b8</td>\n",
       "      <td>1</td>\n",
       "    </tr>\n",
       "    <tr>\n",
       "      <th>23809</th>\n",
       "      <td>c1197b1d5f9879b2471f7802d8a93707e636770c</td>\n",
       "      <td>1</td>\n",
       "    </tr>\n",
       "    <tr>\n",
       "      <th>19687</th>\n",
       "      <td>182415ca2513bd22bbbc91e7e4280876a2eca6ec</td>\n",
       "      <td>1</td>\n",
       "    </tr>\n",
       "    <tr>\n",
       "      <th>83233</th>\n",
       "      <td>d2be3c4fa10032b99f433b2cbdc3c65aff977afa</td>\n",
       "      <td>1</td>\n",
       "    </tr>\n",
       "  </tbody>\n",
       "</table>\n",
       "<p>5000 rows × 2 columns</p>\n",
       "</div>"
      ],
      "text/plain": [
       "                                              id  label\n",
       "53843   4ac75d2edc5bc0a45657fb5ba28c746a189eb12a      1\n",
       "157077  45d2359f8005741557bc9fb487d89381b5447bde      1\n",
       "69897   72847c53d779fd084d815a37606407db79ee30f3      1\n",
       "92580   34cd246dc1e8b6e864b2c6fb41f1b34b930630c9      1\n",
       "77687   61465541102646bcc6dd89af9f9c140ba3c881d2      1\n",
       "...                                          ...    ...\n",
       "42678   e3763a5b41f9650c9c0f9c0f0ff49fd7f82bc77c      1\n",
       "207094  23382f89f5633f8a68dfdab6e2a27de6149de8b8      1\n",
       "23809   c1197b1d5f9879b2471f7802d8a93707e636770c      1\n",
       "19687   182415ca2513bd22bbbc91e7e4280876a2eca6ec      1\n",
       "83233   d2be3c4fa10032b99f433b2cbdc3c65aff977afa      1\n",
       "\n",
       "[5000 rows x 2 columns]"
      ]
     },
     "execution_count": 82,
     "metadata": {},
     "output_type": "execute_result"
    }
   ],
   "source": [
    "train_label_1_bal_10k"
   ]
  },
  {
   "cell_type": "markdown",
   "id": "ed8c23dc-09d9-4f60-935c-28cecdc061ad",
   "metadata": {
    "jp-MarkdownHeadingCollapsed": true,
    "tags": []
   },
   "source": [
    "# Check cross dataframes"
   ]
  },
  {
   "cell_type": "markdown",
   "id": "8f5a14c6-d897-4fed-87a0-d22c9282dd75",
   "metadata": {},
   "source": [
    "## Train checks"
   ]
  },
  {
   "cell_type": "code",
   "execution_count": 88,
   "id": "694bb3b7-3c96-4071-98f0-17030f4dde6d",
   "metadata": {},
   "outputs": [
    {
     "data": {
      "text/plain": [
       "id  \n",
       "True    2500\n",
       "dtype: int64"
      ]
     },
     "execution_count": 88,
     "metadata": {},
     "output_type": "execute_result"
    }
   ],
   "source": [
    "pd.DataFrame(train_label_0_bal_5k['id'].isin(train_label_0_bal['id'])).value_counts()"
   ]
  },
  {
   "cell_type": "code",
   "execution_count": 89,
   "id": "56bd1c11-8951-45a0-a412-3a9b1fd03c59",
   "metadata": {},
   "outputs": [
    {
     "data": {
      "text/plain": [
       "id  \n",
       "True    5000\n",
       "dtype: int64"
      ]
     },
     "execution_count": 89,
     "metadata": {},
     "output_type": "execute_result"
    }
   ],
   "source": [
    "pd.DataFrame(train_label_0_bal_10k['id'].isin(train_label_0_bal['id'])).value_counts()"
   ]
  },
  {
   "cell_type": "code",
   "execution_count": 90,
   "id": "95e75a75-026e-4af1-9afd-515480466773",
   "metadata": {},
   "outputs": [
    {
     "data": {
      "text/plain": [
       "id  \n",
       "True    2500\n",
       "dtype: int64"
      ]
     },
     "execution_count": 90,
     "metadata": {},
     "output_type": "execute_result"
    }
   ],
   "source": [
    "pd.DataFrame(train_label_1_bal_5k['id'].isin(train_label_1_bal['id'])).value_counts()"
   ]
  },
  {
   "cell_type": "code",
   "execution_count": 91,
   "id": "62c535c8-7d03-4b39-bc47-d0f1f68366a5",
   "metadata": {},
   "outputs": [
    {
     "data": {
      "text/plain": [
       "id  \n",
       "True    5000\n",
       "dtype: int64"
      ]
     },
     "execution_count": 91,
     "metadata": {},
     "output_type": "execute_result"
    }
   ],
   "source": [
    "pd.DataFrame(train_label_1_bal_10k['id'].isin(train_label_1_bal['id'])).value_counts()"
   ]
  },
  {
   "cell_type": "markdown",
   "id": "f9c77dc2-8d7c-4386-868b-445ea401b46e",
   "metadata": {},
   "source": [
    "## Test checks"
   ]
  },
  {
   "cell_type": "code",
   "execution_count": 92,
   "id": "cae7721f-d902-4278-a0bf-45c2da043cb7",
   "metadata": {},
   "outputs": [
    {
     "data": {
      "text/plain": [
       "id  \n",
       "True    590\n",
       "dtype: int64"
      ]
     },
     "execution_count": 92,
     "metadata": {},
     "output_type": "execute_result"
    }
   ],
   "source": [
    "pd.DataFrame(test_label_sample_0_5k['id'].isin(test_label_0['id'])).value_counts()"
   ]
  },
  {
   "cell_type": "code",
   "execution_count": 93,
   "id": "1c7434fb-bc5b-4511-b3a9-ecc0de14d331",
   "metadata": {},
   "outputs": [
    {
     "data": {
      "text/plain": [
       "id  \n",
       "True    1180\n",
       "dtype: int64"
      ]
     },
     "execution_count": 93,
     "metadata": {},
     "output_type": "execute_result"
    }
   ],
   "source": [
    "pd.DataFrame(test_label_sample_0_10k['id'].isin(test_label_0['id'])).value_counts()"
   ]
  },
  {
   "cell_type": "code",
   "execution_count": 94,
   "id": "dce358ef-6e7d-4643-8002-a993442517b1",
   "metadata": {},
   "outputs": [
    {
     "data": {
      "text/plain": [
       "id  \n",
       "True    410\n",
       "dtype: int64"
      ]
     },
     "execution_count": 94,
     "metadata": {},
     "output_type": "execute_result"
    }
   ],
   "source": [
    "pd.DataFrame(test_label_sample_1_5k['id'].isin(test_label_1['id'])).value_counts()"
   ]
  },
  {
   "cell_type": "code",
   "execution_count": 95,
   "id": "9b1fd47b-358a-426c-b7d9-e800039c53f3",
   "metadata": {},
   "outputs": [
    {
     "data": {
      "text/plain": [
       "id  \n",
       "True    820\n",
       "dtype: int64"
      ]
     },
     "execution_count": 95,
     "metadata": {},
     "output_type": "execute_result"
    }
   ],
   "source": [
    "pd.DataFrame(test_label_sample_1_10k['id'].isin(test_label_1['id'])).value_counts()"
   ]
  },
  {
   "cell_type": "markdown",
   "id": "12ea93b1-24db-4f8b-a712-7fc56c51825c",
   "metadata": {},
   "source": [
    "# Sampling Train and Datasets - 30K"
   ]
  },
  {
   "cell_type": "code",
   "execution_count": 96,
   "id": "8027072a-5c0e-4c11-8688-242d0e32e2e1",
   "metadata": {},
   "outputs": [],
   "source": [
    "# MANUALLY CREATE FOLDERS 5K / 10K etc. with 0/1 and then amend paths below\n",
    "size = 30000\n",
    "test_size = 0.2*size\n",
    "# Sourcing from TRAIN_BAL dataset\n",
    "source_train_bal_0 = '/Users/chloeguillaume/code/GuillaumeRib/project-cancer-detection/raw_data/TRAIN_BAL/0'\n",
    "source_train_bal_1 = '/Users/chloeguillaume/code/GuillaumeRib/project-cancer-detection/raw_data/TRAIN_BAL/1'\n",
    "\n",
    "# Sourcing from new TEST dataset\n",
    "source_test_0 = '/Users/chloeguillaume/code/GuillaumeRib/project-cancer-detection/raw_data/TEST/0'\n",
    "source_test_1 = '/Users/chloeguillaume/code/GuillaumeRib/project-cancer-detection/raw_data/TEST/1'\n",
    "\n",
    "# Destination for sample Train\n",
    "dest_train_bal_0_samp = '/Users/chloeguillaume/code/GuillaumeRib/project-cancer-detection/raw_data/TRAIN_30K/0'\n",
    "dest_train_bal_1_samp = '/Users/chloeguillaume/code/GuillaumeRib/project-cancer-detection/raw_data/TRAIN_30K/1'\n",
    "\n",
    "# Destination for new TEST dataset\n",
    "dest_test_0_samp = '/Users/chloeguillaume/code/GuillaumeRib/project-cancer-detection/raw_data/TEST_30K/0'\n",
    "dest_test_1_samp = '/Users/chloeguillaume/code/GuillaumeRib/project-cancer-detection/raw_data/TEST_30K/1'\n",
    "\n",
    "# Picking randdomly from Train_bal labels\n",
    "train_label_0_bal_30k = train_label_0_bal.sample(n=int(size/2),random_state=72)\n",
    "train_label_1_bal_30k = train_label_1_bal.sample(n=int(size/2),random_state=72)\n",
    "\n",
    "# Picking randdomly from Test labels\n",
    "test_label_sample_0_30k = test_label_0.sample(n=int(test_size*0.59),random_state=72)\n",
    "test_label_sample_1_30k = test_label_1.sample(n=int(test_size*0.41),random_state=72)"
   ]
  },
  {
   "cell_type": "code",
   "execution_count": 97,
   "id": "ff7a1776-ac2a-48fd-b4c1-9111ec0f32bb",
   "metadata": {},
   "outputs": [],
   "source": [
    "# Copying Train files into Train sample folder\n",
    "for index,row in train_label_0_bal_30k.reset_index().iterrows():\n",
    "    file = row['id']\n",
    "    source_file = os.path.join(source_train_bal_0,file+'.tif')\n",
    "    destination_file = os.path.join(dest_train_bal_0_samp,file+'.tif')\n",
    "    shutil.copy(source_file,destination_file)\n",
    "    \n",
    "for index,row in train_label_1_bal_30k.reset_index().iterrows():\n",
    "    file = row['id']\n",
    "    source_file = os.path.join(source_train_bal_1,file+'.tif')\n",
    "    destination_file = os.path.join(dest_train_bal_1_samp,file+'.tif')\n",
    "    shutil.copy(source_file,destination_file)"
   ]
  },
  {
   "cell_type": "code",
   "execution_count": 98,
   "id": "4beb12a3-98fa-44e8-ba6b-5bf1ccb62aa1",
   "metadata": {},
   "outputs": [],
   "source": [
    "# Copying Test files into Test Sample folder\n",
    "for index,row in test_label_sample_0_30k.reset_index().iterrows():\n",
    "    file = row['id']\n",
    "    source_file = os.path.join(source_test_0,file+'.tif')\n",
    "    destination_file = os.path.join(dest_test_0_samp,file+'.tif')\n",
    "    shutil.copy(source_file,destination_file)\n",
    "    \n",
    "for index,row in test_label_sample_1_30k.reset_index().iterrows():\n",
    "    file = row['id']\n",
    "    source_file = os.path.join(source_test_1,file+'.tif')\n",
    "    destination_file = os.path.join(dest_test_1_samp,file+'.tif')\n",
    "    shutil.copy(source_file,destination_file)"
   ]
  },
  {
   "cell_type": "code",
   "execution_count": 101,
   "id": "aca580b0-3305-4822-a2db-590d5b3a1bb7",
   "metadata": {},
   "outputs": [
    {
     "name": "stdout",
     "output_type": "stream",
     "text": [
      "15000 True\n",
      "15000 True\n",
      "3540 True\n",
      "2460 True\n"
     ]
    }
   ],
   "source": [
    "# Check size Train_0 sample\n",
    "filenames = next(walk(dest_train_bal_0_samp), (None, None, []))[2] \n",
    "print(len(filenames),len(filenames) == len(set(filenames)))\n",
    "# Check size Train_1 sample\n",
    "filenames = next(walk(dest_train_bal_1_samp), (None, None, []))[2] \n",
    "print(len(filenames),len(filenames) == len(set(filenames)))\n",
    "# Check size Test_0 sample\n",
    "filenames = next(walk(dest_test_0_samp), (None, None, []))[2] \n",
    "print(len(filenames),len(filenames) == len(set(filenames)))\n",
    "# Check size Test_1 sample\n",
    "filenames = next(walk(dest_test_1_samp), (None, None, []))[2] \n",
    "print(len(filenames),len(filenames) == len(set(filenames)))"
   ]
  },
  {
   "cell_type": "code",
   "execution_count": null,
   "id": "9403b642-312d-4bee-a3a0-5f1d55ee781b",
   "metadata": {},
   "outputs": [],
   "source": []
  }
 ],
 "metadata": {
  "kernelspec": {
   "display_name": "Python 3.8.12 64-bit ('project-cancer-detection')",
   "language": "python",
   "name": "python3"
  },
  "language_info": {
   "codemirror_mode": {
    "name": "ipython",
    "version": 3
   },
   "file_extension": ".py",
   "mimetype": "text/x-python",
   "name": "python",
   "nbconvert_exporter": "python",
   "pygments_lexer": "ipython3",
   "version": "3.8.12"
  },
  "vscode": {
   "interpreter": {
    "hash": "70db0b36e5211eb36e351e70f9c19e45c8a30ea552e0a99dbfd0d7dfcadeae18"
   }
  }
 },
 "nbformat": 4,
 "nbformat_minor": 5
}
