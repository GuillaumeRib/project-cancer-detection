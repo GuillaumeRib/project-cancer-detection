{
 "cells": [
  {
   "cell_type": "markdown",
   "metadata": {
    "tags": []
   },
   "source": [
    "# Baseline Model"
   ]
  },
  {
   "cell_type": "code",
   "execution_count": 1,
   "metadata": {},
   "outputs": [],
   "source": [
    "import numpy as np\n",
    "import pandas as pd\n",
    "import matplotlib.pyplot as plt"
   ]
  },
  {
   "cell_type": "markdown",
   "metadata": {
    "tags": []
   },
   "source": [
    "## Local Train / Test set paths"
   ]
  },
  {
   "cell_type": "code",
   "execution_count": 3,
   "metadata": {},
   "outputs": [],
   "source": [
    "# Link to your sample train_path (manually selected for now)\n",
    "local_train_path = '../raw_data/SAMPLES/TRAIN_5K'\n",
    "local_test_path = '../raw_data/SAMPLES/TEST_5K'"
   ]
  },
  {
   "cell_type": "markdown",
   "metadata": {},
   "source": [
    "## Cloud paths - TO DO"
   ]
  },
  {
   "cell_type": "code",
   "execution_count": 4,
   "metadata": {},
   "outputs": [],
   "source": [
    "# Need to link to cloud storage account hosting all sample folders already ready to use by the model\n",
    "cloud_train_path = '..'\n",
    "cloud_test_path = '..'"
   ]
  },
  {
   "cell_type": "markdown",
   "metadata": {},
   "source": [
    "## Preprocessing - Loading Train & Test images as Tensorflow generators + VGG16 preproc"
   ]
  },
  {
   "cell_type": "code",
   "execution_count": 5,
   "metadata": {},
   "outputs": [],
   "source": [
    "from tensorflow.keras.preprocessing.image import ImageDataGenerator\n",
    "from keras.applications.vgg16 import preprocess_input"
   ]
  },
  {
   "cell_type": "code",
   "execution_count": 6,
   "metadata": {},
   "outputs": [],
   "source": [
    "# ImageGenerator preprocess images / minimum params / to read .tif images\n",
    "train_datagen = ImageDataGenerator(validation_split=0.2,preprocessing_function=preprocess_input)\n",
    "test_datagen = ImageDataGenerator(preprocessing_function=preprocess_input)\n",
    "#preprocessing_function=preprocess_input"
   ]
  },
  {
   "cell_type": "code",
   "execution_count": 7,
   "metadata": {},
   "outputs": [
    {
     "name": "stdout",
     "output_type": "stream",
     "text": [
      "Found 4000 images belonging to 2 classes.\n",
      "Found 1000 images belonging to 2 classes.\n",
      "Found 1000 images belonging to 2 classes.\n"
     ]
    }
   ],
   "source": [
    "# Load from directory to flow passsed into ImageGenerator\n",
    "train_generator = train_datagen.flow_from_directory(local_train_path,\n",
    "                                                    subset='training',\n",
    "                                                    target_size=(96,96),\n",
    "                                                    batch_size=16,\n",
    "                                                    class_mode='binary')\n",
    "\n",
    "val_generator = train_datagen.flow_from_directory(local_train_path,\n",
    "                                                  subset='validation',\n",
    "                                                  target_size=(96,96),\n",
    "                                                  batch_size=16,\n",
    "                                                  class_mode='binary')\n",
    "                        \n",
    "\n",
    "test_generator = test_datagen.flow_from_directory(local_test_path,\n",
    "                                                  target_size=(96,96),\n",
    "                                                  class_mode='binary')"
   ]
  },
  {
   "cell_type": "code",
   "execution_count": 8,
   "metadata": {},
   "outputs": [
    {
     "data": {
      "text/plain": [
       "96"
      ]
     },
     "execution_count": 8,
     "metadata": {},
     "output_type": "execute_result"
    }
   ],
   "source": [
    "dim = train_generator[0][0].shape[1]\n",
    "dim"
   ]
  },
  {
   "cell_type": "code",
   "execution_count": 9,
   "metadata": {},
   "outputs": [
    {
     "data": {
      "text/plain": [
       "array([[[[  23.060997  ,  -41.779     ,   -0.6800003 ],\n",
       "         [  30.060997  ,  -31.779     ,    7.3199997 ],\n",
       "         [   7.060997  ,  -48.779     ,  -12.68      ],\n",
       "         ...,\n",
       "         [ 122.061     ,  112.221     ,  120.32      ],\n",
       "         [ 140.061     ,  138.22101   ,  131.32      ],\n",
       "         [ 139.061     ,  138.22101   ,  125.32      ]],\n",
       "\n",
       "        [[  -1.939003  ,  -60.779     ,  -21.68      ],\n",
       "         [  -5.939003  ,  -61.779     ,  -25.68      ],\n",
       "         [  62.060997  ,   12.221001  ,   45.32      ],\n",
       "         ...,\n",
       "         [ 139.061     ,  122.221     ,  131.32      ],\n",
       "         [ 139.061     ,  130.22101   ,  131.32      ],\n",
       "         [ 131.061     ,  129.22101   ,  120.32      ]],\n",
       "\n",
       "        [[ 119.061     ,   72.221     ,  106.32      ],\n",
       "         [  58.060997  ,   11.221001  ,   44.32      ],\n",
       "         [  91.061     ,   47.221     ,   77.32      ],\n",
       "         ...,\n",
       "         [ 109.061     ,   84.221     ,  113.32      ],\n",
       "         [ 149.061     ,  129.22101   ,  131.32      ],\n",
       "         [ 146.061     ,  130.22101   ,  131.32      ]],\n",
       "\n",
       "        ...,\n",
       "\n",
       "        [[ -48.939003  ,  -85.779     ,  -62.68      ],\n",
       "         [  22.060997  ,  -12.778999  ,    5.3199997 ],\n",
       "         [ 115.061     ,   81.221     ,   96.32      ],\n",
       "         ...,\n",
       "         [ 139.061     ,  128.22101   ,  121.32      ],\n",
       "         [ 137.061     ,  128.22101   ,  122.32      ],\n",
       "         [ 136.061     ,  127.221     ,  125.32      ]],\n",
       "\n",
       "        [[  57.060997  ,   34.221     ,   50.32      ],\n",
       "         [ 108.061     ,   83.221     ,   98.32      ],\n",
       "         [ 120.061     ,   95.221     ,  106.32      ],\n",
       "         ...,\n",
       "         [ 139.061     ,  128.22101   ,  122.32      ],\n",
       "         [ 137.061     ,  127.221     ,  124.32      ],\n",
       "         [ 136.061     ,  127.221     ,  125.32      ]],\n",
       "\n",
       "        [[ 137.061     ,  122.221     ,  131.32      ],\n",
       "         [ 149.061     ,  132.22101   ,  131.32      ],\n",
       "         [ 147.061     ,  129.22101   ,  131.32      ],\n",
       "         ...,\n",
       "         [ 139.061     ,  128.22101   ,  122.32      ],\n",
       "         [ 137.061     ,  127.221     ,  124.32      ],\n",
       "         [ 135.061     ,  126.221     ,  124.32      ]]],\n",
       "\n",
       "\n",
       "       [[[  -0.939003  ,  -90.779     ,  -63.68      ],\n",
       "         [  30.060997  ,  -64.779     ,  -36.68      ],\n",
       "         [  21.060997  ,  -81.779     ,  -52.68      ],\n",
       "         ...,\n",
       "         [  45.060997  ,  -29.779     ,   23.32      ],\n",
       "         [ 109.061     ,   38.221     ,   96.32      ],\n",
       "         [ 107.061     ,   37.221     ,   99.32      ]],\n",
       "\n",
       "        [[  -9.939003  ,  -99.779     ,  -72.68      ],\n",
       "         [  -2.939003  ,  -97.779     ,  -69.68      ],\n",
       "         [   7.060997  ,  -93.779     ,  -64.68      ],\n",
       "         ...,\n",
       "         [ 138.061     ,   60.221     ,  109.32      ],\n",
       "         [  58.060997  ,  -16.779     ,   36.32      ],\n",
       "         [ 107.061     ,   34.221     ,   88.32      ]],\n",
       "\n",
       "        [[  14.060997  ,  -79.779     ,  -47.68      ],\n",
       "         [  19.060997  ,  -78.779     ,  -47.68      ],\n",
       "         [  24.060997  ,  -76.779     ,  -47.68      ],\n",
       "         ...,\n",
       "         [ 116.061     ,   31.221     ,   76.32      ],\n",
       "         [ 100.061     ,   19.221     ,   65.32      ],\n",
       "         [  98.061     ,   17.221     ,   63.32      ]],\n",
       "\n",
       "        ...,\n",
       "\n",
       "        [[  30.060997  ,  -28.779     ,    0.3199997 ],\n",
       "         [ 151.061     ,  119.221     ,  131.32      ],\n",
       "         [  60.060997  ,  -18.779     ,   15.32      ],\n",
       "         ...,\n",
       "         [ 112.061     ,   32.221     ,   86.32      ],\n",
       "         [  76.061     ,   -2.7789993 ,   49.32      ],\n",
       "         [  65.061     ,  -13.778999  ,   38.32      ]],\n",
       "\n",
       "        [[  36.060997  ,  -23.779     ,    7.3199997 ],\n",
       "         [ 151.061     ,   88.221     ,  120.32      ],\n",
       "         [  75.061     ,   -5.7789993 ,   28.32      ],\n",
       "         ...,\n",
       "         [  88.061     ,    1.2210007 ,   60.32      ],\n",
       "         [  94.061     ,    8.221001  ,   63.32      ],\n",
       "         [  79.061     ,   -5.7789993 ,   47.32      ]],\n",
       "\n",
       "        [[  36.060997  ,  -23.779     ,    7.3199997 ],\n",
       "         [ 147.061     ,   79.221     ,  111.32      ],\n",
       "         [  83.061     ,    0.22100067,   34.32      ],\n",
       "         ...,\n",
       "         [ 111.061     ,   18.221     ,   80.32      ],\n",
       "         [ 104.061     ,   13.221001  ,   70.32      ],\n",
       "         [  59.060997  ,  -30.779     ,   23.32      ]]],\n",
       "\n",
       "\n",
       "       [[[  76.061     ,   56.221     ,   84.32      ],\n",
       "         [  84.061     ,   64.221     ,   92.32      ],\n",
       "         [ 134.061     ,  110.221     ,  131.32      ],\n",
       "         ...,\n",
       "         [ -45.939003  , -100.779     ,  -54.68      ],\n",
       "         [ -12.939003  ,  -68.779     ,  -32.68      ],\n",
       "         [ 120.061     ,   64.221     ,   94.32      ]],\n",
       "\n",
       "        [[ 129.061     ,  105.221     ,  131.32      ],\n",
       "         [ 102.061     ,   76.221     ,  107.32      ],\n",
       "         [ 112.061     ,   85.221     ,  119.32      ],\n",
       "         ...,\n",
       "         [  35.060997  ,  -20.779     ,   29.32      ],\n",
       "         [ -28.939003  ,  -83.779     ,  -42.68      ],\n",
       "         [ -12.939003  ,  -68.779     ,  -32.68      ]],\n",
       "\n",
       "        [[ 111.061     ,   80.221     ,  114.32      ],\n",
       "         [  76.061     ,   44.221     ,   80.32      ],\n",
       "         [  86.061     ,   54.221     ,   90.32      ],\n",
       "         ...,\n",
       "         [ -15.939003  ,  -69.779     ,  -15.68      ],\n",
       "         [  18.060997  ,  -35.779     ,   14.32      ],\n",
       "         [   6.060997  ,  -47.779     ,   -3.6800003 ]],\n",
       "\n",
       "        ...,\n",
       "\n",
       "        [[  85.061     ,   54.221     ,   94.32      ],\n",
       "         [ 119.061     ,   86.221     ,  126.32      ],\n",
       "         [  76.061     ,   43.221     ,   81.32      ],\n",
       "         ...,\n",
       "         [ 110.061     ,   78.221     ,  120.32      ],\n",
       "         [  86.061     ,   54.221     ,   98.32      ],\n",
       "         [  84.061     ,   48.221     ,   95.32      ]],\n",
       "\n",
       "        [[  70.061     ,   31.221     ,   78.32      ],\n",
       "         [ 100.061     ,   61.221     ,  107.32      ],\n",
       "         [ 105.061     ,   70.221     ,  111.32      ],\n",
       "         ...,\n",
       "         [  90.061     ,   60.221     ,   97.32      ],\n",
       "         [  91.061     ,   61.221     ,   98.32      ],\n",
       "         [  92.061     ,   62.221     ,   99.32      ]],\n",
       "\n",
       "        [[  69.061     ,   26.221     ,   78.32      ],\n",
       "         [ 115.061     ,   73.221     ,  122.32      ],\n",
       "         [  62.060997  ,   24.221     ,   67.32      ],\n",
       "         ...,\n",
       "         [  61.060997  ,   32.221     ,   66.32      ],\n",
       "         [ 120.061     ,   92.221     ,  123.32      ],\n",
       "         [  96.061     ,   68.221     ,   99.32      ]]],\n",
       "\n",
       "\n",
       "       ...,\n",
       "\n",
       "\n",
       "       [[[ 104.061     ,   82.221     ,  108.32      ],\n",
       "         [ 141.061     ,  116.221     ,  131.32      ],\n",
       "         [ 125.061     ,   96.221     ,  112.32      ],\n",
       "         ...,\n",
       "         [  89.061     ,   41.221     ,   84.32      ],\n",
       "         [ 101.061     ,   50.221     ,   91.32      ],\n",
       "         [  85.061     ,   32.221     ,   73.32      ]],\n",
       "\n",
       "        [[ 130.061     ,  107.221     ,  130.32      ],\n",
       "         [ 111.061     ,   86.221     ,  107.32      ],\n",
       "         [ 127.061     ,  100.221     ,  117.32      ],\n",
       "         ...,\n",
       "         [  85.061     ,   37.221     ,   74.32      ],\n",
       "         [  -8.939003  ,  -60.779     ,  -22.68      ],\n",
       "         [ -65.939     , -116.779     ,  -83.68      ]],\n",
       "\n",
       "        [[ 108.061     ,   88.221     ,  102.32      ],\n",
       "         [  76.061     ,   53.221     ,   69.32      ],\n",
       "         [ 123.061     ,   97.221     ,  116.32      ],\n",
       "         ...,\n",
       "         [  38.060997  ,   -7.7789993 ,   22.32      ],\n",
       "         [ -74.939     , -116.779     ,  -94.68      ],\n",
       "         [ -40.939003  ,  -90.779     ,  -63.68      ]],\n",
       "\n",
       "        ...,\n",
       "\n",
       "        [[ 145.061     ,  131.22101   ,  126.32      ],\n",
       "         [ 145.061     ,  131.22101   ,  126.32      ],\n",
       "         [ 146.061     ,  132.22101   ,  127.32      ],\n",
       "         ...,\n",
       "         [ 145.061     ,  131.22101   ,  126.32      ],\n",
       "         [ 145.061     ,  131.22101   ,  126.32      ],\n",
       "         [ 145.061     ,  131.22101   ,  126.32      ]],\n",
       "\n",
       "        [[ 146.061     ,  132.22101   ,  127.32      ],\n",
       "         [ 146.061     ,  132.22101   ,  127.32      ],\n",
       "         [ 146.061     ,  132.22101   ,  127.32      ],\n",
       "         ...,\n",
       "         [ 145.061     ,  131.22101   ,  126.32      ],\n",
       "         [ 145.061     ,  131.22101   ,  126.32      ],\n",
       "         [ 145.061     ,  131.22101   ,  126.32      ]],\n",
       "\n",
       "        [[ 146.061     ,  132.22101   ,  127.32      ],\n",
       "         [ 146.061     ,  132.22101   ,  127.32      ],\n",
       "         [ 146.061     ,  132.22101   ,  127.32      ],\n",
       "         ...,\n",
       "         [ 145.061     ,  131.22101   ,  126.32      ],\n",
       "         [ 145.061     ,  131.22101   ,  126.32      ],\n",
       "         [ 145.061     ,  131.22101   ,  126.32      ]]],\n",
       "\n",
       "\n",
       "       [[[ 123.061     ,  110.221     ,  119.32      ],\n",
       "         [ 118.061     ,  105.221     ,  114.32      ],\n",
       "         [ 146.061     ,  133.22101   ,  131.32      ],\n",
       "         ...,\n",
       "         [  29.060997  ,  -12.778999  ,   36.32      ],\n",
       "         [  32.060997  ,   -8.778999  ,   37.32      ],\n",
       "         [ 124.061     ,   86.221     ,  129.32      ]],\n",
       "\n",
       "        [[ 127.061     ,  109.221     ,  123.32      ],\n",
       "         [ 121.061     ,  103.221     ,  117.32      ],\n",
       "         [ 104.061     ,   85.221     ,  101.32      ],\n",
       "         ...,\n",
       "         [  49.060997  ,    4.2210007 ,   51.32      ],\n",
       "         [  -1.939003  ,  -44.779     ,   -2.6800003 ],\n",
       "         [  11.060997  ,  -30.779     ,    8.32      ]],\n",
       "\n",
       "        [[  86.061     ,   61.221     ,   82.32      ],\n",
       "         [ 120.061     ,   95.221     ,  116.32      ],\n",
       "         [ 119.061     ,   91.221     ,  115.32      ],\n",
       "         ...,\n",
       "         [  41.060997  ,   -8.778999  ,   34.32      ],\n",
       "         [ -17.939003  ,  -67.779     ,  -28.68      ],\n",
       "         [  34.060997  ,  -17.779     ,   20.32      ]],\n",
       "\n",
       "        ...,\n",
       "\n",
       "        [[ 101.061     ,   73.221     ,   98.32      ],\n",
       "         [ 123.061     ,   94.221     ,  121.32      ],\n",
       "         [  85.061     ,   55.221     ,   85.32      ],\n",
       "         ...,\n",
       "         [ 116.061     ,   88.221     ,  113.32      ],\n",
       "         [ 104.061     ,   80.221     ,  105.32      ],\n",
       "         [  78.061     ,   55.221     ,   78.32      ]],\n",
       "\n",
       "        [[  75.061     ,   48.221     ,   77.32      ],\n",
       "         [ 120.061     ,   89.221     ,  121.32      ],\n",
       "         [ 104.061     ,   72.221     ,  108.32      ],\n",
       "         ...,\n",
       "         [ 148.061     ,  120.221     ,  131.32      ],\n",
       "         [  90.061     ,   68.221     ,   88.32      ],\n",
       "         [  60.060997  ,   42.221     ,   62.32      ]],\n",
       "\n",
       "        [[ 106.061     ,   77.221     ,  111.32      ],\n",
       "         [  29.060997  ,   -2.7789993 ,   33.32      ],\n",
       "         [  69.061     ,   36.221     ,   74.32      ],\n",
       "         ...,\n",
       "         [ 151.061     ,  125.221     ,  131.32      ],\n",
       "         [ 136.061     ,  112.221     ,  131.32      ],\n",
       "         [  75.061     ,   53.221     ,   72.32      ]]],\n",
       "\n",
       "\n",
       "       [[[  15.060997  ,  -31.779     ,   -7.6800003 ],\n",
       "         [ -28.939003  ,  -80.779     ,  -55.68      ],\n",
       "         [ -16.939003  ,  -76.779     ,  -50.68      ],\n",
       "         ...,\n",
       "         [ -11.939003  ,  -31.779     ,  -25.68      ],\n",
       "         [  89.061     ,   69.221     ,   75.32      ],\n",
       "         [  92.061     ,   72.221     ,   78.32      ]],\n",
       "\n",
       "        [[ -38.939003  ,  -86.779     ,  -59.68      ],\n",
       "         [  -8.939003  ,  -61.779     ,  -33.68      ],\n",
       "         [ -10.939003  ,  -69.779     ,  -40.68      ],\n",
       "         ...,\n",
       "         [ 136.061     ,  119.221     ,  124.32      ],\n",
       "         [ 135.061     ,  117.221     ,  125.32      ],\n",
       "         [ 143.061     ,  125.221     ,  131.32      ]],\n",
       "\n",
       "        [[ -32.939003  ,  -84.779     ,  -53.68      ],\n",
       "         [ -12.939003  ,  -66.779     ,  -35.68      ],\n",
       "         [ -34.939003  ,  -92.779     ,  -60.68      ],\n",
       "         ...,\n",
       "         [ 108.061     ,   89.221     ,   99.32      ],\n",
       "         [ 142.061     ,  123.221     ,  131.32      ],\n",
       "         [ 149.061     ,  133.22101   ,  131.32      ]],\n",
       "\n",
       "        ...,\n",
       "\n",
       "        [[ -46.939003  ,  -86.779     ,  -53.68      ],\n",
       "         [ 120.061     ,   79.221     ,  108.32      ],\n",
       "         [ -84.939     , -116.779     , -103.68      ],\n",
       "         ...,\n",
       "         [ -14.939003  ,  -58.779     ,  -44.68      ],\n",
       "         [ -76.939     , -116.779     , -109.68      ],\n",
       "         [ -18.939003  ,  -63.779     ,  -51.68      ]],\n",
       "\n",
       "        [[  64.061     ,   28.221     ,   65.32      ],\n",
       "         [  99.061     ,   66.221     ,  101.32      ],\n",
       "         [  46.060997  ,   13.221001  ,   41.32      ],\n",
       "         ...,\n",
       "         [  93.061     ,   54.221     ,   63.32      ],\n",
       "         [  34.060997  ,   -4.7789993 ,    4.3199997 ],\n",
       "         [  44.060997  ,    5.2210007 ,   14.32      ]],\n",
       "\n",
       "        [[  86.061     ,   52.221     ,   94.32      ],\n",
       "         [  89.061     ,   61.221     ,   98.32      ],\n",
       "         [  92.061     ,   63.221     ,   97.32      ],\n",
       "         ...,\n",
       "         [ 151.061     ,  127.221     ,  131.32      ],\n",
       "         [ 151.061     ,  120.221     ,  128.32      ],\n",
       "         [ 151.061     ,  131.22101   ,  131.32      ]]]], dtype=float32)"
      ]
     },
     "execution_count": 9,
     "metadata": {},
     "output_type": "execute_result"
    }
   ],
   "source": [
    "train_generator[0][0]"
   ]
  },
  {
   "cell_type": "markdown",
   "metadata": {
    "tags": []
   },
   "source": [
    "## VGG16 Model Import - Transfer Learning"
   ]
  },
  {
   "cell_type": "code",
   "execution_count": 43,
   "metadata": {},
   "outputs": [],
   "source": [
    "from tensorflow.keras.applications.vgg16 import VGG16\n",
    "from tensorflow.keras import layers, models\n",
    "from tensorflow.keras import optimizers\n",
    "from tensorflow.keras.optimizers import Adam\n",
    "\n",
    "def load_model():\n",
    "    model = VGG16(\n",
    "        weights='imagenet',\n",
    "        include_top=False,\n",
    "        input_shape =(dim,dim,3)\n",
    "    )\n",
    "    return model\n",
    "\n",
    "def set_nontrainable_layers(model):\n",
    "    model.trainable = False\n",
    "    return model\n",
    "\n",
    "def add_last_layers(model):\n",
    "    '''Take a pre-trained model, set its parameters as non-trainable, and add additional trainable layers on top'''\n",
    "    base_model = set_nontrainable_layers(model)\n",
    "    flatten_layer = layers.Flatten()\n",
    "    dense_layer = layers.Dense(10, activation='relu')\n",
    "    prediction_layer = layers.Dense(1, activation='sigmoid')\n",
    "    dropout_layer = layers.Dropout(rate=0.20)\n",
    "    \n",
    "    model = models.Sequential([\n",
    "        base_model,\n",
    "        dropout_layer,\n",
    "        flatten_layer,\n",
    "        dense_layer,\n",
    "        prediction_layer\n",
    "    ])\n",
    "    return model\n",
    "\n",
    "def build_model():\n",
    "    model = load_model()\n",
    "    model = add_last_layers(model)\n",
    "\n",
    "    optim = Adam(learning_rate=0.001)\n",
    "    model.compile(loss='binary_crossentropy',\n",
    "                  optimizer='Adam',\n",
    "                  metrics=['accuracy'])\n",
    "    return model\n"
   ]
  },
  {
   "cell_type": "markdown",
   "metadata": {},
   "source": [
    "### Build the model"
   ]
  },
  {
   "cell_type": "code",
   "execution_count": 44,
   "metadata": {},
   "outputs": [],
   "source": [
    "from tensorflow.keras import optimizers\n",
    "from tensorflow.keras.optimizers import Adam\n",
    "\n",
    "def build_model():\n",
    "    model = load_model()\n",
    "    model = add_last_layers(model)\n",
    "\n",
    "    optim = Adam(learning_rate=0.001)\n",
    "    model.compile(loss='binary_crossentropy',\n",
    "                  optimizer='Adam',\n",
    "                  metrics=['accuracy'])\n",
    "    return model"
   ]
  },
  {
   "cell_type": "code",
   "execution_count": 45,
   "metadata": {},
   "outputs": [
    {
     "name": "stdout",
     "output_type": "stream",
     "text": [
      "Model: \"sequential_14\"\n",
      "_________________________________________________________________\n",
      " Layer (type)                Output Shape              Param #   \n",
      "=================================================================\n",
      " vgg16 (Functional)          (None, 3, 3, 512)         14714688  \n",
      "                                                                 \n",
      " dropout_1 (Dropout)         (None, 3, 3, 512)         0         \n",
      "                                                                 \n",
      " flatten_14 (Flatten)        (None, 4608)              0         \n",
      "                                                                 \n",
      " dense_28 (Dense)            (None, 10)                46090     \n",
      "                                                                 \n",
      " dense_29 (Dense)            (None, 1)                 11        \n",
      "                                                                 \n",
      "=================================================================\n",
      "Total params: 14,760,789\n",
      "Trainable params: 46,101\n",
      "Non-trainable params: 14,714,688\n",
      "_________________________________________________________________\n"
     ]
    }
   ],
   "source": [
    "model = build_model()\n",
    "model.summary()"
   ]
  },
  {
   "cell_type": "markdown",
   "metadata": {},
   "source": [
    "### Model Training"
   ]
  },
  {
   "cell_type": "code",
   "execution_count": 46,
   "metadata": {},
   "outputs": [],
   "source": [
    "from tensorflow.keras.callbacks import EarlyStopping"
   ]
  },
  {
   "cell_type": "code",
   "execution_count": 47,
   "metadata": {},
   "outputs": [
    {
     "name": "stdout",
     "output_type": "stream",
     "text": [
      "250/250 [==============================] - 379s 2s/step - loss: 0.6227 - accuracy: 0.7573 - val_loss: 0.4677 - val_accuracy: 0.8300\n"
     ]
    }
   ],
   "source": [
    "# Fitting the model using VGG16 first layers\n",
    "model = build_model()\n",
    "epochs = 1\n",
    "batch_size = 16\n",
    "es = EarlyStopping(patience=3, restore_best_weights=True,verbose=1)\n",
    "\n",
    "history = model.fit(train_generator,\n",
    "                    epochs = epochs,\n",
    "                    validation_data=val_generator,\n",
    "                    batch_size = batch_size, \n",
    "                    verbose = 1, \n",
    "                    callbacks = [es])"
   ]
  },
  {
   "cell_type": "markdown",
   "metadata": {},
   "source": [
    "### Plot Loss & Accuracy charts FUNCTION"
   ]
  },
  {
   "cell_type": "code",
   "execution_count": 14,
   "metadata": {},
   "outputs": [],
   "source": [
    "# Plot loss history function\n",
    "def plot_loss_accuracy(history, title=None):\n",
    "    fig, ax = plt.subplots(1,2, figsize=(16,4))\n",
    "    \n",
    "    # --- LOSS --- \n",
    "    \n",
    "    ax[0].plot(history.history['loss'])\n",
    "    ax[0].plot(history.history['val_loss'])\n",
    "    ax[0].set_title('Model loss')\n",
    "    ax[0].set_ylabel('Loss')\n",
    "    ax[0].set_xlabel('Epoch')\n",
    "    ax[0].set_ylim((0.3,0.8))\n",
    "    ax[0].legend(['Train', 'Val'], loc='best')\n",
    "    ax[0].grid(axis=\"x\",linewidth=0.5)\n",
    "    ax[0].grid(axis=\"y\",linewidth=0.5)\n",
    "    \n",
    "    # --- ACCURACY\n",
    "    \n",
    "    ax[1].plot(history.history['accuracy'])\n",
    "    ax[1].plot(history.history['val_accuracy'])\n",
    "    ax[1].set_title('Model Accuracy')\n",
    "    ax[1].set_ylabel('Accuracy')\n",
    "    ax[1].set_xlabel('Epoch')\n",
    "    ax[1].legend(['Train', 'Val'], loc='best')\n",
    "    ax[1].set_ylim((0.5,1))\n",
    "    ax[1].grid(axis=\"x\",linewidth=0.5)\n",
    "    ax[1].grid(axis=\"y\",linewidth=0.5)\n",
    "    \n",
    "    if title:\n",
    "        fig.suptitle(title)"
   ]
  },
  {
   "cell_type": "code",
   "execution_count": 15,
   "metadata": {},
   "outputs": [
    {
     "data": {
      "image/png": "[encoded data removed]",
      "text/plain": [
       "<Figure size 1600x400 with 2 Axes>"
      ]
     },
     "metadata": {},
     "output_type": "display_data"
    }
   ],
   "source": [
    "# Plot the loss & accuracy curves\n",
    "plot_loss_accuracy(history)"
   ]
  },
  {
   "cell_type": "markdown",
   "metadata": {
    "tags": []
   },
   "source": [
    "### Model Evaluation"
   ]
  },
  {
   "cell_type": "code",
   "execution_count": 16,
   "metadata": {},
   "outputs": [
    {
     "name": "stdout",
     "output_type": "stream",
     "text": [
      "32/32 [==============================] - 57s 2s/step - loss: 0.4398 - accuracy: 0.8090\n",
      "The accuracy on the test set is of 80.90 %\n"
     ]
    }
   ],
   "source": [
    "results = model.evaluate(test_generator, verbose = 1 )\n",
    "print(f'The accuracy on the test set is of {results[1]*100:.2f} %')"
   ]
  }
 ],
 "metadata": {
  "kernelspec": {
   "display_name": "Python 3.8.12 64-bit ('project-cancer-detection')",
   "language": "python",
   "name": "python3"
  },
  "language_info": {
   "codemirror_mode": {
    "name": "ipython",
    "version": 3
   },
   "file_extension": ".py",
   "mimetype": "text/x-python",
   "name": "python",
   "nbconvert_exporter": "python",
   "pygments_lexer": "ipython3",
   "version": "3.8.12"
  },
  "vscode": {
   "interpreter": {
    "hash": "70db0b36e5211eb36e351e70f9c19e45c8a30ea552e0a99dbfd0d7dfcadeae18"
   }
  }
 },
 "nbformat": 4,
 "nbformat_minor": 4
}
